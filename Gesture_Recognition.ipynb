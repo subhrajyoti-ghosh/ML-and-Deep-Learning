{
  "cells": [
    {
      "cell_type": "markdown",
      "metadata": {
        "id": "view-in-github",
        "colab_type": "text"
      },
      "source": [
        "<a href=\"https://colab.research.google.com/github/subhrajyoti-ghosh/ML-and-Deep-Learning/blob/main/Gesture_Recognition.ipynb\" target=\"_parent\"><img src=\"https://colab.research.google.com/assets/colab-badge.svg\" alt=\"Open In Colab\"/></a>"
      ]
    },
    {
      "cell_type": "markdown",
      "metadata": {
        "id": "GvKOy5SoML9d"
      },
      "source": [
        "# Gesture Recognition\n",
        "In this group project, you are going to build a 3D Conv model that will be able to predict the 5 gestures correctly. Please import the following libraries to get started."
      ]
    },
    {
      "cell_type": "code",
      "execution_count": 1,
      "metadata": {
        "id": "FiUcUob4ML9i"
      },
      "outputs": [],
      "source": [
        "import numpy as np\n",
        "import os\n",
        "#from scipy.misc import imresize\n",
        "from imageio import imread\n",
        "import cv2\n",
        "import datetime\n",
        "import os"
      ]
    },
    {
      "cell_type": "markdown",
      "metadata": {
        "id": "CYSDdpkiML9k"
      },
      "source": [
        "We set the random seed so that the results don't vary drastically."
      ]
    },
    {
      "cell_type": "code",
      "execution_count": 2,
      "metadata": {
        "id": "mu9ojBdhML9k"
      },
      "outputs": [],
      "source": [
        "np.random.seed(30)\n",
        "import random as rn\n",
        "rn.seed(30)\n",
        "from keras import backend as K\n",
        "import tensorflow as tf\n",
        "tf.random.set_seed(30)"
      ]
    },
    {
      "cell_type": "markdown",
      "metadata": {
        "id": "-QBcHsJ-ML9l"
      },
      "source": [
        "In this block, you read the folder names for training and validation. You also set the `batch_size` here. Note that you set the batch size in such a way that you are able to use the GPU in full capacity. You keep increasing the batch size until the machine throws an error."
      ]
    },
    {
      "cell_type": "code",
      "source": [
        "from google.colab import drive\n",
        "drive.mount('/content/drive')"
      ],
      "metadata": {
        "colab": {
          "base_uri": "https://localhost:8080/"
        },
        "id": "4zLJ9cIPBWqj",
        "outputId": "de1970c8-259a-4bf6-bc8f-69ef13d65d71"
      },
      "execution_count": 3,
      "outputs": [
        {
          "output_type": "stream",
          "name": "stdout",
          "text": [
            "Mounted at /content/drive\n"
          ]
        }
      ]
    },
    {
      "cell_type": "code",
      "execution_count": 4,
      "metadata": {
        "id": "EswJZU17ML9m"
      },
      "outputs": [],
      "source": [
        "train_doc = np.random.permutation(open('/content/drive/MyDrive/Colab Notebooks/Gesture_Recognition/train.csv').readlines())\n",
        "val_doc = np.random.permutation(open('/content/drive/MyDrive/Colab Notebooks/Gesture_Recognition/val.csv').readlines())\n",
        "batch_size = 32 #experiment with the batch size"
      ]
    },
    {
      "cell_type": "code",
      "source": [
        "#train_class = [x.split(\";\")[1] for x in train_doc]\n",
        "#set(train_class)\n",
        "#\"WIN_20180926_16_54_08_Pro_Right_Swipe_new;Right_Swipe_new\".split(\";\")[1]\n",
        "train_class = []\n",
        "for td in train_doc:\n",
        "  if td.split(\";\")[1] == \"Left Swipe_new_Left Swipe_new\" or td.split(\";\")[1] == \"Left_Swipe_new\":\n",
        "    train_class.append(\"Left Swipe\")\n",
        "  if td.split(\";\")[1] == \"Right Swipe_new\" or td.split(\";\")[1] == \"Right_Swipe_new\":\n",
        "    train_class.append(\"Right Swipe\")\n",
        "  if td.split(\";\")[1] == \"Stop Gesture_new\" or td.split(\";\")[1] == \"Stop_new\":\n",
        "    train_class.append(\"Stop\")\n",
        "  if td.split(\";\")[1] == \"Thumbs Down_new\" or td.split(\";\")[1] == \"Thumbs_Down_new\":\n",
        "    train_class.append(\"Thumbs Down\")\n",
        "  if td.split(\";\")[1] == \"Thumbs Up_new\" or td.split(\";\")[1] == \"Thumbs_Up_new\":\n",
        "    train_class.append(\"Thumbs Up\")"
      ],
      "metadata": {
        "id": "Vz32fMWKPBKp"
      },
      "execution_count": 5,
      "outputs": []
    },
    {
      "cell_type": "code",
      "source": [
        "#val_class = [x.split(\";\")[1] for x in val_doc]\n",
        "#set(val_class)\n",
        "val_class = []\n",
        "for vc in val_doc:\n",
        "  if vc.split(\";\")[1] == \"Left Swipe_new_Left Swipe_new\" or vc.split(\";\")[1] == \"Left_Swipe_new\":\n",
        "    val_class.append(\"Left Swipe\")\n",
        "  if vc.split(\";\")[1] == \"Right Swipe_new\" or vc.split(\";\")[1] == \"Right_Swipe_new\":\n",
        "    val_class.append(\"Right Swipe\")\n",
        "  if vc.split(\";\")[1] == \"Stop Gesture_new\" or vc.split(\";\")[1] == \"Stop_new\":\n",
        "    val_class.append(\"Stop\")\n",
        "  if vc.split(\";\")[1] == \"Thumbs Down_new\" or vc.split(\";\")[1] == \"Thumbs_Down_new\":\n",
        "    val_class.append(\"Thumbs Down\")\n",
        "  if vc.split(\";\")[1] == \"Thumbs Up_new\" or vc.split(\";\")[1] == \"Thumbs_Up_new\":\n",
        "    val_class.append(\"Thumbs Up\")\n",
        "#set(val_class)"
      ],
      "metadata": {
        "id": "5DmsFJETT8aO"
      },
      "execution_count": 6,
      "outputs": []
    },
    {
      "cell_type": "markdown",
      "metadata": {
        "id": "AcFf9zljML9m"
      },
      "source": [
        "## Generator\n",
        "This is one of the most important part of the code. The overall structure of the generator has been given. In the generator, you are going to preprocess the images as you have images of 2 different dimensions as well as create a batch of video frames. You have to experiment with `img_idx`, `y`,`z` and normalization such that you get high accuracy."
      ]
    },
    {
      "cell_type": "code",
      "source": [
        "def normalize(input_image, input_mask):\n",
        "  input_image = tf.cast(input_image, tf.float32) / 255.0\n",
        "  #input_mask -= 1\n",
        "  return input_image, input_mask"
      ],
      "metadata": {
        "id": "0huKnvnEKjgn"
      },
      "execution_count": 7,
      "outputs": []
    },
    {
      "cell_type": "code",
      "source": [
        "def load_image(datapoint):\n",
        "  input_image = tf.image.resize(datapoint['image'], (128, 128))\n",
        "  input_mask = tf.image.resize(datapoint['segmentation_mask'], (128, 128))\n",
        "  \n",
        "  input_image, input_mask = normalize(input_image, input_mask)\n",
        "  \n",
        "  return input_image, input_mask"
      ],
      "metadata": {
        "id": "pMac-AhVLY2Q"
      },
      "execution_count": 8,
      "outputs": []
    },
    {
      "cell_type": "code",
      "execution_count": 9,
      "metadata": {
        "id": "_QnUDgOMML9n"
      },
      "outputs": [],
      "source": [
        "def generator(source_path, folder_list, batch_size):\n",
        "    y = 50\n",
        "    z = 50  \n",
        "    print( 'Source path = ', source_path, '; batch size =', batch_size)\n",
        "    img_idx = [0,3,7,8,10]#create a list of image numbers you want to use for a particular video\n",
        "    while True:\n",
        "        t = np.random.permutation(folder_list)\n",
        "        num_batches = len(folder_list)//batch_size # calculate the number of batches\n",
        "        for batch in range(num_batches): # we iterate over the number of batches\n",
        "            batch_data = np.zeros((batch_size,5,y,z,3)) # x is the number of images you use for each video, (y,z) is the final size of the input images and 3 is the number of channels RGB\n",
        "            batch_labels = np.zeros((batch_size,5)) # batch_labels is the one hot representation of the output\n",
        "            for folder in range(batch_size): # iterate over the batch_size\n",
        "                imgs = os.listdir(source_path+'/'+ t[folder + (batch*batch_size)].split(';')[0]) # read all the images in the folder\n",
        "                for idx,item in enumerate(img_idx): #  Iterate iver the frames/images of a folder to read them in\n",
        "                    image = imread(source_path+'/'+ t[folder + (batch*batch_size)].strip().split(';')[0]+'/'+imgs[item]).astype(np.float32)\n",
        "                    \n",
        "                    print(\"Batch 1 : \",source_path+'/'+ t[folder + (batch*batch_size)].strip().split(';')[0]+'/'+imgs[item])\n",
        "                    #crop the images and resize them. Note that the images are of 2 different shape \n",
        "                    #and the conv3D will throw error if the inputs in a batch have different shapes\n",
        "                    batch_data[folder,idx,:,:,0] = tf.image.per_image_standardization(cv2.resize(image,(y,z)))[:,:,0] #normalise and feed in the image\n",
        "                    batch_data[folder,idx,:,:,1] = tf.image.per_image_standardization(cv2.resize(image,(y,z)))[:,:,1] #normalise and feed in the image\n",
        "                    batch_data[folder,idx,:,:,2] = tf.image.per_image_standardization(cv2.resize(image,(y,z)))[:,:,2] #normalise and feed in the image\n",
        "                    \n",
        "                batch_labels[folder, int(t[folder + (batch*batch_size)].strip().split(';')[2])] = 1\n",
        "            yield batch_data, batch_labels #you yield the batch_data and the batch_labels, remember what does yield do\n",
        "\n",
        "        \n",
        "        # write the code for the remaining data points which are left after full batches\n",
        "        num_batches = len(folder_list)%batch_size # calculate the number of batches\n",
        "        for batch in range(num_batches): # we iterate over the number of batches\n",
        "            batch_data = np.zeros((batch_size,5,y,z,3)) # x is the number of images you use for each video, (y,z) is the final size of the input images and 3 is the number of channels RGB\n",
        "            batch_labels = np.zeros((batch_size,5)) # batch_labels is the one hot representation of the output\n",
        "            for folder in range(batch_size): # iterate over the batch_size\n",
        "                imgs = os.listdir(source_path+'/'+ t[folder + (batch*batch_size)].split(';')[0]) # read all the images in the folder\n",
        "                for idx,item in enumerate(img_idx): #  Iterate iver the frames/images of a folder to read them in\n",
        "                    image = imread(source_path+'/'+ t[folder + (batch*batch_size)].strip().split(';')[0]+'/'+imgs[item]).astype(np.float32)\n",
        "                    \n",
        "                    print(\"Batch 2 : \",source_path+'/'+ t[folder + (batch*batch_size)].strip().split(';')[0]+'/'+imgs[item])\n",
        "                    #crop the images and resize them. Note that the images are of 2 different shape \n",
        "                    #and the conv3D will throw error if the inputs in a batch have different shapes\n",
        "                    \n",
        "                    batch_data[folder,idx,:,:,0] = tf.image.per_image_standardization(cv2.resize(image,(y,z)))[:,:,0] #normalise and feed in the image\n",
        "                    batch_data[folder,idx,:,:,1] = tf.image.per_image_standardization(cv2.resize(image,(y,z)))[:,:,1] #normalise and feed in the image\n",
        "                    batch_data[folder,idx,:,:,2] = tf.image.per_image_standardization(cv2.resize(image,(y,z)))[:,:,2] #normalise and feed in the image\n",
        "                    \n",
        "                batch_labels[folder, int(t[folder + (batch*batch_size)].strip().split(';')[2])] = 1\n",
        "            yield batch_data, batch_labels #you yield the batch_data and the batch_labels, remember what does yield do\n"
      ]
    },
    {
      "cell_type": "markdown",
      "metadata": {
        "id": "LAGtENAHML9o"
      },
      "source": [
        "Note here that a video is represented above in the generator as (number of images, height, width, number of channels). Take this into consideration while creating the model architecture."
      ]
    },
    {
      "cell_type": "code",
      "execution_count": 10,
      "metadata": {
        "id": "vV20B0xRML9p",
        "colab": {
          "base_uri": "https://localhost:8080/"
        },
        "outputId": "38c94132-64fd-4809-d284-da4145366dbd"
      },
      "outputs": [
        {
          "output_type": "stream",
          "name": "stdout",
          "text": [
            "# training sequences = 663\n",
            "# validation sequences = 100\n",
            "# epochs = 5\n"
          ]
        }
      ],
      "source": [
        "curr_dt_time = datetime.datetime.now()\n",
        "train_path = '/content/drive/MyDrive/Colab Notebooks/Gesture_Recognition/train'\n",
        "val_path = '/content/drive/MyDrive/Colab Notebooks/Gesture_Recognition/train'\n",
        "num_train_sequences = len(train_doc)\n",
        "print('# training sequences =', num_train_sequences)\n",
        "num_val_sequences = len(val_doc)\n",
        "print('# validation sequences =', num_val_sequences)\n",
        "num_epochs = 5 # choose the number of epochs\n",
        "print ('# epochs =', num_epochs)"
      ]
    },
    {
      "cell_type": "code",
      "source": [
        "def test_gen(source_path, folder_list, batch_size):\n",
        "    print( 'Source path = ', source_path, '; batch size =', batch_size)\n",
        "    img_idx = [0,3,7,8,10]#create a list of image numbers you want to use for a particular video\n",
        "    #while True:\n",
        "    t = np.random.permutation(folder_list)\n",
        "    num_batches = len(folder_list)//batch_size # calculate the number of batches\n",
        "    for batch in range(num_batches): # we iterate over the number of batches\n",
        "        batch_data = np.zeros((batch_size,5,100,100,3)) # x is the number of images you use for each video, (y,z) is the final size of the input images and 3 is the number of channels RGB\n",
        "        batch_labels = np.zeros((batch_size,5)) # batch_labels is the one hot representation of the output\n",
        "        for folder in range(batch_size): # iterate over the batch_size\n",
        "            imgs = os.listdir(source_path+'/'+ t[folder + (batch*batch_size)].split(';')[0]) # read all the images in the folder\n",
        "            for idx,item in enumerate(img_idx): #  Iterate iver the frames/images of a folder to read them in\n",
        "                image = imread(source_path+'/'+ t[folder + (batch*batch_size)].strip().split(';')[0]+'/'+imgs[item]).astype(np.float32)\n",
        "                \n",
        "                #crop the images and resize them. Note that the images are of 2 different shape \n",
        "                #and the conv3D will throw error if the inputs in a batch have different shapes\n",
        "                #img0 = image[:,:,0]\n",
        "                print(type(image[:,:,1]))\n",
        "                print(image[:,:,0].shape)\n",
        "                print(tf.image.per_image_standardization(cv2.resize(image,(255,255)))[:,:,0])\n",
        "                print(tf.image.per_image_standardization(cv2.resize(image,(255,255)))[:,:,0].shape)\n",
        "                return\n",
        "                #batch_data[folder,idx,:,:,0] = normalize(cv2.resize(image,(255,255)),0) #normalise and feed in the image\n",
        "                #batch_data[folder,idx,:,:,1] = normalize(cv2.resize(image,(255,255)),1) #normalise and feed in the image\n",
        "                #batch_data[folder,idx,:,:,2] = normalize(cv2.resize(image,(255,255)),2) #normalise and feed in the image\n",
        "                \n",
        "            batch_labels[folder, int(t[folder + (batch*batch_size)].strip().split(';')[2])] = 1\n",
        "            #yield batch_data, batch_labels #you yield the batch_data and the batch_labels, remember what does yield do\n",
        "    print(batch_labels)\n"
      ],
      "metadata": {
        "id": "MQCWxUJZ4ctO"
      },
      "execution_count": 12,
      "outputs": []
    },
    {
      "cell_type": "code",
      "source": [
        "test_gen(train_path, train_doc, batch_size)"
      ],
      "metadata": {
        "colab": {
          "base_uri": "https://localhost:8080/"
        },
        "id": "pxdLgCQ044cW",
        "outputId": "e1b2db5c-d64e-44ec-cd95-a8289f0143e2"
      },
      "execution_count": null,
      "outputs": [
        {
          "output_type": "stream",
          "name": "stdout",
          "text": [
            "Source path =  /content/drive/MyDrive/Colab Notebooks/Gesture_Recognition/train ; batch size = 32\n",
            "<class 'imageio.core.util.Array'>\n",
            "(120, 160)\n",
            "tf.Tensor(\n",
            "[[ 2.2814941   2.3018813   2.3277047  ... -0.36896268 -0.35929766\n",
            "  -0.352502  ]\n",
            " [ 2.291008    2.3071976   2.3277047  ... -0.36896268 -0.36106983\n",
            "  -0.35567334]\n",
            " [ 2.3127542   2.31935     2.3277047  ... -0.36896268 -0.36512062\n",
            "  -0.36292195]\n",
            " ...\n",
            " [-0.7416668  -0.74846244 -0.76132977 ... -1.1674874  -1.1747097\n",
            "  -1.1793066 ]\n",
            " [-0.79240775 -0.7992034  -0.8105783  ... -1.1669899  -1.170659\n",
            "  -1.172058  ]\n",
            " [-0.81460655 -0.8214022  -0.8321242  ... -1.1667722  -1.1688867\n",
            "  -1.1688867 ]], shape=(255, 255), dtype=float32)\n",
            "(255, 255)\n"
          ]
        }
      ]
    },
    {
      "cell_type": "markdown",
      "metadata": {
        "id": "7BsbGiuoML9q"
      },
      "source": [
        "## Model\n",
        "Here you make the model using different functionalities that Keras provides. Remember to use `Conv3D` and `MaxPooling3D` and not `Conv2D` and `Maxpooling2D` for a 3D convolution model. You would want to use `TimeDistributed` while building a Conv2D + RNN model. Also remember that the last layer is the softmax. Design the network in such a way that the model is able to give good accuracy on the least number of parameters so that it can fit in the memory of the webcam."
      ]
    },
    {
      "cell_type": "code",
      "execution_count": 11,
      "metadata": {
        "id": "f0AFjXODML9r"
      },
      "outputs": [],
      "source": [
        "from keras.models import Sequential, Model\n",
        "from keras.layers import Dense, GRU, Flatten, TimeDistributed, Flatten, BatchNormalization, Activation\n",
        "from keras.layers.convolutional import Conv3D, MaxPooling3D\n",
        "from keras.callbacks import ModelCheckpoint, ReduceLROnPlateau\n",
        "from keras import optimizers\n",
        "import tensorflow.keras as keras\n",
        "\n",
        "from tensorflow.keras.applications.resnet50 import ResNet50\n",
        "from tensorflow.keras.layers import Flatten,Dense,TimeDistributed,GRU,Conv2D\n",
        "#write your model here"
      ]
    },
    {
      "cell_type": "code",
      "source": [
        "resnet = ResNet50(include_top=False,weights='imagenet',input_shape=(224,224,3))"
      ],
      "metadata": {
        "id": "7mQma7phe5By",
        "colab": {
          "base_uri": "https://localhost:8080/"
        },
        "outputId": "44d424a0-40a7-4555-d227-515b9af3a873"
      },
      "execution_count": 12,
      "outputs": [
        {
          "output_type": "stream",
          "name": "stdout",
          "text": [
            "Downloading data from https://storage.googleapis.com/tensorflow/keras-applications/resnet/resnet50_weights_tf_dim_ordering_tf_kernels_notop.h5\n",
            "94773248/94765736 [==============================] - 1s 0us/step\n",
            "94781440/94765736 [==============================] - 1s 0us/step\n"
          ]
        }
      ]
    },
    {
      "cell_type": "code",
      "source": [
        "for layer in resnet.layers[:-10]:\n",
        "    layer.trainable=False"
      ],
      "metadata": {
        "id": "SRd1W63Be5o_"
      },
      "execution_count": 13,
      "outputs": []
    },
    {
      "cell_type": "code",
      "source": [
        "model = Sequential([resnet,Flatten(),Dense(64,activation='relu'),Dense(5,activation='softmax')])"
      ],
      "metadata": {
        "id": "YXUqybEOe7pv"
      },
      "execution_count": 14,
      "outputs": []
    },
    {
      "cell_type": "code",
      "source": [
        "model.summary()"
      ],
      "metadata": {
        "colab": {
          "base_uri": "https://localhost:8080/"
        },
        "id": "kBi7XfHQe-qf",
        "outputId": "9af86b8e-8f3e-43e9-b383-0684892a42ca"
      },
      "execution_count": 15,
      "outputs": [
        {
          "output_type": "stream",
          "name": "stdout",
          "text": [
            "Model: \"sequential\"\n",
            "_________________________________________________________________\n",
            " Layer (type)                Output Shape              Param #   \n",
            "=================================================================\n",
            " resnet50 (Functional)       (None, 7, 7, 2048)        23587712  \n",
            "                                                                 \n",
            " flatten (Flatten)           (None, 100352)            0         \n",
            "                                                                 \n",
            " dense (Dense)               (None, 64)                6422592   \n",
            "                                                                 \n",
            " dense_1 (Dense)             (None, 5)                 325       \n",
            "                                                                 \n",
            "=================================================================\n",
            "Total params: 30,010,629\n",
            "Trainable params: 10,888,581\n",
            "Non-trainable params: 19,122,048\n",
            "_________________________________________________________________\n"
          ]
        }
      ]
    },
    {
      "cell_type": "code",
      "source": [
        "resnet = ResNet50(include_top=False,weights='imagenet',input_shape=(224,224,3))\n",
        "cnn =Sequential([resnet])\n",
        "cnn.add(Conv2D(64,(2,2),strides=(1,1)))\n",
        "cnn.add(Conv2D(16,(3,3),strides=(1,1)))\n",
        "cnn.add(Flatten())"
      ],
      "metadata": {
        "id": "F0wATcwRc2Rk"
      },
      "execution_count": 16,
      "outputs": []
    },
    {
      "cell_type": "code",
      "source": [
        "print(cnn.summary())"
      ],
      "metadata": {
        "colab": {
          "base_uri": "https://localhost:8080/"
        },
        "id": "rTZ3AB027cm5",
        "outputId": "f028f2c2-6155-41d7-9569-4289daad8529"
      },
      "execution_count": 17,
      "outputs": [
        {
          "output_type": "stream",
          "name": "stdout",
          "text": [
            "Model: \"sequential_1\"\n",
            "_________________________________________________________________\n",
            " Layer (type)                Output Shape              Param #   \n",
            "=================================================================\n",
            " resnet50 (Functional)       (None, 7, 7, 2048)        23587712  \n",
            "                                                                 \n",
            " conv2d (Conv2D)             (None, 6, 6, 64)          524352    \n",
            "                                                                 \n",
            " conv2d_1 (Conv2D)           (None, 4, 4, 16)          9232      \n",
            "                                                                 \n",
            " flatten_1 (Flatten)         (None, 256)               0         \n",
            "                                                                 \n",
            "=================================================================\n",
            "Total params: 24,121,296\n",
            "Trainable params: 24,068,176\n",
            "Non-trainable params: 53,120\n",
            "_________________________________________________________________\n",
            "None\n"
          ]
        }
      ]
    },
    {
      "cell_type": "code",
      "source": [
        "model = Sequential()\n",
        "model.add(TimeDistributed(cnn,input_shape=(30,224,224,3)))\n",
        "model.add(GRU(16,input_shape=(None,30,256),return_sequences=True))\n",
        "model.add(GRU(8))\n",
        "model.add(Dense(5,activation='softmax'))"
      ],
      "metadata": {
        "id": "x5Fmrklcc6G8"
      },
      "execution_count": 18,
      "outputs": []
    },
    {
      "cell_type": "code",
      "source": [
        "model.summary()"
      ],
      "metadata": {
        "colab": {
          "base_uri": "https://localhost:8080/"
        },
        "id": "0SWuC4aJv02t",
        "outputId": "893dc306-0602-49ce-9d34-af8f979a84e2"
      },
      "execution_count": 19,
      "outputs": [
        {
          "output_type": "stream",
          "name": "stdout",
          "text": [
            "Model: \"sequential_2\"\n",
            "_________________________________________________________________\n",
            " Layer (type)                Output Shape              Param #   \n",
            "=================================================================\n",
            " time_distributed (TimeDistr  (None, 30, 256)          24121296  \n",
            " ibuted)                                                         \n",
            "                                                                 \n",
            " gru (GRU)                   (None, 30, 16)            13152     \n",
            "                                                                 \n",
            " gru_1 (GRU)                 (None, 8)                 624       \n",
            "                                                                 \n",
            " dense_2 (Dense)             (None, 5)                 45        \n",
            "                                                                 \n",
            "=================================================================\n",
            "Total params: 24,135,117\n",
            "Trainable params: 24,081,997\n",
            "Non-trainable params: 53,120\n",
            "_________________________________________________________________\n"
          ]
        }
      ]
    },
    {
      "cell_type": "code",
      "source": [
        "resnet = tf.keras.applications.ResNet50(include_top=False,weights='imagenet',input_shape=(224,224,3))\n",
        "cnn = tf.keras.Sequential([resnet])\n",
        "cnn.add(tf.keras.layers.Conv2D(64,(2,2),strides=(1,1)))\n",
        "cnn.add(tf.keras.layers.Conv2D(16,(3,3),strides=(1,1)))\n",
        "cnn.add(tf.keras.layers.Flatten())\n",
        "cnn.add(tf.keras.layers.Dense(64))"
      ],
      "metadata": {
        "id": "BhnnfL6zrCJG"
      },
      "execution_count": 20,
      "outputs": []
    },
    {
      "cell_type": "code",
      "source": [
        "model = Sequential()\n",
        "model.add(TimeDistributed(cnn,input_shape=(30,224,224,3)))\n",
        "model.add(GRU(16,return_sequences=True))\n",
        "model.add(GRU(8))\n",
        "#model.add(Dense(5,activation='softmax'))"
      ],
      "metadata": {
        "id": "UKRPkp-vnq-g"
      },
      "execution_count": 21,
      "outputs": []
    },
    {
      "cell_type": "code",
      "source": [
        "\"\"\"inputs = tf.keras.layers.Input(shape=(224,224,3))\n",
        "x = cnn(inputs)\n",
        "x = tf.keras.layers.RepeatVector(n=30)(x)\n",
        "x = tf.keras.layers.GRU(16,return_sequences=True)(x)\n",
        "x = tf.keras.layers.GRU(8)(x)\n",
        "outputs = tf.keras.layers.Dense(5,activation='softmax')(x)\n",
        "model = tf.keras.Model(inputs, outputs)\"\"\""
      ],
      "metadata": {
        "colab": {
          "base_uri": "https://localhost:8080/",
          "height": 53
        },
        "id": "LkDv54DxrDUq",
        "outputId": "067917e7-c3a0-4659-f1a0-ef61805de466"
      },
      "execution_count": 22,
      "outputs": [
        {
          "output_type": "execute_result",
          "data": {
            "application/vnd.google.colaboratory.intrinsic+json": {
              "type": "string"
            },
            "text/plain": [
              "\"inputs = tf.keras.layers.Input(shape=(224,224,3))\\nx = cnn(inputs)\\nx = tf.keras.layers.RepeatVector(n=30)(x)\\nx = tf.keras.layers.GRU(16,return_sequences=True)(x)\\nx = tf.keras.layers.GRU(8)(x)\\noutputs = tf.keras.layers.Dense(5,activation='softmax')(x)\\nmodel = tf.keras.Model(inputs, outputs)\""
            ]
          },
          "metadata": {},
          "execution_count": 22
        }
      ]
    },
    {
      "cell_type": "markdown",
      "metadata": {
        "id": "1ZvCE9G-ML9s"
      },
      "source": [
        "Now that you have written the model, the next step is to `compile` the model. When you print the `summary` of the model, you'll see the total number of parameters you have to train."
      ]
    },
    {
      "cell_type": "code",
      "execution_count": 23,
      "metadata": {
        "scrolled": true,
        "id": "uXLLQf6sML9s",
        "colab": {
          "base_uri": "https://localhost:8080/"
        },
        "outputId": "e67a707c-ecac-4866-d119-1e75e5627d82"
      },
      "outputs": [
        {
          "output_type": "stream",
          "name": "stdout",
          "text": [
            "Model: \"sequential_4\"\n",
            "_________________________________________________________________\n",
            " Layer (type)                Output Shape              Param #   \n",
            "=================================================================\n",
            " time_distributed_1 (TimeDis  (None, 30, 64)           24137744  \n",
            " tributed)                                                       \n",
            "                                                                 \n",
            " gru_2 (GRU)                 (None, 30, 16)            3936      \n",
            "                                                                 \n",
            " gru_3 (GRU)                 (None, 8)                 624       \n",
            "                                                                 \n",
            "=================================================================\n",
            "Total params: 24,142,304\n",
            "Trainable params: 24,089,184\n",
            "Non-trainable params: 53,120\n",
            "_________________________________________________________________\n",
            "None\n"
          ]
        }
      ],
      "source": [
        "optimiser = tf.keras.optimizers.SGD(learning_rate=0.01, momentum=0.0, nesterov=False, name='SGD') #write your optimizer\n",
        "model.compile(optimizer=optimiser, loss=tf.keras.losses.SparseCategoricalCrossentropy(), metrics=['accuracy'])\n",
        "print (model.summary())"
      ]
    },
    {
      "cell_type": "markdown",
      "metadata": {
        "id": "niU4waGxML9t"
      },
      "source": [
        "Let us create the `train_generator` and the `val_generator` which will be used in `.fit_generator`."
      ]
    },
    {
      "cell_type": "code",
      "execution_count": 24,
      "metadata": {
        "id": "9tg38cVlML9t"
      },
      "outputs": [],
      "source": [
        "train_generator = generator(train_path, train_doc, batch_size)\n",
        "val_generator = generator(val_path, val_doc, batch_size)"
      ]
    },
    {
      "cell_type": "code",
      "execution_count": 25,
      "metadata": {
        "id": "rP4hPQXhML9t",
        "colab": {
          "base_uri": "https://localhost:8080/"
        },
        "outputId": "5da32799-f827-4cae-e2c2-04194cfa8f40"
      },
      "outputs": [
        {
          "output_type": "stream",
          "name": "stdout",
          "text": [
            "WARNING:tensorflow:`period` argument is deprecated. Please use `save_freq` to specify the frequency in number of batches seen.\n"
          ]
        }
      ],
      "source": [
        "model_name = 'model_init' + '_' + str(curr_dt_time).replace(' ','').replace(':','_') + '/'\n",
        "    \n",
        "if not os.path.exists(model_name):\n",
        "    os.mkdir(model_name)\n",
        "        \n",
        "filepath = model_name + 'model-{epoch:05d}-{loss:.5f}-{categorical_accuracy:.5f}-{val_loss:.5f}-{val_categorical_accuracy:.5f}.h5'\n",
        "\n",
        "checkpoint = ModelCheckpoint(filepath, monitor='val_loss', verbose=1, save_best_only=False, save_weights_only=False, mode='auto', period=1)\n",
        "\n",
        "LR = [tf.keras.callbacks.EarlyStopping(patience=2),\n",
        "      tf.keras.callbacks.ModelCheckpoint(filepath=filepath),#'model.{epoch:02d}-{val_loss:.2f}.h5'),\n",
        "    tf.keras.callbacks.TensorBoard(log_dir='./logs')] # write the REducelronplateau code here\n",
        "callbacks_list = [checkpoint, LR]\n",
        "\n",
        "#model.fit_generator(train_generator, epochs=10, callbacks=LR)"
      ]
    },
    {
      "cell_type": "markdown",
      "metadata": {
        "id": "Sv1aPFd7ML9u"
      },
      "source": [
        "The `steps_per_epoch` and `validation_steps` are used by `fit_generator` to decide the number of next() calls it need to make."
      ]
    },
    {
      "cell_type": "code",
      "execution_count": 26,
      "metadata": {
        "id": "kAI3EnoyML9u"
      },
      "outputs": [],
      "source": [
        "if (num_train_sequences%batch_size) == 0:\n",
        "    steps_per_epoch = int(num_train_sequences/batch_size)\n",
        "else:\n",
        "    steps_per_epoch = (num_train_sequences//batch_size) + 1\n",
        "\n",
        "if (num_val_sequences%batch_size) == 0:\n",
        "    validation_steps = int(num_val_sequences/batch_size)\n",
        "else:\n",
        "    validation_steps = (num_val_sequences//batch_size) + 1"
      ]
    },
    {
      "cell_type": "markdown",
      "metadata": {
        "id": "BIW1UvmaML9u"
      },
      "source": [
        "Let us now fit the model. This will start training the model and with the help of the checkpoints, you'll be able to save the model at the end of each epoch."
      ]
    },
    {
      "cell_type": "code",
      "source": [
        "model.fit_generator(train_generator, steps_per_epoch=steps_per_epoch, epochs=num_epochs, verbose=1, \n",
        "                    callbacks=callbacks_list,validation_data=val_generator, \n",
        "                    validation_steps=validation_steps,\n",
        "                    class_weight=None,\n",
        "                    workers=1,\n",
        "                    initial_epoch=0)"
      ],
      "metadata": {
        "colab": {
          "base_uri": "https://localhost:8080/",
          "height": 1000
        },
        "id": "6mUlX-L1rUuO",
        "outputId": "d76df78f-2b94-403c-f71a-3155f7f7d72a"
      },
      "execution_count": 27,
      "outputs": [
        {
          "output_type": "stream",
          "name": "stderr",
          "text": [
            "/usr/local/lib/python3.7/dist-packages/ipykernel_launcher.py:6: UserWarning: `Model.fit_generator` is deprecated and will be removed in a future version. Please use `Model.fit`, which supports generators.\n",
            "  \n"
          ]
        },
        {
          "output_type": "stream",
          "name": "stdout",
          "text": [
            "Source path =  /content/drive/MyDrive/Colab Notebooks/Gesture_Recognition/train ; batch size = 32\n",
            "Batch 1 :  /content/drive/MyDrive/Colab Notebooks/Gesture_Recognition/train/WIN_20180926_17_24_58_Pro_Right_Swipe_new/WIN_20180926_17_24_58_Pro_00051.png\n",
            "Batch 1 :  /content/drive/MyDrive/Colab Notebooks/Gesture_Recognition/train/WIN_20180926_17_24_58_Pro_Right_Swipe_new/WIN_20180926_17_24_58_Pro_00013.png\n",
            "Batch 1 :  /content/drive/MyDrive/Colab Notebooks/Gesture_Recognition/train/WIN_20180926_17_24_58_Pro_Right_Swipe_new/WIN_20180926_17_24_58_Pro_00023.png\n",
            "Batch 1 :  /content/drive/MyDrive/Colab Notebooks/Gesture_Recognition/train/WIN_20180926_17_24_58_Pro_Right_Swipe_new/WIN_20180926_17_24_58_Pro_00017.png\n",
            "Batch 1 :  /content/drive/MyDrive/Colab Notebooks/Gesture_Recognition/train/WIN_20180926_17_24_58_Pro_Right_Swipe_new/WIN_20180926_17_24_58_Pro_00053.png\n",
            "Batch 1 :  /content/drive/MyDrive/Colab Notebooks/Gesture_Recognition/train/WIN_20180926_17_35_17_Pro_Stop_new/WIN_20180926_17_35_17_Pro_00006.png\n",
            "Batch 1 :  /content/drive/MyDrive/Colab Notebooks/Gesture_Recognition/train/WIN_20180926_17_35_17_Pro_Stop_new/WIN_20180926_17_35_17_Pro_00030.png\n",
            "Batch 1 :  /content/drive/MyDrive/Colab Notebooks/Gesture_Recognition/train/WIN_20180926_17_35_17_Pro_Stop_new/WIN_20180926_17_35_17_Pro_00034.png\n",
            "Batch 1 :  /content/drive/MyDrive/Colab Notebooks/Gesture_Recognition/train/WIN_20180926_17_35_17_Pro_Stop_new/WIN_20180926_17_35_17_Pro_00024.png\n",
            "Batch 1 :  /content/drive/MyDrive/Colab Notebooks/Gesture_Recognition/train/WIN_20180926_17_35_17_Pro_Stop_new/WIN_20180926_17_35_17_Pro_00046.png\n",
            "Batch 1 :  /content/drive/MyDrive/Colab Notebooks/Gesture_Recognition/train/WIN_20180925_17_58_10_Pro_Stop_new/WIN_20180925_17_58_10_Pro_00008.png\n",
            "Batch 1 :  /content/drive/MyDrive/Colab Notebooks/Gesture_Recognition/train/WIN_20180925_17_58_10_Pro_Stop_new/WIN_20180925_17_58_10_Pro_00020.png\n",
            "Batch 1 :  /content/drive/MyDrive/Colab Notebooks/Gesture_Recognition/train/WIN_20180925_17_58_10_Pro_Stop_new/WIN_20180925_17_58_10_Pro_00022.png\n",
            "Batch 1 :  /content/drive/MyDrive/Colab Notebooks/Gesture_Recognition/train/WIN_20180925_17_58_10_Pro_Stop_new/WIN_20180925_17_58_10_Pro_00006.png\n",
            "Batch 1 :  /content/drive/MyDrive/Colab Notebooks/Gesture_Recognition/train/WIN_20180925_17_58_10_Pro_Stop_new/WIN_20180925_17_58_10_Pro_00018.png\n",
            "Batch 1 :  /content/drive/MyDrive/Colab Notebooks/Gesture_Recognition/train/WIN_20180925_17_20_16_Pro_Thumbs_Up_new/WIN_20180925_17_20_16_Pro_00018.png\n",
            "Batch 1 :  /content/drive/MyDrive/Colab Notebooks/Gesture_Recognition/train/WIN_20180925_17_20_16_Pro_Thumbs_Up_new/WIN_20180925_17_20_16_Pro_00021.png\n",
            "Batch 1 :  /content/drive/MyDrive/Colab Notebooks/Gesture_Recognition/train/WIN_20180925_17_20_16_Pro_Thumbs_Up_new/WIN_20180925_17_20_16_Pro_00024.png\n",
            "Batch 1 :  /content/drive/MyDrive/Colab Notebooks/Gesture_Recognition/train/WIN_20180925_17_20_16_Pro_Thumbs_Up_new/WIN_20180925_17_20_16_Pro_00023.png\n",
            "Batch 1 :  /content/drive/MyDrive/Colab Notebooks/Gesture_Recognition/train/WIN_20180925_17_20_16_Pro_Thumbs_Up_new/WIN_20180925_17_20_16_Pro_00019.png\n",
            "Batch 1 :  /content/drive/MyDrive/Colab Notebooks/Gesture_Recognition/train/WIN_20180926_16_58_12_Pro_Left_Swipe_new/WIN_20180926_16_58_12_Pro_00026.png\n",
            "Batch 1 :  /content/drive/MyDrive/Colab Notebooks/Gesture_Recognition/train/WIN_20180926_16_58_12_Pro_Left_Swipe_new/WIN_20180926_16_58_12_Pro_00056.png\n",
            "Batch 1 :  /content/drive/MyDrive/Colab Notebooks/Gesture_Recognition/train/WIN_20180926_16_58_12_Pro_Left_Swipe_new/WIN_20180926_16_58_12_Pro_00040.png\n",
            "Batch 1 :  /content/drive/MyDrive/Colab Notebooks/Gesture_Recognition/train/WIN_20180926_16_58_12_Pro_Left_Swipe_new/WIN_20180926_16_58_12_Pro_00064.png\n",
            "Batch 1 :  /content/drive/MyDrive/Colab Notebooks/Gesture_Recognition/train/WIN_20180926_16_58_12_Pro_Left_Swipe_new/WIN_20180926_16_58_12_Pro_00046.png\n",
            "Batch 1 :  /content/drive/MyDrive/Colab Notebooks/Gesture_Recognition/train/WIN_20180926_17_33_51_Pro_Thumbs_Up_new/WIN_20180926_17_33_51_Pro_00054.png\n",
            "Batch 1 :  /content/drive/MyDrive/Colab Notebooks/Gesture_Recognition/train/WIN_20180926_17_33_51_Pro_Thumbs_Up_new/WIN_20180926_17_33_51_Pro_00012.png\n",
            "Batch 1 :  /content/drive/MyDrive/Colab Notebooks/Gesture_Recognition/train/WIN_20180926_17_33_51_Pro_Thumbs_Up_new/WIN_20180926_17_33_51_Pro_00042.png\n",
            "Batch 1 :  /content/drive/MyDrive/Colab Notebooks/Gesture_Recognition/train/WIN_20180926_17_33_51_Pro_Thumbs_Up_new/WIN_20180926_17_33_51_Pro_00060.png\n",
            "Batch 1 :  /content/drive/MyDrive/Colab Notebooks/Gesture_Recognition/train/WIN_20180926_17_33_51_Pro_Thumbs_Up_new/WIN_20180926_17_33_51_Pro_00034.png\n",
            "Batch 1 :  /content/drive/MyDrive/Colab Notebooks/Gesture_Recognition/train/WIN_20180925_17_22_11_Pro_Thumbs_Up_new/WIN_20180925_17_22_11_Pro_00018.png\n",
            "Batch 1 :  /content/drive/MyDrive/Colab Notebooks/Gesture_Recognition/train/WIN_20180925_17_22_11_Pro_Thumbs_Up_new/WIN_20180925_17_22_11_Pro_00022.png\n",
            "Batch 1 :  /content/drive/MyDrive/Colab Notebooks/Gesture_Recognition/train/WIN_20180925_17_22_11_Pro_Thumbs_Up_new/WIN_20180925_17_22_11_Pro_00013.png\n",
            "Batch 1 :  /content/drive/MyDrive/Colab Notebooks/Gesture_Recognition/train/WIN_20180925_17_22_11_Pro_Thumbs_Up_new/WIN_20180925_17_22_11_Pro_00016.png\n",
            "Batch 1 :  /content/drive/MyDrive/Colab Notebooks/Gesture_Recognition/train/WIN_20180925_17_22_11_Pro_Thumbs_Up_new/WIN_20180925_17_22_11_Pro_00014.png\n",
            "Batch 1 :  /content/drive/MyDrive/Colab Notebooks/Gesture_Recognition/train/WIN_20180926_16_49_15_Pro_Left_Swipe_new/WIN_20180926_16_49_15_Pro_00037.png\n",
            "Batch 1 :  /content/drive/MyDrive/Colab Notebooks/Gesture_Recognition/train/WIN_20180926_16_49_15_Pro_Left_Swipe_new/WIN_20180926_16_49_15_Pro_00019.png\n",
            "Batch 1 :  /content/drive/MyDrive/Colab Notebooks/Gesture_Recognition/train/WIN_20180926_16_49_15_Pro_Left_Swipe_new/WIN_20180926_16_49_15_Pro_00025.png\n",
            "Batch 1 :  /content/drive/MyDrive/Colab Notebooks/Gesture_Recognition/train/WIN_20180926_16_49_15_Pro_Left_Swipe_new/WIN_20180926_16_49_15_Pro_00041.png\n",
            "Batch 1 :  /content/drive/MyDrive/Colab Notebooks/Gesture_Recognition/train/WIN_20180926_16_49_15_Pro_Left_Swipe_new/WIN_20180926_16_49_15_Pro_00015.png\n",
            "Batch 1 :  /content/drive/MyDrive/Colab Notebooks/Gesture_Recognition/train/WIN_20180925_18_14_35_Pro_Right_Swipe_new/WIN_20180925_18_14_35_Pro_00015.png\n",
            "Batch 1 :  /content/drive/MyDrive/Colab Notebooks/Gesture_Recognition/train/WIN_20180925_18_14_35_Pro_Right_Swipe_new/WIN_20180925_18_14_35_Pro_00019.png\n",
            "Batch 1 :  /content/drive/MyDrive/Colab Notebooks/Gesture_Recognition/train/WIN_20180925_18_14_35_Pro_Right_Swipe_new/WIN_20180925_18_14_35_Pro_00027.png\n",
            "Batch 1 :  /content/drive/MyDrive/Colab Notebooks/Gesture_Recognition/train/WIN_20180925_18_14_35_Pro_Right_Swipe_new/WIN_20180925_18_14_35_Pro_00029.png\n",
            "Batch 1 :  /content/drive/MyDrive/Colab Notebooks/Gesture_Recognition/train/WIN_20180925_18_14_35_Pro_Right_Swipe_new/WIN_20180925_18_14_35_Pro_00020.png\n",
            "Batch 1 :  /content/drive/MyDrive/Colab Notebooks/Gesture_Recognition/train/WIN_20180925_18_01_30_Pro_Stop_new/WIN_20180925_18_01_30_Pro_00044.png\n",
            "Batch 1 :  /content/drive/MyDrive/Colab Notebooks/Gesture_Recognition/train/WIN_20180925_18_01_30_Pro_Stop_new/WIN_20180925_18_01_30_Pro_00040.png\n",
            "Batch 1 :  /content/drive/MyDrive/Colab Notebooks/Gesture_Recognition/train/WIN_20180925_18_01_30_Pro_Stop_new/WIN_20180925_18_01_30_Pro_00042.png\n",
            "Batch 1 :  /content/drive/MyDrive/Colab Notebooks/Gesture_Recognition/train/WIN_20180925_18_01_30_Pro_Stop_new/WIN_20180925_18_01_30_Pro_00026.png\n",
            "Batch 1 :  /content/drive/MyDrive/Colab Notebooks/Gesture_Recognition/train/WIN_20180925_18_01_30_Pro_Stop_new/WIN_20180925_18_01_30_Pro_00015.png\n",
            "Batch 1 :  /content/drive/MyDrive/Colab Notebooks/Gesture_Recognition/train/WIN_20180925_17_31_02_Pro_Right_Swipe_new/WIN_20180925_17_31_02_Pro_00029.png\n",
            "Batch 1 :  /content/drive/MyDrive/Colab Notebooks/Gesture_Recognition/train/WIN_20180925_17_31_02_Pro_Right_Swipe_new/WIN_20180925_17_31_02_Pro_00049.png\n",
            "Batch 1 :  /content/drive/MyDrive/Colab Notebooks/Gesture_Recognition/train/WIN_20180925_17_31_02_Pro_Right_Swipe_new/WIN_20180925_17_31_02_Pro_00015.png\n",
            "Batch 1 :  /content/drive/MyDrive/Colab Notebooks/Gesture_Recognition/train/WIN_20180925_17_31_02_Pro_Right_Swipe_new/WIN_20180925_17_31_02_Pro_00045.png\n",
            "Batch 1 :  /content/drive/MyDrive/Colab Notebooks/Gesture_Recognition/train/WIN_20180925_17_31_02_Pro_Right_Swipe_new/WIN_20180925_17_31_02_Pro_00019.png\n",
            "Batch 1 :  /content/drive/MyDrive/Colab Notebooks/Gesture_Recognition/train/WIN_20180907_16_05_08_Pro_Stop Gesture_new/WIN_20180907_16_05_08_Pro_00016.png\n",
            "Batch 1 :  /content/drive/MyDrive/Colab Notebooks/Gesture_Recognition/train/WIN_20180907_16_05_08_Pro_Stop Gesture_new/WIN_20180907_16_05_08_Pro_00050.png\n",
            "Batch 1 :  /content/drive/MyDrive/Colab Notebooks/Gesture_Recognition/train/WIN_20180907_16_05_08_Pro_Stop Gesture_new/WIN_20180907_16_05_08_Pro_00028.png\n",
            "Batch 1 :  /content/drive/MyDrive/Colab Notebooks/Gesture_Recognition/train/WIN_20180907_16_05_08_Pro_Stop Gesture_new/WIN_20180907_16_05_08_Pro_00022.png\n",
            "Batch 1 :  /content/drive/MyDrive/Colab Notebooks/Gesture_Recognition/train/WIN_20180907_16_05_08_Pro_Stop Gesture_new/WIN_20180907_16_05_08_Pro_00038.png\n",
            "Batch 1 :  /content/drive/MyDrive/Colab Notebooks/Gesture_Recognition/train/WIN_20180925_17_57_22_Pro_Stop_new/WIN_20180925_17_57_22_Pro_00027.png\n",
            "Batch 1 :  /content/drive/MyDrive/Colab Notebooks/Gesture_Recognition/train/WIN_20180925_17_57_22_Pro_Stop_new/WIN_20180925_17_57_22_Pro_00025.png\n",
            "Batch 1 :  /content/drive/MyDrive/Colab Notebooks/Gesture_Recognition/train/WIN_20180925_17_57_22_Pro_Stop_new/WIN_20180925_17_57_22_Pro_00033.png\n",
            "Batch 1 :  /content/drive/MyDrive/Colab Notebooks/Gesture_Recognition/train/WIN_20180925_17_57_22_Pro_Stop_new/WIN_20180925_17_57_22_Pro_00019.png\n",
            "Batch 1 :  /content/drive/MyDrive/Colab Notebooks/Gesture_Recognition/train/WIN_20180925_17_57_22_Pro_Stop_new/WIN_20180925_17_57_22_Pro_00023.png\n",
            "Batch 1 :  /content/drive/MyDrive/Colab Notebooks/Gesture_Recognition/train/WIN_20180926_16_58_27_Pro_Right_Swipe_new/WIN_20180926_16_58_27_Pro_00015.png\n",
            "Batch 1 :  /content/drive/MyDrive/Colab Notebooks/Gesture_Recognition/train/WIN_20180926_16_58_27_Pro_Right_Swipe_new/WIN_20180926_16_58_27_Pro_00023.png\n",
            "Batch 1 :  /content/drive/MyDrive/Colab Notebooks/Gesture_Recognition/train/WIN_20180926_16_58_27_Pro_Right_Swipe_new/WIN_20180926_16_58_27_Pro_00041.png\n",
            "Batch 1 :  /content/drive/MyDrive/Colab Notebooks/Gesture_Recognition/train/WIN_20180926_16_58_27_Pro_Right_Swipe_new/WIN_20180926_16_58_27_Pro_00047.png\n",
            "Batch 1 :  /content/drive/MyDrive/Colab Notebooks/Gesture_Recognition/train/WIN_20180926_16_58_27_Pro_Right_Swipe_new/WIN_20180926_16_58_27_Pro_00013.png\n",
            "Batch 1 :  /content/drive/MyDrive/Colab Notebooks/Gesture_Recognition/train/WIN_20180926_16_52_43_Pro_Thumbs_Down_new/WIN_20180926_16_52_43_Pro_00026.png\n",
            "Batch 1 :  /content/drive/MyDrive/Colab Notebooks/Gesture_Recognition/train/WIN_20180926_16_52_43_Pro_Thumbs_Down_new/WIN_20180926_16_52_43_Pro_00013.png\n",
            "Batch 1 :  /content/drive/MyDrive/Colab Notebooks/Gesture_Recognition/train/WIN_20180926_16_52_43_Pro_Thumbs_Down_new/WIN_20180926_16_52_43_Pro_00036.png\n",
            "Batch 1 :  /content/drive/MyDrive/Colab Notebooks/Gesture_Recognition/train/WIN_20180926_16_52_43_Pro_Thumbs_Down_new/WIN_20180926_16_52_43_Pro_00024.png\n",
            "Batch 1 :  /content/drive/MyDrive/Colab Notebooks/Gesture_Recognition/train/WIN_20180926_16_52_43_Pro_Thumbs_Down_new/WIN_20180926_16_52_43_Pro_00019.png\n",
            "Batch 1 :  /content/drive/MyDrive/Colab Notebooks/Gesture_Recognition/train/WIN_20180907_15_59_44_Pro_Right Swipe_new/WIN_20180907_15_59_44_Pro_00017.png\n",
            "Batch 1 :  /content/drive/MyDrive/Colab Notebooks/Gesture_Recognition/train/WIN_20180907_15_59_44_Pro_Right Swipe_new/WIN_20180907_15_59_44_Pro_00027.png\n",
            "Batch 1 :  /content/drive/MyDrive/Colab Notebooks/Gesture_Recognition/train/WIN_20180907_15_59_44_Pro_Right Swipe_new/WIN_20180907_15_59_44_Pro_00015.png\n",
            "Batch 1 :  /content/drive/MyDrive/Colab Notebooks/Gesture_Recognition/train/WIN_20180907_15_59_44_Pro_Right Swipe_new/WIN_20180907_15_59_44_Pro_00025.png\n",
            "Batch 1 :  /content/drive/MyDrive/Colab Notebooks/Gesture_Recognition/train/WIN_20180907_15_59_44_Pro_Right Swipe_new/WIN_20180907_15_59_44_Pro_00021.png\n",
            "Batch 1 :  /content/drive/MyDrive/Colab Notebooks/Gesture_Recognition/train/WIN_20180925_17_36_07_Pro_Right_Swipe_new/WIN_20180925_17_36_07_Pro_00008.png\n",
            "Batch 1 :  /content/drive/MyDrive/Colab Notebooks/Gesture_Recognition/train/WIN_20180925_17_36_07_Pro_Right_Swipe_new/WIN_20180925_17_36_07_Pro_00012.png\n",
            "Batch 1 :  /content/drive/MyDrive/Colab Notebooks/Gesture_Recognition/train/WIN_20180925_17_36_07_Pro_Right_Swipe_new/WIN_20180925_17_36_07_Pro_00032.png\n",
            "Batch 1 :  /content/drive/MyDrive/Colab Notebooks/Gesture_Recognition/train/WIN_20180925_17_36_07_Pro_Right_Swipe_new/WIN_20180925_17_36_07_Pro_00018.png\n",
            "Batch 1 :  /content/drive/MyDrive/Colab Notebooks/Gesture_Recognition/train/WIN_20180925_17_36_07_Pro_Right_Swipe_new/WIN_20180925_17_36_07_Pro_00016.png\n",
            "Batch 1 :  /content/drive/MyDrive/Colab Notebooks/Gesture_Recognition/train/WIN_20180926_17_24_33_Pro_Thumbs_Up_new/WIN_20180926_17_24_33_Pro_00017.png\n",
            "Batch 1 :  /content/drive/MyDrive/Colab Notebooks/Gesture_Recognition/train/WIN_20180926_17_24_33_Pro_Thumbs_Up_new/WIN_20180926_17_24_33_Pro_00015.png\n",
            "Batch 1 :  /content/drive/MyDrive/Colab Notebooks/Gesture_Recognition/train/WIN_20180926_17_24_33_Pro_Thumbs_Up_new/WIN_20180926_17_24_33_Pro_00043.png\n",
            "Batch 1 :  /content/drive/MyDrive/Colab Notebooks/Gesture_Recognition/train/WIN_20180926_17_24_33_Pro_Thumbs_Up_new/WIN_20180926_17_24_33_Pro_00040.png\n",
            "Batch 1 :  /content/drive/MyDrive/Colab Notebooks/Gesture_Recognition/train/WIN_20180926_17_24_33_Pro_Thumbs_Up_new/WIN_20180926_17_24_33_Pro_00034.png\n",
            "Batch 1 :  /content/drive/MyDrive/Colab Notebooks/Gesture_Recognition/train/WIN_20180907_15_48_01_Pro_Stop Gesture_new/WIN_20180907_15_48_01_Pro_00030.png\n",
            "Batch 1 :  /content/drive/MyDrive/Colab Notebooks/Gesture_Recognition/train/WIN_20180907_15_48_01_Pro_Stop Gesture_new/WIN_20180907_15_48_01_Pro_00028.png\n",
            "Batch 1 :  /content/drive/MyDrive/Colab Notebooks/Gesture_Recognition/train/WIN_20180907_15_48_01_Pro_Stop Gesture_new/WIN_20180907_15_48_01_Pro_00038.png\n",
            "Batch 1 :  /content/drive/MyDrive/Colab Notebooks/Gesture_Recognition/train/WIN_20180907_15_48_01_Pro_Stop Gesture_new/WIN_20180907_15_48_01_Pro_00032.png\n",
            "Batch 1 :  /content/drive/MyDrive/Colab Notebooks/Gesture_Recognition/train/WIN_20180907_15_48_01_Pro_Stop Gesture_new/WIN_20180907_15_48_01_Pro_00042.png\n",
            "Batch 1 :  /content/drive/MyDrive/Colab Notebooks/Gesture_Recognition/train/WIN_20180925_17_39_11_Pro_Stop_new/WIN_20180925_17_39_11_Pro_00016.png\n",
            "Batch 1 :  /content/drive/MyDrive/Colab Notebooks/Gesture_Recognition/train/WIN_20180925_17_39_11_Pro_Stop_new/WIN_20180925_17_39_11_Pro_00012.png\n",
            "Batch 1 :  /content/drive/MyDrive/Colab Notebooks/Gesture_Recognition/train/WIN_20180925_17_39_11_Pro_Stop_new/WIN_20180925_17_39_11_Pro_00015.png\n",
            "Batch 1 :  /content/drive/MyDrive/Colab Notebooks/Gesture_Recognition/train/WIN_20180925_17_39_11_Pro_Stop_new/WIN_20180925_17_39_11_Pro_00008.png\n",
            "Batch 1 :  /content/drive/MyDrive/Colab Notebooks/Gesture_Recognition/train/WIN_20180925_17_39_11_Pro_Stop_new/WIN_20180925_17_39_11_Pro_00021.png\n",
            "Batch 1 :  /content/drive/MyDrive/Colab Notebooks/Gesture_Recognition/train/WIN_20180926_17_06_30_Pro_Thumbs_Down_new/WIN_20180926_17_06_30_Pro_00011.png\n",
            "Batch 1 :  /content/drive/MyDrive/Colab Notebooks/Gesture_Recognition/train/WIN_20180926_17_06_30_Pro_Thumbs_Down_new/WIN_20180926_17_06_30_Pro_00003.png\n",
            "Batch 1 :  /content/drive/MyDrive/Colab Notebooks/Gesture_Recognition/train/WIN_20180926_17_06_30_Pro_Thumbs_Down_new/WIN_20180926_17_06_30_Pro_00013.png\n",
            "Batch 1 :  /content/drive/MyDrive/Colab Notebooks/Gesture_Recognition/train/WIN_20180926_17_06_30_Pro_Thumbs_Down_new/WIN_20180926_17_06_30_Pro_00021.png\n",
            "Batch 1 :  /content/drive/MyDrive/Colab Notebooks/Gesture_Recognition/train/WIN_20180926_17_06_30_Pro_Thumbs_Down_new/WIN_20180926_17_06_30_Pro_00027.png\n",
            "Batch 1 :  /content/drive/MyDrive/Colab Notebooks/Gesture_Recognition/train/WIN_20180926_17_21_24_Pro_Thumbs_Down_new/WIN_20180926_17_21_24_Pro_00006.png\n",
            "Batch 1 :  /content/drive/MyDrive/Colab Notebooks/Gesture_Recognition/train/WIN_20180926_17_21_24_Pro_Thumbs_Down_new/WIN_20180926_17_21_24_Pro_00028.png\n",
            "Batch 1 :  /content/drive/MyDrive/Colab Notebooks/Gesture_Recognition/train/WIN_20180926_17_21_24_Pro_Thumbs_Down_new/WIN_20180926_17_21_24_Pro_00050.png\n",
            "Batch 1 :  /content/drive/MyDrive/Colab Notebooks/Gesture_Recognition/train/WIN_20180926_17_21_24_Pro_Thumbs_Down_new/WIN_20180926_17_21_24_Pro_00030.png\n",
            "Batch 1 :  /content/drive/MyDrive/Colab Notebooks/Gesture_Recognition/train/WIN_20180926_17_21_24_Pro_Thumbs_Down_new/WIN_20180926_17_21_24_Pro_00060.png\n",
            "Batch 1 :  /content/drive/MyDrive/Colab Notebooks/Gesture_Recognition/train/WIN_20180907_16_30_24_Pro_Stop Gesture_new/WIN_20180907_16_30_24_Pro_00026.png\n",
            "Batch 1 :  /content/drive/MyDrive/Colab Notebooks/Gesture_Recognition/train/WIN_20180907_16_30_24_Pro_Stop Gesture_new/WIN_20180907_16_30_24_Pro_00028.png\n",
            "Batch 1 :  /content/drive/MyDrive/Colab Notebooks/Gesture_Recognition/train/WIN_20180907_16_30_24_Pro_Stop Gesture_new/WIN_20180907_16_30_24_Pro_00018.png\n",
            "Batch 1 :  /content/drive/MyDrive/Colab Notebooks/Gesture_Recognition/train/WIN_20180907_16_30_24_Pro_Stop Gesture_new/WIN_20180907_16_30_24_Pro_00020.png\n",
            "Batch 1 :  /content/drive/MyDrive/Colab Notebooks/Gesture_Recognition/train/WIN_20180907_16_30_24_Pro_Stop Gesture_new/WIN_20180907_16_30_24_Pro_00054.png\n",
            "Batch 1 :  /content/drive/MyDrive/Colab Notebooks/Gesture_Recognition/train/WIN_20180926_17_26_41_Pro_Right_Swipe_new/WIN_20180926_17_26_41_Pro_00027.png\n",
            "Batch 1 :  /content/drive/MyDrive/Colab Notebooks/Gesture_Recognition/train/WIN_20180926_17_26_41_Pro_Right_Swipe_new/WIN_20180926_17_26_41_Pro_00019.png\n",
            "Batch 1 :  /content/drive/MyDrive/Colab Notebooks/Gesture_Recognition/train/WIN_20180926_17_26_41_Pro_Right_Swipe_new/WIN_20180926_17_26_41_Pro_00031.png\n",
            "Batch 1 :  /content/drive/MyDrive/Colab Notebooks/Gesture_Recognition/train/WIN_20180926_17_26_41_Pro_Right_Swipe_new/WIN_20180926_17_26_41_Pro_00015.png\n",
            "Batch 1 :  /content/drive/MyDrive/Colab Notebooks/Gesture_Recognition/train/WIN_20180926_17_26_41_Pro_Right_Swipe_new/WIN_20180926_17_26_41_Pro_00033.png\n",
            "Batch 1 :  /content/drive/MyDrive/Colab Notebooks/Gesture_Recognition/train/WIN_20180926_17_39_18_Pro_Thumbs_Down_new/WIN_20180926_17_39_18_Pro_00032.png\n",
            "Batch 1 :  /content/drive/MyDrive/Colab Notebooks/Gesture_Recognition/train/WIN_20180926_17_39_18_Pro_Thumbs_Down_new/WIN_20180926_17_39_18_Pro_00018.png\n",
            "Batch 1 :  /content/drive/MyDrive/Colab Notebooks/Gesture_Recognition/train/WIN_20180926_17_39_18_Pro_Thumbs_Down_new/WIN_20180926_17_39_18_Pro_00046.png\n",
            "Batch 1 :  /content/drive/MyDrive/Colab Notebooks/Gesture_Recognition/train/WIN_20180926_17_39_18_Pro_Thumbs_Down_new/WIN_20180926_17_39_18_Pro_00006.png\n",
            "Batch 1 :  /content/drive/MyDrive/Colab Notebooks/Gesture_Recognition/train/WIN_20180926_17_39_18_Pro_Thumbs_Down_new/WIN_20180926_17_39_18_Pro_00024.png\n",
            "Batch 1 :  /content/drive/MyDrive/Colab Notebooks/Gesture_Recognition/train/WIN_20180926_17_49_29_Pro_Stop_new/WIN_20180926_17_49_29_Pro_00016.png\n",
            "Batch 1 :  /content/drive/MyDrive/Colab Notebooks/Gesture_Recognition/train/WIN_20180926_17_49_29_Pro_Stop_new/WIN_20180926_17_49_29_Pro_00017.png\n",
            "Batch 1 :  /content/drive/MyDrive/Colab Notebooks/Gesture_Recognition/train/WIN_20180926_17_49_29_Pro_Stop_new/WIN_20180926_17_49_29_Pro_00022.png\n",
            "Batch 1 :  /content/drive/MyDrive/Colab Notebooks/Gesture_Recognition/train/WIN_20180926_17_49_29_Pro_Stop_new/WIN_20180926_17_49_29_Pro_00038.png\n",
            "Batch 1 :  /content/drive/MyDrive/Colab Notebooks/Gesture_Recognition/train/WIN_20180926_17_49_29_Pro_Stop_new/WIN_20180926_17_49_29_Pro_00033.png\n",
            "Batch 1 :  /content/drive/MyDrive/Colab Notebooks/Gesture_Recognition/train/WIN_20180925_17_20_53_Pro_Thumbs_Up_new/WIN_20180925_17_20_53_Pro_00018.png\n",
            "Batch 1 :  /content/drive/MyDrive/Colab Notebooks/Gesture_Recognition/train/WIN_20180925_17_20_53_Pro_Thumbs_Up_new/WIN_20180925_17_20_53_Pro_00016.png\n",
            "Batch 1 :  /content/drive/MyDrive/Colab Notebooks/Gesture_Recognition/train/WIN_20180925_17_20_53_Pro_Thumbs_Up_new/WIN_20180925_17_20_53_Pro_00022.png\n",
            "Batch 1 :  /content/drive/MyDrive/Colab Notebooks/Gesture_Recognition/train/WIN_20180925_17_20_53_Pro_Thumbs_Up_new/WIN_20180925_17_20_53_Pro_00044.png\n",
            "Batch 1 :  /content/drive/MyDrive/Colab Notebooks/Gesture_Recognition/train/WIN_20180925_17_20_53_Pro_Thumbs_Up_new/WIN_20180925_17_20_53_Pro_00023.png\n",
            "Batch 1 :  /content/drive/MyDrive/Colab Notebooks/Gesture_Recognition/train/WIN_20180925_17_42_57_Pro_Right_Swipe_new/WIN_20180925_17_42_57_Pro_00025.png\n",
            "Batch 1 :  /content/drive/MyDrive/Colab Notebooks/Gesture_Recognition/train/WIN_20180925_17_42_57_Pro_Right_Swipe_new/WIN_20180925_17_42_57_Pro_00011.png\n",
            "Batch 1 :  /content/drive/MyDrive/Colab Notebooks/Gesture_Recognition/train/WIN_20180925_17_42_57_Pro_Right_Swipe_new/WIN_20180925_17_42_57_Pro_00035.png\n",
            "Batch 1 :  /content/drive/MyDrive/Colab Notebooks/Gesture_Recognition/train/WIN_20180925_17_42_57_Pro_Right_Swipe_new/WIN_20180925_17_42_57_Pro_00040.png\n",
            "Batch 1 :  /content/drive/MyDrive/Colab Notebooks/Gesture_Recognition/train/WIN_20180925_17_42_57_Pro_Right_Swipe_new/WIN_20180925_17_42_57_Pro_00018.png\n",
            "Batch 1 :  /content/drive/MyDrive/Colab Notebooks/Gesture_Recognition/train/WIN_20180907_15_44_13_Pro_Stop Gesture_new/WIN_20180907_15_44_13_Pro_00008.png\n",
            "Batch 1 :  /content/drive/MyDrive/Colab Notebooks/Gesture_Recognition/train/WIN_20180907_15_44_13_Pro_Stop Gesture_new/WIN_20180907_15_44_13_Pro_00036.png\n",
            "Batch 1 :  /content/drive/MyDrive/Colab Notebooks/Gesture_Recognition/train/WIN_20180907_15_44_13_Pro_Stop Gesture_new/WIN_20180907_15_44_13_Pro_00022.png\n",
            "Batch 1 :  /content/drive/MyDrive/Colab Notebooks/Gesture_Recognition/train/WIN_20180907_15_44_13_Pro_Stop Gesture_new/WIN_20180907_15_44_13_Pro_00028.png\n",
            "Batch 1 :  /content/drive/MyDrive/Colab Notebooks/Gesture_Recognition/train/WIN_20180907_15_44_13_Pro_Stop Gesture_new/WIN_20180907_15_44_13_Pro_00024.png\n",
            "Batch 1 :  /content/drive/MyDrive/Colab Notebooks/Gesture_Recognition/train/WIN_20180926_16_42_06_Pro_Right_Swipe_new/WIN_20180926_16_42_06_Pro_00017.png\n",
            "Batch 1 :  /content/drive/MyDrive/Colab Notebooks/Gesture_Recognition/train/WIN_20180926_16_42_06_Pro_Right_Swipe_new/WIN_20180926_16_42_06_Pro_00031.png\n",
            "Batch 1 :  /content/drive/MyDrive/Colab Notebooks/Gesture_Recognition/train/WIN_20180926_16_42_06_Pro_Right_Swipe_new/WIN_20180926_16_42_06_Pro_00023.png\n",
            "Batch 1 :  /content/drive/MyDrive/Colab Notebooks/Gesture_Recognition/train/WIN_20180926_16_42_06_Pro_Right_Swipe_new/WIN_20180926_16_42_06_Pro_00025.png\n",
            "Batch 1 :  /content/drive/MyDrive/Colab Notebooks/Gesture_Recognition/train/WIN_20180926_16_42_06_Pro_Right_Swipe_new/WIN_20180926_16_42_06_Pro_00021.png\n",
            "Batch 1 :  /content/drive/MyDrive/Colab Notebooks/Gesture_Recognition/train/WIN_20180926_17_27_48_Pro_Thumbs_Up_new/WIN_20180926_17_27_48_Pro_00004.png\n",
            "Batch 1 :  /content/drive/MyDrive/Colab Notebooks/Gesture_Recognition/train/WIN_20180926_17_27_48_Pro_Thumbs_Up_new/WIN_20180926_17_27_48_Pro_00028.png\n",
            "Batch 1 :  /content/drive/MyDrive/Colab Notebooks/Gesture_Recognition/train/WIN_20180926_17_27_48_Pro_Thumbs_Up_new/WIN_20180926_17_27_48_Pro_00014.png\n",
            "Batch 1 :  /content/drive/MyDrive/Colab Notebooks/Gesture_Recognition/train/WIN_20180926_17_27_48_Pro_Thumbs_Up_new/WIN_20180926_17_27_48_Pro_00054.png\n",
            "Batch 1 :  /content/drive/MyDrive/Colab Notebooks/Gesture_Recognition/train/WIN_20180926_17_27_48_Pro_Thumbs_Up_new/WIN_20180926_17_27_48_Pro_00038.png\n",
            "Batch 1 :  /content/drive/MyDrive/Colab Notebooks/Gesture_Recognition/train/WIN_20180907_16_42_55_Pro_Thumbs Up_new/WIN_20180907_16_42_55_Pro_00020.png\n",
            "Batch 1 :  /content/drive/MyDrive/Colab Notebooks/Gesture_Recognition/train/WIN_20180907_16_42_55_Pro_Thumbs Up_new/WIN_20180907_16_42_55_Pro_00024.png\n",
            "Batch 1 :  /content/drive/MyDrive/Colab Notebooks/Gesture_Recognition/train/WIN_20180907_16_42_55_Pro_Thumbs Up_new/WIN_20180907_16_42_55_Pro_00022.png\n",
            "Batch 1 :  /content/drive/MyDrive/Colab Notebooks/Gesture_Recognition/train/WIN_20180907_16_42_55_Pro_Thumbs Up_new/WIN_20180907_16_42_55_Pro_00046.png\n",
            "Batch 1 :  /content/drive/MyDrive/Colab Notebooks/Gesture_Recognition/train/WIN_20180907_16_42_55_Pro_Thumbs Up_new/WIN_20180907_16_42_55_Pro_00014.png\n",
            "Epoch 1/5\n"
          ]
        },
        {
          "output_type": "stream",
          "name": "stderr",
          "text": [
            "/usr/local/lib/python3.7/dist-packages/keras/engine/functional.py:1410: CustomMaskWarning: Custom mask layers require a config and must override get_config. When loading, the custom mask layer must be passed to the custom_objects argument.\n",
            "  layer_config = serialize_layer_fn(layer)\n"
          ]
        },
        {
          "output_type": "error",
          "ename": "InvalidArgumentError",
          "evalue": "ignored",
          "traceback": [
            "\u001b[0;31m---------------------------------------------------------------------------\u001b[0m",
            "\u001b[0;31mInvalidArgumentError\u001b[0m                      Traceback (most recent call last)",
            "\u001b[0;32m<ipython-input-27-8161499df3f8>\u001b[0m in \u001b[0;36m<module>\u001b[0;34m()\u001b[0m\n\u001b[1;32m      4\u001b[0m                     \u001b[0mclass_weight\u001b[0m\u001b[0;34m=\u001b[0m\u001b[0;32mNone\u001b[0m\u001b[0;34m,\u001b[0m\u001b[0;34m\u001b[0m\u001b[0;34m\u001b[0m\u001b[0m\n\u001b[1;32m      5\u001b[0m                     \u001b[0mworkers\u001b[0m\u001b[0;34m=\u001b[0m\u001b[0;36m1\u001b[0m\u001b[0;34m,\u001b[0m\u001b[0;34m\u001b[0m\u001b[0;34m\u001b[0m\u001b[0m\n\u001b[0;32m----> 6\u001b[0;31m                     initial_epoch=0)\n\u001b[0m",
            "\u001b[0;32m/usr/local/lib/python3.7/dist-packages/keras/engine/training.py\u001b[0m in \u001b[0;36mfit_generator\u001b[0;34m(self, generator, steps_per_epoch, epochs, verbose, callbacks, validation_data, validation_steps, validation_freq, class_weight, max_queue_size, workers, use_multiprocessing, shuffle, initial_epoch)\u001b[0m\n\u001b[1;32m   2028\u001b[0m         \u001b[0muse_multiprocessing\u001b[0m\u001b[0;34m=\u001b[0m\u001b[0muse_multiprocessing\u001b[0m\u001b[0;34m,\u001b[0m\u001b[0;34m\u001b[0m\u001b[0;34m\u001b[0m\u001b[0m\n\u001b[1;32m   2029\u001b[0m         \u001b[0mshuffle\u001b[0m\u001b[0;34m=\u001b[0m\u001b[0mshuffle\u001b[0m\u001b[0;34m,\u001b[0m\u001b[0;34m\u001b[0m\u001b[0;34m\u001b[0m\u001b[0m\n\u001b[0;32m-> 2030\u001b[0;31m         initial_epoch=initial_epoch)\n\u001b[0m\u001b[1;32m   2031\u001b[0m \u001b[0;34m\u001b[0m\u001b[0m\n\u001b[1;32m   2032\u001b[0m   \u001b[0;34m@\u001b[0m\u001b[0mdoc_controls\u001b[0m\u001b[0;34m.\u001b[0m\u001b[0mdo_not_generate_docs\u001b[0m\u001b[0;34m\u001b[0m\u001b[0;34m\u001b[0m\u001b[0m\n",
            "\u001b[0;32m/usr/local/lib/python3.7/dist-packages/keras/utils/traceback_utils.py\u001b[0m in \u001b[0;36merror_handler\u001b[0;34m(*args, **kwargs)\u001b[0m\n\u001b[1;32m     65\u001b[0m     \u001b[0;32mexcept\u001b[0m \u001b[0mException\u001b[0m \u001b[0;32mas\u001b[0m \u001b[0me\u001b[0m\u001b[0;34m:\u001b[0m  \u001b[0;31m# pylint: disable=broad-except\u001b[0m\u001b[0;34m\u001b[0m\u001b[0;34m\u001b[0m\u001b[0m\n\u001b[1;32m     66\u001b[0m       \u001b[0mfiltered_tb\u001b[0m \u001b[0;34m=\u001b[0m \u001b[0m_process_traceback_frames\u001b[0m\u001b[0;34m(\u001b[0m\u001b[0me\u001b[0m\u001b[0;34m.\u001b[0m\u001b[0m__traceback__\u001b[0m\u001b[0;34m)\u001b[0m\u001b[0;34m\u001b[0m\u001b[0;34m\u001b[0m\u001b[0m\n\u001b[0;32m---> 67\u001b[0;31m       \u001b[0;32mraise\u001b[0m \u001b[0me\u001b[0m\u001b[0;34m.\u001b[0m\u001b[0mwith_traceback\u001b[0m\u001b[0;34m(\u001b[0m\u001b[0mfiltered_tb\u001b[0m\u001b[0;34m)\u001b[0m \u001b[0;32mfrom\u001b[0m \u001b[0;32mNone\u001b[0m\u001b[0;34m\u001b[0m\u001b[0;34m\u001b[0m\u001b[0m\n\u001b[0m\u001b[1;32m     68\u001b[0m     \u001b[0;32mfinally\u001b[0m\u001b[0;34m:\u001b[0m\u001b[0;34m\u001b[0m\u001b[0;34m\u001b[0m\u001b[0m\n\u001b[1;32m     69\u001b[0m       \u001b[0;32mdel\u001b[0m \u001b[0mfiltered_tb\u001b[0m\u001b[0;34m\u001b[0m\u001b[0;34m\u001b[0m\u001b[0m\n",
            "\u001b[0;32m/usr/local/lib/python3.7/dist-packages/tensorflow/python/eager/execute.py\u001b[0m in \u001b[0;36mquick_execute\u001b[0;34m(op_name, num_outputs, inputs, attrs, ctx, name)\u001b[0m\n\u001b[1;32m     57\u001b[0m     \u001b[0mctx\u001b[0m\u001b[0;34m.\u001b[0m\u001b[0mensure_initialized\u001b[0m\u001b[0;34m(\u001b[0m\u001b[0;34m)\u001b[0m\u001b[0;34m\u001b[0m\u001b[0;34m\u001b[0m\u001b[0m\n\u001b[1;32m     58\u001b[0m     tensors = pywrap_tfe.TFE_Py_Execute(ctx._handle, device_name, op_name,\n\u001b[0;32m---> 59\u001b[0;31m                                         inputs, attrs, num_outputs)\n\u001b[0m\u001b[1;32m     60\u001b[0m   \u001b[0;32mexcept\u001b[0m \u001b[0mcore\u001b[0m\u001b[0;34m.\u001b[0m\u001b[0m_NotOkStatusException\u001b[0m \u001b[0;32mas\u001b[0m \u001b[0me\u001b[0m\u001b[0;34m:\u001b[0m\u001b[0;34m\u001b[0m\u001b[0;34m\u001b[0m\u001b[0m\n\u001b[1;32m     61\u001b[0m     \u001b[0;32mif\u001b[0m \u001b[0mname\u001b[0m \u001b[0;32mis\u001b[0m \u001b[0;32mnot\u001b[0m \u001b[0;32mNone\u001b[0m\u001b[0;34m:\u001b[0m\u001b[0;34m\u001b[0m\u001b[0;34m\u001b[0m\u001b[0m\n",
            "\u001b[0;31mInvalidArgumentError\u001b[0m:  Input to reshape is a tensor with 1200000 values, but the requested shape requires a multiple of 150528\n\t [[node sequential_4/time_distributed_1/Reshape_2\n (defined at /usr/local/lib/python3.7/dist-packages/keras/layers/wrappers.py:342)\n]] [Op:__inference_train_function_44940]\n\nErrors may have originated from an input operation.\nInput Source operations connected to node sequential_4/time_distributed_1/Reshape_2:\nIn[0] IteratorGetNext (defined at /usr/local/lib/python3.7/dist-packages/keras/engine/training.py:866)\t\nIn[1] sequential_4/time_distributed_1/Reshape_2/shape:\n\nOperation defined at: (most recent call last)\n>>>   File \"/usr/lib/python3.7/runpy.py\", line 193, in _run_module_as_main\n>>>     \"__main__\", mod_spec)\n>>> \n>>>   File \"/usr/lib/python3.7/runpy.py\", line 85, in _run_code\n>>>     exec(code, run_globals)\n>>> \n>>>   File \"/usr/local/lib/python3.7/dist-packages/ipykernel_launcher.py\", line 16, in <module>\n>>>     app.launch_new_instance()\n>>> \n>>>   File \"/usr/local/lib/python3.7/dist-packages/traitlets/config/application.py\", line 846, in launch_instance\n>>>     app.start()\n>>> \n>>>   File \"/usr/local/lib/python3.7/dist-packages/ipykernel/kernelapp.py\", line 499, in start\n>>>     self.io_loop.start()\n>>> \n>>>   File \"/usr/local/lib/python3.7/dist-packages/tornado/platform/asyncio.py\", line 132, in start\n>>>     self.asyncio_loop.run_forever()\n>>> \n>>>   File \"/usr/lib/python3.7/asyncio/base_events.py\", line 541, in run_forever\n>>>     self._run_once()\n>>> \n>>>   File \"/usr/lib/python3.7/asyncio/base_events.py\", line 1786, in _run_once\n>>>     handle._run()\n>>> \n>>>   File \"/usr/lib/python3.7/asyncio/events.py\", line 88, in _run\n>>>     self._context.run(self._callback, *self._args)\n>>> \n>>>   File \"/usr/local/lib/python3.7/dist-packages/tornado/platform/asyncio.py\", line 122, in _handle_events\n>>>     handler_func(fileobj, events)\n>>> \n>>>   File \"/usr/local/lib/python3.7/dist-packages/tornado/stack_context.py\", line 300, in null_wrapper\n>>>     return fn(*args, **kwargs)\n>>> \n>>>   File \"/usr/local/lib/python3.7/dist-packages/zmq/eventloop/zmqstream.py\", line 452, in _handle_events\n>>>     self._handle_recv()\n>>> \n>>>   File \"/usr/local/lib/python3.7/dist-packages/zmq/eventloop/zmqstream.py\", line 481, in _handle_recv\n>>>     self._run_callback(callback, msg)\n>>> \n>>>   File \"/usr/local/lib/python3.7/dist-packages/zmq/eventloop/zmqstream.py\", line 431, in _run_callback\n>>>     callback(*args, **kwargs)\n>>> \n>>>   File \"/usr/local/lib/python3.7/dist-packages/tornado/stack_context.py\", line 300, in null_wrapper\n>>>     return fn(*args, **kwargs)\n>>> \n>>>   File \"/usr/local/lib/python3.7/dist-packages/ipykernel/kernelbase.py\", line 283, in dispatcher\n>>>     return self.dispatch_shell(stream, msg)\n>>> \n>>>   File \"/usr/local/lib/python3.7/dist-packages/ipykernel/kernelbase.py\", line 233, in dispatch_shell\n>>>     handler(stream, idents, msg)\n>>> \n>>>   File \"/usr/local/lib/python3.7/dist-packages/ipykernel/kernelbase.py\", line 399, in execute_request\n>>>     user_expressions, allow_stdin)\n>>> \n>>>   File \"/usr/local/lib/python3.7/dist-packages/ipykernel/ipkernel.py\", line 208, in do_execute\n>>>     res = shell.run_cell(code, store_history=store_history, silent=silent)\n>>> \n>>>   File \"/usr/local/lib/python3.7/dist-packages/ipykernel/zmqshell.py\", line 537, in run_cell\n>>>     return super(ZMQInteractiveShell, self).run_cell(*args, **kwargs)\n>>> \n>>>   File \"/usr/local/lib/python3.7/dist-packages/IPython/core/interactiveshell.py\", line 2718, in run_cell\n>>>     interactivity=interactivity, compiler=compiler, result=result)\n>>> \n>>>   File \"/usr/local/lib/python3.7/dist-packages/IPython/core/interactiveshell.py\", line 2828, in run_ast_nodes\n>>>     if self.run_code(code, result):\n>>> \n>>>   File \"/usr/local/lib/python3.7/dist-packages/IPython/core/interactiveshell.py\", line 2882, in run_code\n>>>     exec(code_obj, self.user_global_ns, self.user_ns)\n>>> \n>>>   File \"<ipython-input-27-8161499df3f8>\", line 6, in <module>\n>>>     initial_epoch=0)\n>>> \n>>>   File \"/usr/local/lib/python3.7/dist-packages/keras/engine/training.py\", line 2030, in fit_generator\n>>>     initial_epoch=initial_epoch)\n>>> \n>>>   File \"/usr/local/lib/python3.7/dist-packages/keras/utils/traceback_utils.py\", line 64, in error_handler\n>>>     return fn(*args, **kwargs)\n>>> \n>>>   File \"/usr/local/lib/python3.7/dist-packages/keras/engine/training.py\", line 1216, in fit\n>>>     tmp_logs = self.train_function(iterator)\n>>> \n>>>   File \"/usr/local/lib/python3.7/dist-packages/keras/engine/training.py\", line 878, in train_function\n>>>     return step_function(self, iterator)\n>>> \n>>>   File \"/usr/local/lib/python3.7/dist-packages/keras/engine/training.py\", line 867, in step_function\n>>>     outputs = model.distribute_strategy.run(run_step, args=(data,))\n>>> \n>>>   File \"/usr/local/lib/python3.7/dist-packages/keras/engine/training.py\", line 860, in run_step\n>>>     outputs = model.train_step(data)\n>>> \n>>>   File \"/usr/local/lib/python3.7/dist-packages/keras/engine/training.py\", line 808, in train_step\n>>>     y_pred = self(x, training=True)\n>>> \n>>>   File \"/usr/local/lib/python3.7/dist-packages/keras/utils/traceback_utils.py\", line 64, in error_handler\n>>>     return fn(*args, **kwargs)\n>>> \n>>>   File \"/usr/local/lib/python3.7/dist-packages/keras/engine/base_layer.py\", line 1083, in __call__\n>>>     outputs = call_fn(inputs, *args, **kwargs)\n>>> \n>>>   File \"/usr/local/lib/python3.7/dist-packages/keras/utils/traceback_utils.py\", line 92, in error_handler\n>>>     return fn(*args, **kwargs)\n>>> \n>>>   File \"/usr/local/lib/python3.7/dist-packages/keras/engine/sequential.py\", line 373, in call\n>>>     return super(Sequential, self).call(inputs, training=training, mask=mask)\n>>> \n>>>   File \"/usr/local/lib/python3.7/dist-packages/keras/engine/functional.py\", line 452, in call\n>>>     inputs, training=training, mask=mask)\n>>> \n>>>   File \"/usr/local/lib/python3.7/dist-packages/keras/engine/functional.py\", line 589, in _run_internal_graph\n>>>     outputs = node.layer(*args, **kwargs)\n>>> \n>>>   File \"/usr/local/lib/python3.7/dist-packages/keras/utils/traceback_utils.py\", line 64, in error_handler\n>>>     return fn(*args, **kwargs)\n>>> \n>>>   File \"/usr/local/lib/python3.7/dist-packages/keras/engine/base_layer.py\", line 1088, in __call__\n>>>     self._set_mask_metadata(inputs, outputs, input_masks, not eager)\n>>> \n>>>   File \"/usr/local/lib/python3.7/dist-packages/keras/engine/base_layer.py\", line 2555, in _set_mask_metadata\n>>>     output_masks = self.compute_mask(inputs, previous_mask)\n>>> \n>>>   File \"/usr/local/lib/python3.7/dist-packages/keras/layers/wrappers.py\", line 342, in compute_mask\n>>>     inner_input_shape)\n>>> "
          ]
        }
      ]
    },
    {
      "cell_type": "code",
      "execution_count": null,
      "metadata": {
        "id": "Piv0DlasML9v"
      },
      "outputs": [],
      "source": [
        ""
      ]
    }
  ],
  "metadata": {
    "kernelspec": {
      "display_name": "Python 3",
      "language": "python",
      "name": "python3"
    },
    "language_info": {
      "codemirror_mode": {
        "name": "ipython",
        "version": 3
      },
      "file_extension": ".py",
      "mimetype": "text/x-python",
      "name": "python",
      "nbconvert_exporter": "python",
      "pygments_lexer": "ipython3",
      "version": "3.6.5"
    },
    "colab": {
      "name": "Gesture_Recognition.ipynb",
      "provenance": [],
      "collapsed_sections": [],
      "include_colab_link": true
    },
    "accelerator": "GPU"
  },
  "nbformat": 4,
  "nbformat_minor": 0
}