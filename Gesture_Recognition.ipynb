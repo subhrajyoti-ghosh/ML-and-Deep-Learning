{
  "cells": [
    {
      "cell_type": "markdown",
      "metadata": {
        "id": "view-in-github",
        "colab_type": "text"
      },
      "source": [
        "<a href=\"https://colab.research.google.com/github/subhrajyoti-ghosh/ML-and-Deep-Learning/blob/main/Gesture_Recognition.ipynb\" target=\"_parent\"><img src=\"https://colab.research.google.com/assets/colab-badge.svg\" alt=\"Open In Colab\"/></a>"
      ]
    },
    {
      "cell_type": "markdown",
      "metadata": {
        "id": "GvKOy5SoML9d"
      },
      "source": [
        "# Gesture Recognition\n",
        "In this group project, you are going to build a 3D Conv model that will be able to predict the 5 gestures correctly. Please import the following libraries to get started."
      ]
    },
    {
      "cell_type": "code",
      "execution_count": 33,
      "metadata": {
        "id": "FiUcUob4ML9i"
      },
      "outputs": [],
      "source": [
        "import numpy as np\n",
        "import os\n",
        "#from scipy.misc import imresize\n",
        "from imageio import imread\n",
        "import cv2\n",
        "import datetime\n",
        "import os"
      ]
    },
    {
      "cell_type": "markdown",
      "metadata": {
        "id": "CYSDdpkiML9k"
      },
      "source": [
        "We set the random seed so that the results don't vary drastically."
      ]
    },
    {
      "cell_type": "code",
      "execution_count": 34,
      "metadata": {
        "id": "mu9ojBdhML9k"
      },
      "outputs": [],
      "source": [
        "np.random.seed(30)\n",
        "import random as rn\n",
        "rn.seed(30)\n",
        "from keras import backend as K\n",
        "import tensorflow as tf\n",
        "tf.random.set_seed(30)"
      ]
    },
    {
      "cell_type": "markdown",
      "metadata": {
        "id": "-QBcHsJ-ML9l"
      },
      "source": [
        "In this block, you read the folder names for training and validation. You also set the `batch_size` here. Note that you set the batch size in such a way that you are able to use the GPU in full capacity. You keep increasing the batch size until the machine throws an error."
      ]
    },
    {
      "cell_type": "code",
      "source": [
        "from google.colab import drive\n",
        "drive.mount('/content/drive')"
      ],
      "metadata": {
        "colab": {
          "base_uri": "https://localhost:8080/"
        },
        "id": "4zLJ9cIPBWqj",
        "outputId": "1632c909-dc78-428f-92d4-cbf2e9baec4d"
      },
      "execution_count": 35,
      "outputs": [
        {
          "output_type": "stream",
          "name": "stdout",
          "text": [
            "Drive already mounted at /content/drive; to attempt to forcibly remount, call drive.mount(\"/content/drive\", force_remount=True).\n"
          ]
        }
      ]
    },
    {
      "cell_type": "code",
      "execution_count": 36,
      "metadata": {
        "id": "EswJZU17ML9m"
      },
      "outputs": [],
      "source": [
        "train_doc = np.random.permutation(open('/content/drive/MyDrive/Colab Notebooks/Gesture_Recognition/train.csv').readlines())\n",
        "val_doc = np.random.permutation(open('/content/drive/MyDrive/Colab Notebooks/Gesture_Recognition/val.csv').readlines())\n",
        "batch_size = 32 #experiment with the batch size"
      ]
    },
    {
      "cell_type": "code",
      "source": [
        "#train_class = [x.split(\";\")[1] for x in train_doc]\n",
        "#set(train_class)\n",
        "#\"WIN_20180926_16_54_08_Pro_Right_Swipe_new;Right_Swipe_new\".split(\";\")[1]\n",
        "train_class = []\n",
        "for td in train_doc:\n",
        "  if td.split(\";\")[1] == \"Left Swipe_new_Left Swipe_new\" or td.split(\";\")[1] == \"Left_Swipe_new\":\n",
        "    train_class.append(\"Left Swipe\")\n",
        "  if td.split(\";\")[1] == \"Right Swipe_new\" or td.split(\";\")[1] == \"Right_Swipe_new\":\n",
        "    train_class.append(\"Right Swipe\")\n",
        "  if td.split(\";\")[1] == \"Stop Gesture_new\" or td.split(\";\")[1] == \"Stop_new\":\n",
        "    train_class.append(\"Stop\")\n",
        "  if td.split(\";\")[1] == \"Thumbs Down_new\" or td.split(\";\")[1] == \"Thumbs_Down_new\":\n",
        "    train_class.append(\"Thumbs Down\")\n",
        "  if td.split(\";\")[1] == \"Thumbs Up_new\" or td.split(\";\")[1] == \"Thumbs_Up_new\":\n",
        "    train_class.append(\"Thumbs Up\")"
      ],
      "metadata": {
        "id": "Vz32fMWKPBKp"
      },
      "execution_count": 37,
      "outputs": []
    },
    {
      "cell_type": "code",
      "source": [
        "#val_class = [x.split(\";\")[1] for x in val_doc]\n",
        "#set(val_class)\n",
        "val_class = []\n",
        "for vc in val_doc:\n",
        "  if vc.split(\";\")[1] == \"Left Swipe_new_Left Swipe_new\" or vc.split(\";\")[1] == \"Left_Swipe_new\":\n",
        "    val_class.append(\"Left Swipe\")\n",
        "  if vc.split(\";\")[1] == \"Right Swipe_new\" or vc.split(\";\")[1] == \"Right_Swipe_new\":\n",
        "    val_class.append(\"Right Swipe\")\n",
        "  if vc.split(\";\")[1] == \"Stop Gesture_new\" or vc.split(\";\")[1] == \"Stop_new\":\n",
        "    val_class.append(\"Stop\")\n",
        "  if vc.split(\";\")[1] == \"Thumbs Down_new\" or vc.split(\";\")[1] == \"Thumbs_Down_new\":\n",
        "    val_class.append(\"Thumbs Down\")\n",
        "  if vc.split(\";\")[1] == \"Thumbs Up_new\" or vc.split(\";\")[1] == \"Thumbs_Up_new\":\n",
        "    val_class.append(\"Thumbs Up\")\n",
        "#set(val_class)"
      ],
      "metadata": {
        "id": "5DmsFJETT8aO"
      },
      "execution_count": 38,
      "outputs": []
    },
    {
      "cell_type": "markdown",
      "metadata": {
        "id": "AcFf9zljML9m"
      },
      "source": [
        "## Generator\n",
        "This is one of the most important part of the code. The overall structure of the generator has been given. In the generator, you are going to preprocess the images as you have images of 2 different dimensions as well as create a batch of video frames. You have to experiment with `img_idx`, `y`,`z` and normalization such that you get high accuracy."
      ]
    },
    {
      "cell_type": "code",
      "source": [
        "def normalize(input_image, input_mask):\n",
        "  input_image = tf.cast(input_image, tf.float32) / 255.0\n",
        "  #input_mask -= 1\n",
        "  return input_image, input_mask"
      ],
      "metadata": {
        "id": "0huKnvnEKjgn"
      },
      "execution_count": 39,
      "outputs": []
    },
    {
      "cell_type": "code",
      "source": [
        "def load_image(datapoint):\n",
        "  input_image = tf.image.resize(datapoint['image'], (128, 128))\n",
        "  input_mask = tf.image.resize(datapoint['segmentation_mask'], (128, 128))\n",
        "  \n",
        "  input_image, input_mask = normalize(input_image, input_mask)\n",
        "  \n",
        "  return input_image, input_mask"
      ],
      "metadata": {
        "id": "pMac-AhVLY2Q"
      },
      "execution_count": 40,
      "outputs": []
    },
    {
      "cell_type": "code",
      "source": [
        "train_doc[0]"
      ],
      "metadata": {
        "colab": {
          "base_uri": "https://localhost:8080/",
          "height": 35
        },
        "id": "u-tIjeY1yytW",
        "outputId": "679858f3-6278-42c2-ba11-a5fedfca52cb"
      },
      "execution_count": 41,
      "outputs": [
        {
          "output_type": "execute_result",
          "data": {
            "application/vnd.google.colaboratory.intrinsic+json": {
              "type": "string"
            },
            "text/plain": [
              "'WIN_20180926_16_54_08_Pro_Right_Swipe_new;Right_Swipe_new;1\\n'"
            ]
          },
          "metadata": {},
          "execution_count": 41
        }
      ]
    },
    {
      "cell_type": "code",
      "source": [
        "np.random.permutation(train_doc)"
      ],
      "metadata": {
        "colab": {
          "base_uri": "https://localhost:8080/"
        },
        "id": "moYr6MTN0Wp3",
        "outputId": "01adbb4c-a63d-4342-e37e-c991fcda1271"
      },
      "execution_count": 42,
      "outputs": [
        {
          "output_type": "execute_result",
          "data": {
            "text/plain": [
              "array(['WIN_20180926_17_24_58_Pro_Right_Swipe_new;Right_Swipe_new;1\\n',\n",
              "       'WIN_20180926_17_35_17_Pro_Stop_new;Stop_new;2\\n',\n",
              "       'WIN_20180925_17_58_10_Pro_Stop_new;Stop_new;2\\n',\n",
              "       'WIN_20180925_17_20_16_Pro_Thumbs_Up_new;Thumbs_Up_new;4\\n',\n",
              "       'WIN_20180926_16_58_12_Pro_Left_Swipe_new;Left_Swipe_new;0\\n',\n",
              "       'WIN_20180926_17_33_51_Pro_Thumbs_Up_new;Thumbs_Up_new;4\\n',\n",
              "       'WIN_20180925_17_22_11_Pro_Thumbs_Up_new;Thumbs_Up_new;4\\n',\n",
              "       'WIN_20180926_16_49_15_Pro_Left_Swipe_new;Left_Swipe_new;0\\n',\n",
              "       'WIN_20180925_18_14_35_Pro_Right_Swipe_new;Right_Swipe_new;1\\n',\n",
              "       'WIN_20180925_18_01_30_Pro_Stop_new;Stop_new;2\\n',\n",
              "       'WIN_20180925_17_31_02_Pro_Right_Swipe_new;Right_Swipe_new;1\\n',\n",
              "       'WIN_20180907_16_05_08_Pro_Stop Gesture_new;Stop Gesture_new;2\\n',\n",
              "       'WIN_20180925_17_57_22_Pro_Stop_new;Stop_new;2\\n',\n",
              "       'WIN_20180926_16_58_27_Pro_Right_Swipe_new;Right_Swipe_new;1\\n',\n",
              "       'WIN_20180926_16_52_43_Pro_Thumbs_Down_new;Thumbs_Down_new;3\\n',\n",
              "       'WIN_20180907_15_59_44_Pro_Right Swipe_new;Right Swipe_new;1\\n',\n",
              "       'WIN_20180925_17_36_07_Pro_Right_Swipe_new;Right_Swipe_new;1\\n',\n",
              "       'WIN_20180926_17_24_33_Pro_Thumbs_Up_new;Thumbs_Up_new;4\\n',\n",
              "       'WIN_20180907_15_48_01_Pro_Stop Gesture_new;Stop Gesture_new;2\\n',\n",
              "       'WIN_20180925_17_39_11_Pro_Stop_new;Stop_new;2\\n',\n",
              "       'WIN_20180926_17_06_30_Pro_Thumbs_Down_new;Thumbs_Down_new;3\\n',\n",
              "       'WIN_20180926_17_21_24_Pro_Thumbs_Down_new;Thumbs_Down_new;3\\n',\n",
              "       'WIN_20180907_16_30_24_Pro_Stop Gesture_new;Stop Gesture_new;2\\n',\n",
              "       'WIN_20180926_17_26_41_Pro_Right_Swipe_new;Right_Swipe_new;1\\n',\n",
              "       'WIN_20180926_17_39_18_Pro_Thumbs_Down_new;Thumbs_Down_new;3\\n',\n",
              "       'WIN_20180926_17_49_29_Pro_Stop_new;Stop_new;2\\n',\n",
              "       'WIN_20180925_17_20_53_Pro_Thumbs_Up_new;Thumbs_Up_new;4\\n',\n",
              "       'WIN_20180925_17_42_57_Pro_Right_Swipe_new;Right_Swipe_new;1\\n',\n",
              "       'WIN_20180907_15_44_13_Pro_Stop Gesture_new;Stop Gesture_new;2\\n',\n",
              "       'WIN_20180926_16_42_06_Pro_Right_Swipe_new;Right_Swipe_new;1\\n',\n",
              "       'WIN_20180926_17_27_48_Pro_Thumbs_Up_new;Thumbs_Up_new;4\\n',\n",
              "       'WIN_20180907_16_42_55_Pro_Thumbs Up_new;Thumbs Up_new;4\\n',\n",
              "       'WIN_20180907_16_29_23_Pro_Left Swipe_new_Left Swipe_new;Left Swipe_new_Left Swipe_new;0\\n',\n",
              "       'WIN_20180907_16_24_14_Pro_Thumbs Up_new;Thumbs Up_new;4\\n',\n",
              "       'WIN_20180926_17_12_26_Pro_Stop_new;Stop_new;2\\n',\n",
              "       'WIN_20180907_16_02_59_Pro_Stop Gesture_new;Stop Gesture_new;2\\n',\n",
              "       'WIN_20180925_18_16_56_Pro_Thumbs_Down_new;Thumbs_Down_new;3\\n',\n",
              "       'WIN_20180907_16_15_33_Pro_Thumbs Up_new;Thumbs Up_new;4\\n',\n",
              "       'WIN_20180907_16_37_03_Pro_Right Swipe_new;Right Swipe_new;1\\n',\n",
              "       'WIN_20180907_15_54_42_Pro_Left Swipe_new_Left Swipe_new;Left Swipe_new_Left Swipe_new;0\\n',\n",
              "       'WIN_20180926_17_18_02_Pro_Thumbs_Up_new;Thumbs_Up_new;4\\n',\n",
              "       'WIN_20180925_17_37_14_Pro_Stop_new;Stop_new;2\\n',\n",
              "       'WIN_20180925_17_43_11_Pro_Thumbs_Up_new;Thumbs_Up_new;4\\n',\n",
              "       'WIN_20180926_16_59_03_Pro_Thumbs_Down_new;Thumbs_Down_new;3\\n',\n",
              "       'WIN_20180925_17_35_24_Pro_Right_Swipe_new;Right_Swipe_new;1\\n',\n",
              "       'WIN_20180925_18_08_31_Pro_Thumbs_Down_new;Thumbs_Down_new;3\\n',\n",
              "       'WIN_20180925_17_37_08_Pro_Left_Swipe_new;Left_Swipe_new;0\\n',\n",
              "       'WIN_20180926_17_01_50_Pro_Stop_new;Stop_new;2\\n',\n",
              "       'WIN_20180907_16_12_40_Pro_Thumbs Down_new;Thumbs Down_new;3\\n',\n",
              "       'WIN_20180925_17_57_58_Pro_Right_Swipe_new;Right_Swipe_new;1\\n',\n",
              "       'WIN_20180926_17_01_07_Pro_Right_Swipe_new;Right_Swipe_new;1\\n',\n",
              "       'WIN_20180907_16_19_10_Pro_Left Swipe_new_Left Swipe_new;Left Swipe_new_Left Swipe_new;0\\n',\n",
              "       'WIN_20180926_17_18_43_Pro_Thumbs_Up_new;Thumbs_Up_new;4\\n',\n",
              "       'WIN_20180925_17_35_57_Pro_Stop_new;Stop_new;2\\n',\n",
              "       'WIN_20180926_18_05_07_Pro_Right_Swipe_new;Right_Swipe_new;1\\n',\n",
              "       'WIN_20180926_17_07_50_Pro_Right_Swipe_new;Right_Swipe_new;1\\n',\n",
              "       'WIN_20180907_16_06_32_Pro_Thumbs Up_new;Thumbs Up_new;4\\n',\n",
              "       'WIN_20180926_17_15_18_Pro_Thumbs_Up_new;Thumbs_Up_new;4\\n',\n",
              "       'WIN_20180925_17_39_25_Pro_Left_Swipe_new;Left_Swipe_new;0\\n',\n",
              "       'WIN_20180907_16_30_30_Pro_Thumbs Up_new;Thumbs Up_new;4\\n',\n",
              "       'WIN_20180907_16_07_46_Pro_Left Swipe_new_Left Swipe_new;Left Swipe_new_Left Swipe_new;0\\n',\n",
              "       'WIN_20180926_17_25_18_Pro_Stop_new;Stop_new;2\\n',\n",
              "       'WIN_20180926_17_22_54_Pro_Stop_new;Stop_new;2\\n',\n",
              "       'WIN_20180926_17_14_32_Pro_Left_Swipe_new;Left_Swipe_new;0\\n',\n",
              "       'WIN_20180925_17_49_07_Pro_Left_Swipe_new;Left_Swipe_new;0\\n',\n",
              "       'WIN_20180926_17_30_54_Pro_Right_Swipe_new;Right_Swipe_new;1\\n',\n",
              "       'WIN_20180926_16_51_55_Pro_Left_Swipe_new;Left_Swipe_new;0\\n',\n",
              "       'WIN_20180925_17_42_31_Pro_Thumbs_Down_new;Thumbs_Down_new;3\\n',\n",
              "       'WIN_20180907_16_06_35_Pro_Thumbs Down_new;Thumbs Down_new;3\\n',\n",
              "       'WIN_20180925_17_50_17_Pro_Thumbs_Down_new;Thumbs_Down_new;3\\n',\n",
              "       'WIN_20180925_17_51_17_Pro_Thumbs_Up_new;Thumbs_Up_new;4\\n',\n",
              "       'WIN_20180925_18_03_22_Pro_Thumbs_Down_new;Thumbs_Down_new;3\\n',\n",
              "       'WIN_20180925_18_13_58_Pro_Thumbs_Down_new;Thumbs_Down_new;3\\n',\n",
              "       'WIN_20180926_17_10_21_Pro_Left_Swipe_new;Left_Swipe_new;0\\n',\n",
              "       'WIN_20180907_16_24_20_Pro_Thumbs Down_new;Thumbs Down_new;3\\n',\n",
              "       'WIN_20180925_17_37_12_Pro_Thumbs_Down_new;Thumbs_Down_new;3\\n',\n",
              "       'WIN_20180925_17_22_55_Pro_Left_Swipe_new;Left_Swipe_new;0\\n',\n",
              "       'WIN_20180907_16_11_06_Pro_Stop Gesture_new;Stop Gesture_new;2\\n',\n",
              "       'WIN_20180907_15_43_58_Pro_Left Swipe_new_Left Swipe_new;Left Swipe_new_Left Swipe_new;0\\n',\n",
              "       'WIN_20180926_17_39_48_Pro_Right_Swipe_new;Right_Swipe_new;1\\n',\n",
              "       'WIN_20180925_17_18_28_Pro_Left_Swipe_new;Left_Swipe_new;0\\n',\n",
              "       'WIN_20180925_17_49_11_Pro_Thumbs_Down_new;Thumbs_Down_new;3\\n',\n",
              "       'WIN_20180925_17_37_30_Pro_Left_Swipe_new;Left_Swipe_new;0\\n',\n",
              "       'WIN_20180926_17_17_35_Pro_Left_Swipe_new;Left_Swipe_new;0\\n',\n",
              "       'WIN_20180907_15_57_35_Pro_Thumbs Up_new;Thumbs Up_new;4\\n',\n",
              "       'WIN_20180926_16_55_41_Pro_Left_Swipe_new;Left_Swipe_new;0\\n',\n",
              "       'WIN_20180925_17_40_41_Pro_Left_Swipe_new;Left_Swipe_new;0\\n',\n",
              "       'WIN_20180926_17_13_44_Pro_Stop_new;Stop_new;2\\n',\n",
              "       'WIN_20180907_15_57_30_Pro_Stop Gesture_new;Stop Gesture_new;2\\n',\n",
              "       'WIN_20180907_16_11_36_Pro_Right Swipe_new;Right Swipe_new;1\\n',\n",
              "       'WIN_20180925_17_56_00_Pro_Right_Swipe_new;Right_Swipe_new;1\\n',\n",
              "       'WIN_20180926_17_28_47_Pro_Left_Swipe_new;Left_Swipe_new;0\\n',\n",
              "       'WIN_20180925_17_48_48_Pro_Right_Swipe_new;Right_Swipe_new;1\\n',\n",
              "       'WIN_20180907_16_08_46_Pro_Thumbs Down_new;Thumbs Down_new;3\\n',\n",
              "       'WIN_20180926_17_02_27_Pro_Thumbs_Up_new;Thumbs_Up_new;4\\n',\n",
              "       'WIN_20180907_15_44_55_Pro_Stop Gesture_new;Stop Gesture_new;2\\n',\n",
              "       'WIN_20180925_18_16_51_Pro_Right_Swipe_new;Right_Swipe_new;1\\n',\n",
              "       'WIN_20180907_16_01_34_Pro_Left Swipe_new_Left Swipe_new;Left Swipe_new_Left Swipe_new;0\\n',\n",
              "       'WIN_20180926_17_39_05_Pro_Stop_new;Stop_new;2\\n',\n",
              "       'WIN_20180925_17_24_49_Pro_Left_Swipe_new;Left_Swipe_new;0\\n',\n",
              "       'WIN_20180926_17_29_23_Pro_Stop_new;Stop_new;2\\n',\n",
              "       'WIN_20180907_16_35_18_Pro_Thumbs Up_new;Thumbs Up_new;4\\n',\n",
              "       'WIN_20180926_18_05_29_Pro_Thumbs_Down_new;Thumbs_Down_new;3\\n',\n",
              "       'WIN_20180925_17_45_23_Pro_Thumbs_Down_new;Thumbs_Down_new;3\\n',\n",
              "       'WIN_20180907_16_02_07_Pro_Stop Gesture_new;Stop Gesture_new;2\\n',\n",
              "       'WIN_20180907_15_39_54_Pro_Thumbs Up_new;Thumbs Up_new;4\\n',\n",
              "       'WIN_20180925_18_02_52_Pro_Stop_new;Stop_new;2\\n',\n",
              "       'WIN_20180925_17_46_33_Pro_Thumbs_Down_new;Thumbs_Down_new;3\\n',\n",
              "       'WIN_20180926_17_16_29_Pro_Left_Swipe_new;Left_Swipe_new;0\\n',\n",
              "       'WIN_20180907_15_53_12_Pro_Thumbs Up_new;Thumbs Up_new;4\\n',\n",
              "       'WIN_20180925_17_50_04_Pro_Thumbs_Up_new;Thumbs_Up_new;4\\n',\n",
              "       'WIN_20180907_16_07_57_Pro_Left Swipe_new_Left Swipe_new;Left Swipe_new_Left Swipe_new;0\\n',\n",
              "       'WIN_20180926_16_41_01_Pro_Thumbs_Up_new;Thumbs_Up_new;4\\n',\n",
              "       'WIN_20180926_16_40_53_Pro_Thumbs_Down_new;Thumbs_Down_new;3\\n',\n",
              "       'WIN_20180925_17_18_56_Pro_Left_Swipe_new;Left_Swipe_new;0\\n',\n",
              "       'WIN_20180926_17_31_23_Pro_Stop_new;Stop_new;2\\n',\n",
              "       'WIN_20180926_17_00_44_Pro_Thumbs_Down_new;Thumbs_Down_new;3\\n',\n",
              "       'WIN_20180925_17_31_48_Pro_Stop_new;Stop_new;2\\n',\n",
              "       'WIN_20180907_16_33_33_Pro_Thumbs Down_new;Thumbs Down_new;3\\n',\n",
              "       'WIN_20180925_17_46_05_Pro_Stop_new;Stop_new;2\\n',\n",
              "       'WIN_20180907_16_04_14_Pro_Left Swipe_new_Left Swipe_new;Left Swipe_new_Left Swipe_new;0\\n',\n",
              "       'WIN_20180907_16_21_23_Pro_Right Swipe_new;Right Swipe_new;1\\n',\n",
              "       'WIN_20180925_17_47_40_Pro_Thumbs_Down_new;Thumbs_Down_new;3\\n',\n",
              "       'WIN_20180926_17_30_24_Pro_Right_Swipe_new;Right_Swipe_new;1\\n',\n",
              "       'WIN_20180926_18_04_06_Pro_Thumbs_Down_new;Thumbs_Down_new;3\\n',\n",
              "       'WIN_20180907_16_10_07_Pro_Thumbs Down_new;Thumbs Down_new;3\\n',\n",
              "       'WIN_20180926_18_09_50_Pro_Right_Swipe_new;Right_Swipe_new;1\\n',\n",
              "       'WIN_20180907_15_50_05_Pro_Left Swipe_new_Left Swipe_new;Left Swipe_new_Left Swipe_new;0\\n',\n",
              "       'WIN_20180926_17_39_59_Pro_Thumbs_Down_new;Thumbs_Down_new;3\\n',\n",
              "       'WIN_20180907_16_06_16_Pro_Left Swipe_new_Left Swipe_new;Left Swipe_new_Left Swipe_new;0\\n',\n",
              "       'WIN_20180925_18_28_41_Pro_Thumbs_Down_new;Thumbs_Down_new;3\\n',\n",
              "       'WIN_20180925_17_30_21_Pro_Right_Swipe_new;Right_Swipe_new;1\\n',\n",
              "       'WIN_20180907_15_48_25_Pro_Thumbs Down_new;Thumbs Down_new;3\\n',\n",
              "       'WIN_20180907_16_22_00_Pro_Thumbs Up_new;Thumbs Up_new;4\\n',\n",
              "       'WIN_20180926_17_56_27_Pro_Right_Swipe_new;Right_Swipe_new;1\\n',\n",
              "       'WIN_20180907_16_18_59_Pro_Stop Gesture_new;Stop Gesture_new;2\\n',\n",
              "       'WIN_20180926_16_55_47_Pro_Right_Swipe_new;Right_Swipe_new;1\\n',\n",
              "       'WIN_20180907_16_42_05_Pro_Thumbs Up_new;Thumbs Up_new;4\\n',\n",
              "       'WIN_20180925_18_24_34_Pro_Thumbs_Down_new;Thumbs_Down_new;3\\n',\n",
              "       'WIN_20180926_16_39_35_Pro_Stop_new;Stop_new;2\\n',\n",
              "       'WIN_20180925_17_51_49_Pro_Left_Swipe_new;Left_Swipe_new;0\\n',\n",
              "       'WIN_20180907_16_15_15_Pro_Thumbs Down_new;Thumbs Down_new;3\\n',\n",
              "       'WIN_20180907_16_41_45_Pro_Right Swipe_new;Right Swipe_new;1\\n',\n",
              "       'WIN_20180925_17_47_32_Pro_Thumbs_Down_new;Thumbs_Down_new;3\\n',\n",
              "       'WIN_20180925_17_48_59_Pro_Stop_new;Stop_new;2\\n',\n",
              "       'WIN_20180925_17_26_34_Pro_Right_Swipe_new;Right_Swipe_new;1\\n',\n",
              "       'WIN_20180925_17_33_08_Pro_Left_Swipe_new;Left_Swipe_new;0\\n',\n",
              "       'WIN_20180925_17_37_17_Pro_Thumbs_Up_new;Thumbs_Up_new;4\\n',\n",
              "       'WIN_20180926_18_05_21_Pro_Thumbs_Down_new;Thumbs_Down_new;3\\n',\n",
              "       'WIN_20180926_17_22_53_Pro_Thumbs_Up_new;Thumbs_Up_new;4\\n',\n",
              "       'WIN_20180926_17_42_43_Pro_Right_Swipe_new;Right_Swipe_new;1\\n',\n",
              "       'WIN_20180926_17_40_35_Pro_Left_Swipe_new;Left_Swipe_new;0\\n',\n",
              "       'WIN_20180926_17_47_31_Pro_Thumbs_Down_new;Thumbs_Down_new;3\\n',\n",
              "       'WIN_20180926_17_22_23_Pro_Stop_new;Stop_new;2\\n',\n",
              "       'WIN_20180925_17_52_46_Pro_Right_Swipe_new;Right_Swipe_new;1\\n',\n",
              "       'WIN_20180926_17_06_01_Pro_Stop_new;Stop_new;2\\n',\n",
              "       'WIN_20180926_17_26_13_Pro_Left_Swipe_new;Left_Swipe_new;0\\n',\n",
              "       'WIN_20180926_17_06_12_Pro_Left_Swipe_new;Left_Swipe_new;0\\n',\n",
              "       'WIN_20180926_17_24_54_Pro_Thumbs_Down_new;Thumbs_Down_new;3\\n',\n",
              "       'WIN_20180926_17_28_09_Pro_Thumbs_Down_new;Thumbs_Down_new;3\\n',\n",
              "       'WIN_20180926_17_23_26_Pro_Stop_new;Stop_new;2\\n',\n",
              "       'WIN_20180926_16_55_16_Pro_Right_Swipe_new;Right_Swipe_new;1\\n',\n",
              "       'WIN_20180926_17_41_29_Pro_Right_Swipe_new;Right_Swipe_new;1\\n',\n",
              "       'WIN_20180926_17_12_37_Pro_Left_Swipe_new;Left_Swipe_new;0\\n',\n",
              "       'WIN_20180926_17_07_09_Pro_Left_Swipe_new;Left_Swipe_new;0\\n',\n",
              "       'WIN_20180926_16_59_48_Pro_Stop_new;Stop_new;2\\n',\n",
              "       'WIN_20180926_17_04_58_Pro_Right_Swipe_new;Right_Swipe_new;1\\n',\n",
              "       'WIN_20180926_17_21_38_Pro_Thumbs_Up_new;Thumbs_Up_new;4\\n',\n",
              "       'WIN_20180926_17_04_21_Pro_Thumbs_Up_new;Thumbs_Up_new;4\\n',\n",
              "       'WIN_20180926_17_20_47_Pro_Thumbs_Up_new;Thumbs_Up_new;4\\n',\n",
              "       'WIN_20180925_17_43_32_Pro_Left_Swipe_new;Left_Swipe_new;0\\n',\n",
              "       'WIN_20180926_17_25_30_Pro_Right_Swipe_new;Right_Swipe_new;1\\n',\n",
              "       'WIN_20180907_16_50_16_Pro_Right Swipe_new;Right Swipe_new;1\\n',\n",
              "       'WIN_20180925_17_47_06_Pro_Thumbs_Down_new;Thumbs_Down_new;3\\n',\n",
              "       'WIN_20180907_15_51_07_Pro_Left Swipe_new_Left Swipe_new;Left Swipe_new_Left Swipe_new;0\\n',\n",
              "       'WIN_20180926_17_42_21_Pro_Thumbs_Down_new;Thumbs_Down_new;3\\n',\n",
              "       'WIN_20180926_17_20_04_Pro_Right_Swipe_new;Right_Swipe_new;1\\n',\n",
              "       'WIN_20180925_17_46_09_Pro_Right_Swipe_new;Right_Swipe_new;1\\n',\n",
              "       'WIN_20180907_15_40_26_Pro_Thumbs Down_new;Thumbs Down_new;3\\n',\n",
              "       'WIN_20180926_17_19_12_Pro_Left_Swipe_new;Left_Swipe_new;0\\n',\n",
              "       'WIN_20180925_17_26_51_Pro_Left_Swipe_new;Left_Swipe_new;0\\n',\n",
              "       'WIN_20180926_16_53_28_Pro_Thumbs_Up_new;Thumbs_Up_new;4\\n',\n",
              "       'WIN_20180925_17_28_04_Pro_Right_Swipe_new;Right_Swipe_new;1\\n',\n",
              "       'WIN_20180926_17_05_08_Pro_Left_Swipe_new;Left_Swipe_new;0\\n',\n",
              "       'WIN_20180925_17_08_43_Pro_Left_Swipe_new;Left_Swipe_new;0\\n',\n",
              "       'WIN_20180926_17_37_45_Pro_Left_Swipe_new;Left_Swipe_new;0\\n',\n",
              "       'WIN_20180926_17_00_32_Pro_Left_Swipe_new;Left_Swipe_new;0\\n',\n",
              "       'WIN_20180907_16_25_05_Pro_Stop Gesture_new;Stop Gesture_new;2\\n',\n",
              "       'WIN_20180926_17_13_07_Pro_Left_Swipe_new;Left_Swipe_new;0\\n',\n",
              "       'WIN_20180907_15_39_51_Pro_Stop Gesture_new;Stop Gesture_new;2\\n',\n",
              "       'WIN_20180926_17_15_10_Pro_Stop_new;Stop_new;2\\n',\n",
              "       'WIN_20180907_16_02_30_Pro_Thumbs Up_new;Thumbs Up_new;4\\n',\n",
              "       'WIN_20180907_15_58_17_Pro_Left Swipe_new_Left Swipe_new;Left Swipe_new_Left Swipe_new;0\\n',\n",
              "       'WIN_20180907_15_43_00_Pro_Left Swipe_new_Left Swipe_new;Left Swipe_new_Left Swipe_new;0\\n',\n",
              "       'WIN_20180925_18_15_50_Pro_Thumbs_Down_new;Thumbs_Down_new;3\\n',\n",
              "       'WIN_20180926_16_54_48_Pro_Left_Swipe_new;Left_Swipe_new;0\\n',\n",
              "       'WIN_20180926_17_06_26_Pro_Stop_new;Stop_new;2\\n',\n",
              "       'WIN_20180926_16_39_19_Pro_Stop_new;Stop_new;2\\n',\n",
              "       'WIN_20180907_16_30_13_Pro_Right Swipe_new;Right Swipe_new;1\\n',\n",
              "       'WIN_20180925_18_01_26_Pro_Right_Swipe_new;Right_Swipe_new;1\\n',\n",
              "       'WIN_20180925_18_07_47_Pro_Left_Swipe_new;Left_Swipe_new;0\\n',\n",
              "       'WIN_20180907_16_29_34_Pro_Right Swipe_new;Right Swipe_new;1\\n',\n",
              "       'WIN_20180926_17_32_19_Pro_Thumbs_Up_new;Thumbs_Up_new;4\\n',\n",
              "       'WIN_20180907_16_18_43_Pro_Thumbs Up_new;Thumbs Up_new;4\\n',\n",
              "       'WIN_20180907_15_55_22_Pro_Stop Gesture_new;Stop Gesture_new;2\\n',\n",
              "       'WIN_20180925_17_48_24_Pro_Stop_new;Stop_new;2\\n',\n",
              "       'WIN_20180925_18_04_13_Pro_Thumbs_Down_new;Thumbs_Down_new;3\\n',\n",
              "       'WIN_20180925_17_22_42_Pro_Thumbs_Up_new;Thumbs_Up_new;4\\n',\n",
              "       'WIN_20180926_16_48_35_Pro_Thumbs_Down_new;Thumbs_Down_new;3\\n',\n",
              "       'WIN_20180925_18_20_19_Pro_Thumbs_Down_new;Thumbs_Down_new;3\\n',\n",
              "       'WIN_20180926_17_39_25_Pro_Thumbs_Up_new;Thumbs_Up_new;4\\n',\n",
              "       'WIN_20180926_17_16_17_Pro_Thumbs_Up_new;Thumbs_Up_new;4\\n',\n",
              "       'WIN_20180926_17_13_32_Pro_Left_Swipe_new;Left_Swipe_new;0\\n',\n",
              "       'WIN_20180925_18_01_05_Pro_Right_Swipe_new;Right_Swipe_new;1\\n',\n",
              "       'WIN_20180925_17_25_14_Pro_Thumbs_Up_new;Thumbs_Up_new;4\\n',\n",
              "       'WIN_20180926_17_43_30_Pro_Left_Swipe_new;Left_Swipe_new;0\\n',\n",
              "       'WIN_20180926_17_28_52_Pro_Right_Swipe_new;Right_Swipe_new;1\\n',\n",
              "       'WIN_20180907_16_52_18_Pro_Stop Gesture_new;Stop Gesture_new;2\\n',\n",
              "       'WIN_20180926_17_38_09_Pro_Left_Swipe_new;Left_Swipe_new;0\\n',\n",
              "       'WIN_20180925_17_37_42_Pro_Stop_new;Stop_new;2\\n',\n",
              "       'WIN_20180926_17_19_50_Pro_Thumbs_Down_new;Thumbs_Down_new;3\\n',\n",
              "       'WIN_20180925_17_35_12_Pro_Stop_new;Stop_new;2\\n',\n",
              "       'WIN_20180926_17_21_16_Pro_Left_Swipe_new;Left_Swipe_new;0\\n',\n",
              "       'WIN_20180925_18_06_23_Pro_Thumbs_Down_new;Thumbs_Down_new;3\\n',\n",
              "       'WIN_20180907_16_54_21_Pro_Thumbs Down_new;Thumbs Down_new;3\\n',\n",
              "       'WIN_20180907_16_12_09_Pro_Stop Gesture_new;Stop Gesture_new;2\\n',\n",
              "       'WIN_20180925_17_34_40_Pro_Right_Swipe_new;Right_Swipe_new;1\\n',\n",
              "       'WIN_20180926_17_19_35_Pro_Right_Swipe_new;Right_Swipe_new;1\\n',\n",
              "       'WIN_20180926_16_59_06_Pro_Left_Swipe_new;Left_Swipe_new;0\\n',\n",
              "       'WIN_20180907_15_56_38_Pro_Right Swipe_new;Right Swipe_new;1\\n',\n",
              "       'WIN_20180925_17_48_24_Pro_Left_Swipe_new;Left_Swipe_new;0\\n',\n",
              "       'WIN_20180926_17_32_42_Pro_Thumbs_Up_new;Thumbs_Up_new;4\\n',\n",
              "       'WIN_20180925_18_05_30_Pro_Thumbs_Up_new;Thumbs_Up_new;4\\n',\n",
              "       'WIN_20180926_17_35_12_Pro_Thumbs_Down_new;Thumbs_Down_new;3\\n',\n",
              "       'WIN_20180926_17_19_48_Pro_Left_Swipe_new;Left_Swipe_new;0\\n',\n",
              "       'WIN_20180926_17_54_45_Pro_Right_Swipe_new;Right_Swipe_new;1\\n',\n",
              "       'WIN_20180926_16_54_53_Pro_Thumbs_Down_new;Thumbs_Down_new;3\\n',\n",
              "       'WIN_20180926_16_49_52_Pro_Left_Swipe_new;Left_Swipe_new;0\\n',\n",
              "       'WIN_20180926_17_24_14_Pro_Stop_new;Stop_new;2\\n',\n",
              "       'WIN_20180925_18_00_08_Pro_Stop_new;Stop_new;2\\n',\n",
              "       'WIN_20180926_18_05_38_Pro_Right_Swipe_new;Right_Swipe_new;1\\n',\n",
              "       'WIN_20180926_16_51_04_Pro_Stop_new;Stop_new;2\\n',\n",
              "       'WIN_20180907_15_43_28_Pro_Right Swipe_new;Right Swipe_new;1\\n',\n",
              "       'WIN_20180925_17_47_47_Pro_Right_Swipe_new;Right_Swipe_new;1\\n',\n",
              "       'WIN_20180907_16_01_35_Pro_Thumbs Down_new;Thumbs Down_new;3\\n',\n",
              "       'WIN_20180926_16_49_23_Pro_Thumbs_Up_new;Thumbs_Up_new;4\\n',\n",
              "       'WIN_20180926_17_42_17_Pro_Thumbs_Up_new;Thumbs_Up_new;4\\n',\n",
              "       'WIN_20180925_18_13_15_Pro_Thumbs_Down_new;Thumbs_Down_new;3\\n',\n",
              "       'WIN_20180926_17_20_39_Pro_Right_Swipe_new;Right_Swipe_new;1\\n',\n",
              "       'WIN_20180925_17_22_32_Pro_Right_Swipe_new;Right_Swipe_new;1\\n',\n",
              "       'WIN_20180925_17_51_26_Pro_Left_Swipe_new;Left_Swipe_new;0\\n',\n",
              "       'WIN_20180907_16_16_27_Pro_Left Swipe_new_Left Swipe_new;Left Swipe_new_Left Swipe_new;0\\n',\n",
              "       'WIN_20180926_17_23_39_Pro_Left_Swipe_new;Left_Swipe_new;0\\n',\n",
              "       'WIN_20180925_17_57_36_Pro_Left_Swipe_new;Left_Swipe_new;0\\n',\n",
              "       'WIN_20180926_17_43_44_Pro_Thumbs_Down_new;Thumbs_Down_new;3\\n',\n",
              "       'WIN_20180926_16_49_49_Pro_Thumbs_Up_new;Thumbs_Up_new;4\\n',\n",
              "       'WIN_20180926_17_48_06_Pro_Thumbs_Down_new;Thumbs_Down_new;3\\n',\n",
              "       'WIN_20180925_17_56_48_Pro_Stop_new;Stop_new;2\\n',\n",
              "       'WIN_20180925_17_42_12_Pro_Right_Swipe_new;Right_Swipe_new;1\\n',\n",
              "       'WIN_20180926_17_32_01_Pro_Thumbs_Down_new;Thumbs_Down_new;3\\n',\n",
              "       'WIN_20180926_17_43_07_Pro_Left_Swipe_new;Left_Swipe_new;0\\n',\n",
              "       'WIN_20180926_17_20_22_Pro_Thumbs_Down_new;Thumbs_Down_new;3\\n',\n",
              "       'WIN_20180926_17_24_54_Pro_Left_Swipe_new;Left_Swipe_new;0\\n',\n",
              "       'WIN_20180907_16_28_49_Pro_Right Swipe_new;Right Swipe_new;1\\n',\n",
              "       'WIN_20180907_16_38_23_Pro_Thumbs Up_new;Thumbs Up_new;4\\n',\n",
              "       'WIN_20180907_16_22_52_Pro_Thumbs Up_new;Thumbs Up_new;4\\n',\n",
              "       'WIN_20180907_16_33_26_Pro_Thumbs Up_new;Thumbs Up_new;4\\n',\n",
              "       'WIN_20180926_16_54_08_Pro_Right_Swipe_new;Right_Swipe_new;1\\n',\n",
              "       'WIN_20180907_16_20_32_Pro_Thumbs Down_new;Thumbs Down_new;3\\n',\n",
              "       'WIN_20180925_17_44_25_Pro_Stop_new;Stop_new;2\\n',\n",
              "       'WIN_20180925_17_51_29_Pro_Stop_new;Stop_new;2\\n',\n",
              "       'WIN_20180907_16_20_37_Pro_Thumbs Up_new;Thumbs Up_new;4\\n',\n",
              "       'WIN_20180907_16_24_28_Pro_Stop Gesture_new;Stop Gesture_new;2\\n',\n",
              "       'WIN_20180926_17_23_43_Pro_Thumbs_Up_new;Thumbs_Up_new;4\\n',\n",
              "       'WIN_20180926_16_59_55_Pro_Thumbs_Down_new;Thumbs_Down_new;3\\n',\n",
              "       'WIN_20180926_16_44_06_Pro_Left_Swipe_new;Left_Swipe_new;0\\n',\n",
              "       'WIN_20180926_16_37_46_Pro_Stop_new;Stop_new;2\\n',\n",
              "       'WIN_20180925_18_02_41_Pro_Right_Swipe_new;Right_Swipe_new;1\\n',\n",
              "       'WIN_20180926_16_52_36_Pro_Stop_new;Stop_new;2\\n',\n",
              "       'WIN_20180907_16_28_15_Pro_Stop Gesture_new;Stop Gesture_new;2\\n',\n",
              "       'WIN_20180925_17_44_57_Pro_Thumbs_Down_new;Thumbs_Down_new;3\\n',\n",
              "       'WIN_20180925_17_57_06_Pro_Thumbs_Down_new;Thumbs_Down_new;3\\n',\n",
              "       'WIN_20180907_16_25_22_Pro_Thumbs Down_new;Thumbs Down_new;3\\n',\n",
              "       'WIN_20180907_16_25_19_Pro_Right Swipe_new;Right Swipe_new;1\\n',\n",
              "       'WIN_20180925_17_18_07_Pro_Thumbs_Up_new;Thumbs_Up_new;4\\n',\n",
              "       'WIN_20180926_16_39_58_Pro_Thumbs_Down_new;Thumbs_Down_new;3\\n',\n",
              "       'WIN_20180926_17_11_36_Pro_Thumbs_Down_new;Thumbs_Down_new;3\\n',\n",
              "       'WIN_20180925_17_17_26_Pro_Right_Swipe_new;Right_Swipe_new;1\\n',\n",
              "       'WIN_20180925_17_32_52_Pro_Thumbs_Up_new;Thumbs_Up_new;4\\n',\n",
              "       'WIN_20180925_17_49_29_Pro_Left_Swipe_new;Left_Swipe_new;0\\n',\n",
              "       'WIN_20180907_16_17_11_Pro_Left Swipe_new_Left Swipe_new;Left Swipe_new_Left Swipe_new;0\\n',\n",
              "       'WIN_20180926_16_35_06_Pro_Thumbs_Down_new;Thumbs_Down_new;3\\n',\n",
              "       'WIN_20180925_17_51_23_Pro_Thumbs_Down_new;Thumbs_Down_new;3\\n',\n",
              "       'WIN_20180926_17_14_56_Pro_Right_Swipe_new;Right_Swipe_new;1\\n',\n",
              "       'WIN_20180926_16_50_21_Pro_Left_Swipe_new;Left_Swipe_new;0\\n',\n",
              "       'WIN_20180925_17_44_26_Pro_Right_Swipe_new;Right_Swipe_new;1\\n',\n",
              "       'WIN_20180925_17_54_25_Pro_Left_Swipe_new;Left_Swipe_new;0\\n',\n",
              "       'WIN_20180907_16_42_19_Pro_Left Swipe_new_Left Swipe_new;Left Swipe_new_Left Swipe_new;0\\n',\n",
              "       'WIN_20180926_16_55_27_Pro_Thumbs_Up_new;Thumbs_Up_new;4\\n',\n",
              "       'WIN_20180925_17_23_46_Pro_Thumbs_Up_new;Thumbs_Up_new;4\\n',\n",
              "       'WIN_20180926_16_51_37_Pro_Right_Swipe_new;Right_Swipe_new;1\\n',\n",
              "       'WIN_20180925_17_28_57_Pro_Right_Swipe_new;Right_Swipe_new;1\\n',\n",
              "       'WIN_20180907_16_07_50_Pro_Thumbs Down_new;Thumbs Down_new;3\\n',\n",
              "       'WIN_20180926_16_58_07_Pro_Thumbs_Up_new;Thumbs_Up_new;4\\n',\n",
              "       'WIN_20180907_16_37_22_Pro_Thumbs Up_new;Thumbs Up_new;4\\n',\n",
              "       'WIN_20180926_17_32_29_Pro_Thumbs_Down_new;Thumbs_Down_new;3\\n',\n",
              "       'WIN_20180907_16_04_43_Pro_Stop Gesture_new;Stop Gesture_new;2\\n',\n",
              "       'WIN_20180926_16_41_27_Pro_Right_Swipe_new;Right_Swipe_new;1\\n',\n",
              "       'WIN_20180907_16_22_27_Pro_Thumbs Down_new;Thumbs Down_new;3\\n',\n",
              "       'WIN_20180907_15_52_28_Pro_Left Swipe_new_Left Swipe_new;Left Swipe_new_Left Swipe_new;0\\n',\n",
              "       'WIN_20180907_16_22_23_Pro_Right Swipe_new;Right Swipe_new;1\\n',\n",
              "       'WIN_20180907_16_28_20_Pro_Thumbs Up_new;Thumbs Up_new;4\\n',\n",
              "       'WIN_20180925_18_17_43_Pro_Right_Swipe_new;Right_Swipe_new;1\\n',\n",
              "       'WIN_20180926_17_17_23_Pro_Thumbs_Up_new;Thumbs_Up_new;4\\n',\n",
              "       'WIN_20180925_18_12_58_Pro_Right_Swipe_new;Right_Swipe_new;1\\n',\n",
              "       'WIN_20180907_15_53_00_Pro_Thumbs Down_new;Thumbs Down_new;3\\n',\n",
              "       'WIN_20180907_16_21_11_Pro_Stop Gesture_new;Stop Gesture_new;2\\n',\n",
              "       'WIN_20180926_16_52_38_Pro_Left_Swipe_new;Left_Swipe_new;0\\n',\n",
              "       'WIN_20180907_16_43_19_Pro_Thumbs Down_new;Thumbs Down_new;3\\n',\n",
              "       'WIN_20180907_16_14_58_Pro_Left Swipe_new_Left Swipe_new;Left Swipe_new_Left Swipe_new;0\\n',\n",
              "       'WIN_20180925_17_19_19_Pro_Right_Swipe_new;Right_Swipe_new;1\\n',\n",
              "       'WIN_20180926_16_58_25_Pro_Stop_new;Stop_new;2\\n',\n",
              "       'WIN_20180925_17_50_44_Pro_Left_Swipe_new;Left_Swipe_new;0\\n',\n",
              "       'WIN_20180926_17_07_02_Pro_Stop_new;Stop_new;2\\n',\n",
              "       'WIN_20180926_17_30_14_Pro_Left_Swipe_new;Left_Swipe_new;0\\n',\n",
              "       'WIN_20180907_16_35_35_Pro_Left Swipe_new_Left Swipe_new;Left Swipe_new_Left Swipe_new;0\\n',\n",
              "       'WIN_20180926_17_22_08_Pro_Thumbs_Down_new;Thumbs_Down_new;3\\n',\n",
              "       'WIN_20180926_17_30_47_Pro_Thumbs_Up_new;Thumbs_Up_new;4\\n',\n",
              "       'WIN_20180925_17_29_52_Pro_Left_Swipe_new;Left_Swipe_new;0\\n',\n",
              "       'WIN_20180925_17_37_21_Pro_Right_Swipe_new;Right_Swipe_new;1\\n',\n",
              "       'WIN_20180907_16_12_16_Pro_Thumbs Down_new;Thumbs Down_new;3\\n',\n",
              "       'WIN_20180926_17_40_53_Pro_Thumbs_Up_new;Thumbs_Up_new;4\\n',\n",
              "       'WIN_20180907_15_56_07_Pro_Stop Gesture_new;Stop Gesture_new;2\\n',\n",
              "       'WIN_20180926_17_13_39_Pro_Right_Swipe_new;Right_Swipe_new;1\\n',\n",
              "       'WIN_20180926_17_03_37_Pro_Thumbs_Down_new;Thumbs_Down_new;3\\n',\n",
              "       'WIN_20180926_17_36_34_Pro_Right_Swipe_new;Right_Swipe_new;1\\n',\n",
              "       'WIN_20180907_16_31_45_Pro_Thumbs Up_new;Thumbs Up_new;4\\n',\n",
              "       'WIN_20180907_15_45_40_Pro_Left Swipe_new_Left Swipe_new;Left Swipe_new_Left Swipe_new;0\\n',\n",
              "       'WIN_20180925_17_57_31_Pro_Stop_new;Stop_new;2\\n',\n",
              "       'WIN_20180925_17_48_42_Pro_Thumbs_Up_new;Thumbs_Up_new;4\\n',\n",
              "       'WIN_20180926_17_17_07_Pro_Thumbs_Down_new;Thumbs_Down_new;3\\n',\n",
              "       'WIN_20180925_17_34_05_Pro_Thumbs_Down_new;Thumbs_Down_new;3\\n',\n",
              "       'WIN_20180907_16_27_42_Pro_Right Swipe_new;Right Swipe_new;1\\n',\n",
              "       'WIN_20180925_17_41_24_Pro_Thumbs_Up_new;Thumbs_Up_new;4\\n',\n",
              "       'WIN_20180925_18_05_04_Pro_Thumbs_Down_new;Thumbs_Down_new;3\\n',\n",
              "       'WIN_20180907_16_01_20_Pro_Thumbs Up_new;Thumbs Up_new;4\\n',\n",
              "       'WIN_20180907_16_13_56_Pro_Left Swipe_new_Left Swipe_new;Left Swipe_new_Left Swipe_new;0\\n',\n",
              "       'WIN_20180926_17_19_35_Pro_Stop_new;Stop_new;2\\n',\n",
              "       'WIN_20180907_16_57_43_Pro_Stop Gesture_new;Stop Gesture_new;2\\n',\n",
              "       'WIN_20180926_17_05_38_Pro_Thumbs_Up_new;Thumbs_Up_new;4\\n',\n",
              "       'WIN_20180925_17_44_12_Pro_Thumbs_Up_new;Thumbs_Up_new;4\\n',\n",
              "       'WIN_20180926_16_48_34_Pro_Left_Swipe_new;Left_Swipe_new;0\\n',\n",
              "       'WIN_20180926_17_43_17_Pro_Right_Swipe_new;Right_Swipe_new;1\\n',\n",
              "       'WIN_20180926_16_56_13_Pro_Thumbs_Up_new;Thumbs_Up_new;4\\n',\n",
              "       'WIN_20180907_16_13_35_Pro_Thumbs Up_new;Thumbs Up_new;4\\n',\n",
              "       'WIN_20180926_17_20_41_Pro_Stop_new;Stop_new;2\\n',\n",
              "       'WIN_20180907_15_55_27_Pro_Thumbs Down_new;Thumbs Down_new;3\\n',\n",
              "       'WIN_20180926_17_31_45_Pro_Thumbs_Up_new;Thumbs_Up_new;4\\n',\n",
              "       'WIN_20180907_16_25_47_Pro_Left Swipe_new_Left Swipe_new;Left Swipe_new_Left Swipe_new;0\\n',\n",
              "       'WIN_20180907_16_41_13_Pro_Thumbs Down_new;Thumbs Down_new;3\\n',\n",
              "       'WIN_20180926_17_43_30_Pro_Thumbs_Up_new;Thumbs_Up_new;4\\n',\n",
              "       'WIN_20180907_16_39_19_Pro_Left Swipe_new_Left Swipe_new;Left Swipe_new_Left Swipe_new;0\\n',\n",
              "       'WIN_20180907_16_22_03_Pro_Left Swipe_new_Left Swipe_new;Left Swipe_new_Left Swipe_new;0\\n',\n",
              "       'WIN_20180907_16_56_18_Pro_Stop Gesture_new;Stop Gesture_new;2\\n',\n",
              "       'WIN_20180925_17_55_57_Pro_Left_Swipe_new;Left_Swipe_new;0\\n',\n",
              "       'WIN_20180926_17_52_26_Pro_Stop_new;Stop_new;2\\n',\n",
              "       'WIN_20180925_18_07_19_Pro_Left_Swipe_new;Left_Swipe_new;0\\n',\n",
              "       'WIN_20180926_17_41_15_Pro_Thumbs_Up_new;Thumbs_Up_new;4\\n',\n",
              "       'WIN_20180926_16_50_28_Pro_Right_Swipe_new;Right_Swipe_new;1\\n',\n",
              "       'WIN_20180907_15_59_28_Pro_Thumbs Up_new;Thumbs Up_new;4\\n',\n",
              "       'WIN_20180926_17_05_32_Pro_Stop_new;Stop_new;2\\n',\n",
              "       'WIN_20180926_17_03_21_Pro_Stop_new;Stop_new;2\\n',\n",
              "       'WIN_20180926_17_06_24_Pro_Left_Swipe_new;Left_Swipe_new;0\\n',\n",
              "       'WIN_20180925_18_06_22_Pro_Left_Swipe_new;Left_Swipe_new;0\\n',\n",
              "       'WIN_20180926_17_24_18_Pro_Left_Swipe_new;Left_Swipe_new;0\\n',\n",
              "       'WIN_20180907_16_36_14_Pro_Thumbs Up_new;Thumbs Up_new;4\\n',\n",
              "       'WIN_20180925_17_55_36_Pro_Right_Swipe_new;Right_Swipe_new;1\\n',\n",
              "       'WIN_20180925_17_42_50_Pro_Thumbs_Down_new;Thumbs_Down_new;3\\n',\n",
              "       'WIN_20180925_18_08_08_Pro_Thumbs_Up_new;Thumbs_Up_new;4\\n',\n",
              "       'WIN_20180926_17_13_29_Pro_Thumbs_Up_new;Thumbs_Up_new;4\\n',\n",
              "       'WIN_20180925_17_23_34_Pro_Right_Swipe_new;Right_Swipe_new;1\\n',\n",
              "       'WIN_20180926_17_08_38_Pro_Thumbs_Down_new;Thumbs_Down_new;3\\n',\n",
              "       'WIN_20180925_17_40_22_Pro_Thumbs_Down_new;Thumbs_Down_new;3\\n',\n",
              "       'WIN_20180926_16_57_34_Pro_Left_Swipe_new;Left_Swipe_new;0\\n',\n",
              "       'WIN_20180925_17_26_58_Pro_Right_Swipe_new;Right_Swipe_new;1\\n',\n",
              "       'WIN_20180926_17_33_09_Pro_Thumbs_Up_new;Thumbs_Up_new;4\\n',\n",
              "       'WIN_20180926_16_59_12_Pro_Stop_new;Stop_new;2\\n',\n",
              "       'WIN_20180925_17_38_16_Pro_Stop_new;Stop_new;2\\n',\n",
              "       'WIN_20180926_16_56_46_Pro_Right_Swipe_new;Right_Swipe_new;1\\n',\n",
              "       'WIN_20180926_17_10_34_Pro_Right_Swipe_new;Right_Swipe_new;1\\n',\n",
              "       'WIN_20180907_15_46_43_Pro_Left Swipe_new_Left Swipe_new;Left Swipe_new_Left Swipe_new;0\\n',\n",
              "       'WIN_20180925_17_49_45_Pro_Right_Swipe_new;Right_Swipe_new;1\\n',\n",
              "       'WIN_20180926_17_40_52_Pro_Right_Swipe_new;Right_Swipe_new;1\\n',\n",
              "       'WIN_20180926_17_30_50_Pro_Stop_new;Stop_new;2\\n',\n",
              "       'WIN_20180926_17_19_13_Pro_Stop_new;Stop_new;2\\n',\n",
              "       'WIN_20180907_16_11_00_Pro_Thumbs Down_new;Thumbs Down_new;3\\n',\n",
              "       'WIN_20180926_16_49_59_Pro_Thumbs_Up_new;Thumbs_Up_new;4\\n',\n",
              "       'WIN_20180925_17_58_21_Pro_Right_Swipe_new;Right_Swipe_new;1\\n',\n",
              "       'WIN_20180907_16_03_54_Pro_Right Swipe_new;Right Swipe_new;1\\n',\n",
              "       'WIN_20180926_18_07_05_Pro_Right_Swipe_new;Right_Swipe_new;1\\n',\n",
              "       'WIN_20180907_16_31_12_Pro_Thumbs Down_new;Thumbs Down_new;3\\n',\n",
              "       'WIN_20180925_17_30_26_Pro_Thumbs_Up_new;Thumbs_Up_new;4\\n',\n",
              "       'WIN_20180926_17_35_54_Pro_Thumbs_Up_new;Thumbs_Up_new;4\\n',\n",
              "       'WIN_20180925_18_23_57_Pro_Thumbs_Down_new;Thumbs_Down_new;3\\n',\n",
              "       'WIN_20180925_17_26_25_Pro_Left_Swipe_new;Left_Swipe_new;0\\n',\n",
              "       'WIN_20180926_17_33_08_Pro_Thumbs_Down_new;Thumbs_Down_new;3\\n',\n",
              "       'WIN_20180926_17_07_57_Pro_Thumbs_Up_new;Thumbs_Up_new;4\\n',\n",
              "       'WIN_20180907_15_46_25_Pro_Stop Gesture_new;Stop Gesture_new;2\\n',\n",
              "       'WIN_20180907_16_58_34_Pro_Right Swipe_new;Right Swipe_new;1\\n',\n",
              "       'WIN_20180907_16_40_19_Pro_Left Swipe_new_Left Swipe_new;Left Swipe_new_Left Swipe_new;0\\n',\n",
              "       'WIN_20180907_16_27_36_Pro_Stop Gesture_new;Stop Gesture_new;2\\n',\n",
              "       'WIN_20180926_16_42_15_Pro_Thumbs_Up_new;Thumbs_Up_new;4\\n',\n",
              "       'WIN_20180926_16_49_22_Pro_Thumbs_Down_new;Thumbs_Down_new;3\\n',\n",
              "       'WIN_20180925_17_47_19_Pro_Right_Swipe_new;Right_Swipe_new;1\\n',\n",
              "       'WIN_20180926_16_50_27_Pro_Thumbs_Up_new;Thumbs_Up_new;4\\n',\n",
              "       'WIN_20180925_17_27_22_Pro_Thumbs_Up_new;Thumbs_Up_new;4\\n',\n",
              "       'WIN_20180926_17_40_11_Pro_Stop_new;Stop_new;2\\n',\n",
              "       'WIN_20180907_15_45_56_Pro_Thumbs Down_new;Thumbs Down_new;3\\n',\n",
              "       'WIN_20180926_16_46_40_Pro_Left_Swipe_new;Left_Swipe_new;0\\n',\n",
              "       'WIN_20180925_17_53_03_Pro_Stop_new;Stop_new;2\\n',\n",
              "       'WIN_20180926_17_16_20_Pro_Thumbs_Down_new;Thumbs_Down_new;3\\n',\n",
              "       'WIN_20180926_17_29_37_Pro_Thumbs_Up_new;Thumbs_Up_new;4\\n',\n",
              "       'WIN_20180907_15_35_09_Pro_Right Swipe_new;Right Swipe_new;1\\n',\n",
              "       'WIN_20180926_17_03_38_Pro_Thumbs_Up_new;Thumbs_Up_new;4\\n',\n",
              "       'WIN_20180925_17_32_38_Pro_Right_Swipe_new;Right_Swipe_new;1\\n',\n",
              "       'WIN_20180907_16_17_00_Pro_Right Swipe_new;Right Swipe_new;1\\n',\n",
              "       'WIN_20180925_17_50_43_Pro_Stop_new;Stop_new;2\\n',\n",
              "       'WIN_20180926_17_20_19_Pro_Left_Swipe_new;Left_Swipe_new;0\\n',\n",
              "       'WIN_20180926_16_46_07_Pro_Right_Swipe_new;Right_Swipe_new;1\\n',\n",
              "       'WIN_20180926_16_50_32_Pro_Stop_new;Stop_new;2\\n',\n",
              "       'WIN_20180925_17_20_22_Pro_Right_Swipe_new;Right_Swipe_new;1\\n',\n",
              "       'WIN_20180925_18_00_23_Pro_Right_Swipe_new;Right_Swipe_new;1\\n',\n",
              "       'WIN_20180926_17_18_39_Pro_Thumbs_Down_new;Thumbs_Down_new;3\\n',\n",
              "       'WIN_20180907_15_56_26_Pro_Thumbs Up_new;Thumbs Up_new;4\\n',\n",
              "       'WIN_20180926_17_13_01_Pro_Thumbs_Up_new;Thumbs_Up_new;4\\n',\n",
              "       'WIN_20180925_18_01_52_Pro_Stop_new;Stop_new;2\\n',\n",
              "       'WIN_20180926_16_55_03_Pro_Stop_new;Stop_new;2\\n',\n",
              "       'WIN_20180925_17_20_55_Pro_Right_Swipe_new;Right_Swipe_new;1\\n',\n",
              "       'WIN_20180925_18_21_50_Pro_Thumbs_Down_new;Thumbs_Down_new;3\\n',\n",
              "       'WIN_20180925_18_01_57_Pro_Left_Swipe_new;Left_Swipe_new;0\\n',\n",
              "       'WIN_20180907_16_32_11_Pro_Stop Gesture_new;Stop Gesture_new;2\\n',\n",
              "       'WIN_20180926_16_53_30_Pro_Stop_new;Stop_new;2\\n',\n",
              "       'WIN_20180907_16_04_13_Pro_Thumbs Down_new;Thumbs Down_new;3\\n',\n",
              "       'WIN_20180926_17_12_26_Pro_Thumbs_Up_new;Thumbs_Up_new;4\\n',\n",
              "       'WIN_20180926_16_59_44_Pro_Thumbs_Up_new;Thumbs_Up_new;4\\n',\n",
              "       'WIN_20180926_17_27_34_Pro_Thumbs_Down_new;Thumbs_Down_new;3\\n',\n",
              "       'WIN_20180926_16_55_17_Pro_Thumbs_Down_new;Thumbs_Down_new;3\\n',\n",
              "       'WIN_20180907_16_40_47_Pro_Thumbs Down_new;Thumbs Down_new;3\\n',\n",
              "       'WIN_20180907_16_33_15_Pro_Left Swipe_new_Left Swipe_new;Left Swipe_new_Left Swipe_new;0\\n',\n",
              "       'WIN_20180907_16_14_53_Pro_Stop Gesture_new;Stop Gesture_new;2\\n',\n",
              "       'WIN_20180907_16_19_31_Pro_Right Swipe_new;Right Swipe_new;1\\n',\n",
              "       'WIN_20180926_17_45_57_Pro_Thumbs_Down_new;Thumbs_Down_new;3\\n',\n",
              "       'WIN_20180926_17_03_21_Pro_Left_Swipe_new;Left_Swipe_new;0\\n',\n",
              "       'WIN_20180925_17_19_51_Pro_Left_Swipe_new;Left_Swipe_new;0\\n',\n",
              "       'WIN_20180926_17_25_32_Pro_Left_Swipe_new;Left_Swipe_new;0\\n',\n",
              "       'WIN_20180925_17_55_12_Pro_Left_Swipe_new;Left_Swipe_new;0\\n',\n",
              "       'WIN_20180907_16_12_53_Pro_Left Swipe_new_Left Swipe_new;Left Swipe_new_Left Swipe_new;0\\n',\n",
              "       'WIN_20180926_17_35_35_Pro_Thumbs_Down_new;Thumbs_Down_new;3\\n',\n",
              "       'WIN_20180926_17_27_29_Pro_Stop_new;Stop_new;2\\n',\n",
              "       'WIN_20180907_15_53_18_Pro_Right Swipe_new;Right Swipe_new;1\\n',\n",
              "       'WIN_20180907_16_41_09_Pro_Thumbs Up_new;Thumbs Up_new;4\\n',\n",
              "       'WIN_20180926_17_42_11_Pro_Thumbs_Down_new;Thumbs_Down_new;3\\n',\n",
              "       'WIN_20180907_16_43_39_Pro_Thumbs Up_new;Thumbs Up_new;4\\n',\n",
              "       'WIN_20180925_17_56_11_Pro_Thumbs_Up_new;Thumbs_Up_new;4\\n',\n",
              "       'WIN_20180907_15_56_32_Pro_Left Swipe_new_Left Swipe_new;Left Swipe_new_Left Swipe_new;0\\n',\n",
              "       'WIN_20180907_15_59_12_Pro_Stop Gesture_new;Stop Gesture_new;2\\n',\n",
              "       'WIN_20180926_16_54_30_Pro_Left_Swipe_new;Left_Swipe_new;0\\n',\n",
              "       'WIN_20180907_16_03_09_Pro_Thumbs Down_new;Thumbs Down_new;3\\n',\n",
              "       'WIN_20180907_16_26_02_Pro_Thumbs Up_new;Thumbs Up_new;4\\n',\n",
              "       'WIN_20180907_16_07_43_Pro_Right Swipe_new;Right Swipe_new;1\\n',\n",
              "       'WIN_20180907_16_13_12_Pro_Stop Gesture_new;Stop Gesture_new;2\\n',\n",
              "       'WIN_20180926_17_42_50_Pro_Thumbs_Down_new;Thumbs_Down_new;3\\n',\n",
              "       'WIN_20180926_16_45_15_Pro_Left_Swipe_new;Left_Swipe_new;0\\n',\n",
              "       'WIN_20180926_16_40_01_Pro_Thumbs_Up_new;Thumbs_Up_new;4\\n',\n",
              "       'WIN_20180926_16_59_27_Pro_Thumbs_Up_new;Thumbs_Up_new;4\\n',\n",
              "       'WIN_20180907_15_50_33_Pro_Left Swipe_new_Left Swipe_new;Left Swipe_new_Left Swipe_new;0\\n',\n",
              "       'WIN_20180925_17_50_31_Pro_Right_Swipe_new;Right_Swipe_new;1\\n',\n",
              "       'WIN_20180907_16_18_18_Pro_Right Swipe_new;Right Swipe_new;1\\n',\n",
              "       'WIN_20180926_16_54_07_Pro_Stop_new;Stop_new;2\\n',\n",
              "       'WIN_20180926_17_07_29_Pro_Stop_new;Stop_new;2\\n',\n",
              "       'WIN_20180926_17_27_40_Pro_Left_Swipe_new;Left_Swipe_new;0\\n',\n",
              "       'WIN_20180925_17_43_57_Pro_Stop_new;Stop_new;2\\n',\n",
              "       'WIN_20180926_17_43_57_Pro_Stop_new;Stop_new;2\\n',\n",
              "       'WIN_20180926_17_36_31_Pro_Thumbs_Down_new;Thumbs_Down_new;3\\n',\n",
              "       'WIN_20180925_17_43_33_Pro_Thumbs_Down_new;Thumbs_Down_new;3\\n',\n",
              "       'WIN_20180907_15_44_32_Pro_Thumbs Down_new;Thumbs Down_new;3\\n',\n",
              "       'WIN_20180926_17_33_46_Pro_Left_Swipe_new;Left_Swipe_new;0\\n',\n",
              "       'WIN_20180925_17_36_58_Pro_Right_Swipe_new;Right_Swipe_new;1\\n',\n",
              "       'WIN_20180926_17_44_30_Pro_Thumbs_Down_new;Thumbs_Down_new;3\\n',\n",
              "       'WIN_20180925_17_28_48_Pro_Stop_new;Stop_new;2\\n',\n",
              "       'WIN_20180907_15_40_55_Pro_Thumbs Up_new;Thumbs Up_new;4\\n',\n",
              "       'WIN_20180926_17_21_20_Pro_Right_Swipe_new;Right_Swipe_new;1\\n',\n",
              "       'WIN_20180926_17_19_06_Pro_Thumbs_Down_new;Thumbs_Down_new;3\\n',\n",
              "       'WIN_20180907_16_05_58_Pro_Stop Gesture_new;Stop Gesture_new;2\\n',\n",
              "       'WIN_20180926_17_06_07_Pro_Thumbs_Up_new;Thumbs_Up_new;4\\n',\n",
              "       'WIN_20180926_17_40_37_Pro_Stop_new;Stop_new;2\\n',\n",
              "       'WIN_20180926_17_17_18_Pro_Thumbs_Down_new;Thumbs_Down_new;3\\n',\n",
              "       'WIN_20180907_16_06_43_Pro_Stop Gesture_new;Stop Gesture_new;2\\n',\n",
              "       'WIN_20180926_17_21_49_Pro_Stop_new;Stop_new;2\\n',\n",
              "       'WIN_20180925_17_36_28_Pro_Thumbs_Down_new;Thumbs_Down_new;3\\n',\n",
              "       'WIN_20180925_17_38_50_Pro_Stop_new;Stop_new;2\\n',\n",
              "       'WIN_20180926_17_37_02_Pro_Stop_new;Stop_new;2\\n',\n",
              "       'WIN_20180907_15_45_30_Pro_Thumbs Up_new;Thumbs Up_new;4\\n',\n",
              "       'WIN_20180907_17_03_16_Pro_Right Swipe_new;Right Swipe_new;1\\n',\n",
              "       'WIN_20180926_17_02_35_Pro_Right_Swipe_new;Right_Swipe_new;1\\n',\n",
              "       'WIN_20180925_17_39_48_Pro_Thumbs_Down_new;Thumbs_Down_new;3\\n',\n",
              "       'WIN_20180907_15_41_54_Pro_Right Swipe_new;Right Swipe_new;1\\n',\n",
              "       'WIN_20180925_17_26_37_Pro_Thumbs_Up_new;Thumbs_Up_new;4\\n',\n",
              "       'WIN_20180925_17_52_58_Pro_Left_Swipe_new;Left_Swipe_new;0\\n',\n",
              "       'WIN_20180926_17_05_54_Pro_Right_Swipe_new;Right_Swipe_new;1\\n',\n",
              "       'WIN_20180926_17_22_16_Pro_Thumbs_Up_new;Thumbs_Up_new;4\\n',\n",
              "       'WIN_20180926_16_41_11_Pro_Thumbs_Up_new;Thumbs_Up_new;4\\n',\n",
              "       'WIN_20180907_15_38_17_Pro_Left Swipe_new_Left Swipe_new;Left Swipe_new_Left Swipe_new;0\\n',\n",
              "       'WIN_20180925_17_57_12_Pro_Thumbs_Up_new;Thumbs_Up_new;4\\n',\n",
              "       'WIN_20180907_16_21_32_Pro_Thumbs Down_new;Thumbs Down_new;3\\n',\n",
              "       'WIN_20180926_17_29_54_Pro_Thumbs_Down_new;Thumbs_Down_new;3\\n',\n",
              "       'WIN_20180926_17_15_12_Pro_Left_Swipe_new;Left_Swipe_new;0\\n',\n",
              "       'WIN_20180907_16_27_09_Pro_Thumbs Up_new;Thumbs Up_new;4\\n',\n",
              "       'WIN_20180907_15_51_58_Pro_Right Swipe_new;Right Swipe_new;1\\n',\n",
              "       'WIN_20180907_15_49_56_Pro_Right Swipe_new;Right Swipe_new;1\\n',\n",
              "       'WIN_20180907_15_38_24_Pro_Right Swipe_new;Right Swipe_new;1\\n',\n",
              "       'WIN_20180926_17_00_47_Pro_Stop_new;Stop_new;2\\n',\n",
              "       'WIN_20180926_16_52_10_Pro_Thumbs_Up_new;Thumbs_Up_new;4\\n',\n",
              "       'WIN_20180926_17_29_33_Pro_Left_Swipe_new;Left_Swipe_new;0\\n',\n",
              "       'WIN_20180926_17_22_49_Pro_Right_Swipe_new;Right_Swipe_new;1\\n',\n",
              "       'WIN_20180926_17_38_34_Pro_Right_Swipe_new;Right_Swipe_new;1\\n',\n",
              "       'WIN_20180926_16_44_37_Pro_Left_Swipe_new;Left_Swipe_new;0\\n',\n",
              "       'WIN_20180925_17_21_28_Pro_Left_Swipe_new;Left_Swipe_new;0\\n',\n",
              "       'WIN_20180926_16_56_12_Pro_Stop_new;Stop_new;2\\n',\n",
              "       'WIN_20180926_17_11_11_Pro_Left_Swipe_new;Left_Swipe_new;0\\n',\n",
              "       'WIN_20180925_17_42_57_Pro_Stop_new;Stop_new;2\\n',\n",
              "       'WIN_20180926_17_53_54_Pro_Right_Swipe_new;Right_Swipe_new;1\\n',\n",
              "       'WIN_20180926_17_05_27_Pro_Left_Swipe_new;Left_Swipe_new;0\\n',\n",
              "       'WIN_20180907_16_14_43_Pro_Thumbs Down_new;Thumbs Down_new;3\\n',\n",
              "       'WIN_20180907_16_00_54_Pro_Right Swipe_new;Right Swipe_new;1\\n',\n",
              "       'WIN_20180907_15_58_45_Pro_Left Swipe_new_Left Swipe_new;Left Swipe_new_Left Swipe_new;0\\n',\n",
              "       'WIN_20180907_15_54_27_Pro_Thumbs Down_new;Thumbs Down_new;3\\n',\n",
              "       'WIN_20180926_17_13_13_Pro_Right_Swipe_new;Right_Swipe_new;1\\n',\n",
              "       'WIN_20180907_16_32_17_Pro_Left Swipe_new_Left Swipe_new;Left Swipe_new_Left Swipe_new;0\\n',\n",
              "       'WIN_20180926_17_21_18_Pro_Thumbs_Up_new;Thumbs_Up_new;4\\n',\n",
              "       'WIN_20180907_16_25_52_Pro_Thumbs Down_new;Thumbs Down_new;3\\n',\n",
              "       'WIN_20180926_17_10_46_Pro_Stop_new;Stop_new;2\\n',\n",
              "       'WIN_20180926_17_01_07_Pro_Thumbs_Up_new;Thumbs_Up_new;4\\n',\n",
              "       'WIN_20180925_17_57_52_Pro_Thumbs_Down_new;Thumbs_Down_new;3\\n',\n",
              "       'WIN_20180926_16_39_45_Pro_Right_Swipe_new;Right_Swipe_new;1\\n',\n",
              "       'WIN_20180925_17_45_31_Pro_Stop_new;Stop_new;2\\n',\n",
              "       'WIN_20180926_17_53_03_Pro_Right_Swipe_new;Right_Swipe_new;1\\n',\n",
              "       'WIN_20180907_16_23_55_Pro_Right Swipe_new;Right Swipe_new;1\\n',\n",
              "       'WIN_20180925_17_29_33_Pro_Stop_new;Stop_new;2\\n',\n",
              "       'WIN_20180926_17_12_29_Pro_Thumbs_Down_new;Thumbs_Down_new;3\\n',\n",
              "       'WIN_20180925_18_02_17_Pro_Left_Swipe_new;Left_Swipe_new;0\\n',\n",
              "       'WIN_20180907_16_49_05_Pro_Left Swipe_new_Left Swipe_new;Left Swipe_new_Left Swipe_new;0\\n',\n",
              "       'WIN_20180907_15_49_02_Pro_Left Swipe_new_Left Swipe_new;Left Swipe_new_Left Swipe_new;0\\n',\n",
              "       'WIN_20180925_17_43_57_Pro_Left_Swipe_new;Left_Swipe_new;0\\n',\n",
              "       'WIN_20180925_17_46_49_Pro_Left_Swipe_new;Left_Swipe_new;0\\n',\n",
              "       'WIN_20180925_18_26_40_Pro_Thumbs_Down_new;Thumbs_Down_new;3\\n',\n",
              "       'WIN_20180907_15_38_35_Pro_Thumbs Down_new;Thumbs Down_new;3\\n',\n",
              "       'WIN_20180926_17_40_43_Pro_Thumbs_Down_new;Thumbs_Down_new;3\\n',\n",
              "       'WIN_20180925_17_18_25_Pro_Right_Swipe_new;Right_Swipe_new;1\\n',\n",
              "       'WIN_20180926_17_00_22_Pro_Stop_new;Stop_new;2\\n',\n",
              "       'WIN_20180907_15_44_36_Pro_Right Swipe_new;Right Swipe_new;1\\n',\n",
              "       'WIN_20180907_16_00_27_Pro_Stop Gesture_new;Stop Gesture_new;2\\n',\n",
              "       'WIN_20180926_17_42_05_Pro_Thumbs_Down_new;Thumbs_Down_new;3\\n',\n",
              "       'WIN_20180907_15_47_19_Pro_Thumbs Up_new;Thumbs Up_new;4\\n',\n",
              "       'WIN_20180926_17_11_24_Pro_Right_Swipe_new;Right_Swipe_new;1\\n',\n",
              "       'WIN_20180925_17_27_40_Pro_Left_Swipe_new;Left_Swipe_new;0\\n',\n",
              "       'WIN_20180926_17_30_12_Pro_Thumbs_Up_new;Thumbs_Up_new;4\\n',\n",
              "       'WIN_20180907_16_37_37_Pro_Left Swipe_new_Left Swipe_new;Left Swipe_new_Left Swipe_new;0\\n',\n",
              "       'WIN_20180926_17_38_25_Pro_Stop_new;Stop_new;2\\n',\n",
              "       'WIN_20180925_17_53_35_Pro_Stop_new;Stop_new;2\\n',\n",
              "       'WIN_20180926_17_50_56_Pro_Stop_new;Stop_new;2\\n',\n",
              "       'WIN_20180925_18_05_57_Pro_Right_Swipe_new;Right_Swipe_new;1\\n',\n",
              "       'WIN_20180907_16_04_16_Pro_Thumbs Up_new;Thumbs Up_new;4\\n',\n",
              "       'WIN_20180907_15_49_14_Pro_Thumbs Down_new;Thumbs Down_new;3\\n',\n",
              "       'WIN_20180926_16_47_00_Pro_Right_Swipe_new;Right_Swipe_new;1\\n',\n",
              "       'WIN_20180926_16_56_54_Pro_Stop_new;Stop_new;2\\n',\n",
              "       'WIN_20180925_17_24_26_Pro_Right_Swipe_new;Right_Swipe_new;1\\n',\n",
              "       'WIN_20180926_16_47_06_Pro_Thumbs_Up_new;Thumbs_Up_new;4\\n',\n",
              "       'WIN_20180926_16_48_32_Pro_Thumbs_Up_new;Thumbs_Up_new;4\\n',\n",
              "       'WIN_20180926_17_13_59_Pro_Thumbs_Down_new;Thumbs_Down_new;3\\n',\n",
              "       'WIN_20180907_16_38_29_Pro_Left Swipe_new_Left Swipe_new;Left Swipe_new_Left Swipe_new;0\\n',\n",
              "       'WIN_20180926_16_56_51_Pro_Thumbs_Up_new;Thumbs_Up_new;4\\n',\n",
              "       'WIN_20180926_17_22_54_Pro_Left_Swipe_new;Left_Swipe_new;0\\n',\n",
              "       'WIN_20180926_17_39_43_Pro_Stop_new;Stop_new;2\\n',\n",
              "       'WIN_20180925_17_50_59_Pro_Right_Swipe_new;Right_Swipe_new;1\\n',\n",
              "       'WIN_20180926_17_20_43_Pro_Left_Swipe_new;Left_Swipe_new;0\\n',\n",
              "       'WIN_20180926_16_35_34_Pro_Stop_new;Stop_new;2\\n',\n",
              "       'WIN_20180907_16_19_27_Pro_Stop Gesture_new;Stop Gesture_new;2\\n',\n",
              "       'WIN_20180926_16_38_09_Pro_Thumbs_Up_new;Thumbs_Up_new;4\\n',\n",
              "       'WIN_20180926_17_40_55_Pro_Thumbs_Down_new;Thumbs_Down_new;3\\n',\n",
              "       'WIN_20180926_17_21_29_Pro_Stop_new;Stop_new;2\\n',\n",
              "       'WIN_20180926_17_29_01_Pro_Stop_new;Stop_new;2\\n',\n",
              "       'WIN_20180925_18_06_24_Pro_Stop_new;Stop_new;2\\n',\n",
              "       'WIN_20180926_17_33_51_Pro_Thumbs_Down_new;Thumbs_Down_new;3\\n',\n",
              "       'WIN_20180925_17_32_14_Pro_Right_Swipe_new;Right_Swipe_new;1\\n',\n",
              "       'WIN_20180926_16_57_26_Pro_Left_Swipe_new;Left_Swipe_new;0\\n',\n",
              "       'WIN_20180925_17_41_54_Pro_Thumbs_Up_new;Thumbs_Up_new;4\\n',\n",
              "       'WIN_20180926_16_49_40_Pro_Stop_new;Stop_new;2\\n',\n",
              "       'WIN_20180926_16_38_18_Pro_Thumbs_Down_new;Thumbs_Down_new;3\\n',\n",
              "       'WIN_20180926_17_47_06_Pro_Stop_new;Stop_new;2\\n',\n",
              "       'WIN_20180925_17_20_14_Pro_Left_Swipe_new;Left_Swipe_new;0\\n',\n",
              "       'WIN_20180926_16_50_23_Pro_Stop_new;Stop_new;2\\n',\n",
              "       'WIN_20180926_17_15_56_Pro_Right_Swipe_new;Right_Swipe_new;1\\n',\n",
              "       'WIN_20180907_15_43_40_Pro_Stop Gesture_new;Stop Gesture_new;2\\n',\n",
              "       'WIN_20180907_15_58_38_Pro_Thumbs Down_new;Thumbs Down_new;3\\n',\n",
              "       'WIN_20180926_17_36_08_Pro_Thumbs_Down_new;Thumbs_Down_new;3\\n',\n",
              "       'WIN_20180926_17_02_05_Pro_Thumbs_Down_new;Thumbs_Down_new;3\\n',\n",
              "       'WIN_20180907_16_25_10_Pro_Thumbs Up_new;Thumbs Up_new;4\\n',\n",
              "       'WIN_20180926_16_52_54_Pro_Thumbs_Down_new;Thumbs_Down_new;3\\n',\n",
              "       'WIN_20180926_16_57_19_Pro_Right_Swipe_new;Right_Swipe_new;1\\n',\n",
              "       'WIN_20180926_17_10_43_Pro_Thumbs_Up_new;Thumbs_Up_new;4\\n',\n",
              "       'WIN_20180907_16_15_44_Pro_Thumbs Down_new;Thumbs Down_new;3\\n',\n",
              "       'WIN_20180907_16_53_36_Pro_Thumbs Down_new;Thumbs Down_new;3\\n',\n",
              "       'WIN_20180926_17_27_33_Pro_Right_Swipe_new;Right_Swipe_new;1\\n',\n",
              "       'WIN_20180925_17_55_45_Pro_Thumbs_Down_new;Thumbs_Down_new;3\\n',\n",
              "       'WIN_20180925_17_19_16_Pro_Thumbs_Up_new;Thumbs_Up_new;4\\n',\n",
              "       'WIN_20180926_16_45_45_Pro_Thumbs_Down_new;Thumbs_Down_new;3\\n',\n",
              "       'WIN_20180925_18_14_47_Pro_Thumbs_Down_new;Thumbs_Down_new;3\\n',\n",
              "       'WIN_20180925_17_46_39_Pro_Left_Swipe_new;Left_Swipe_new;0\\n',\n",
              "       'WIN_20180907_16_04_51_Pro_Left Swipe_new_Left Swipe_new;Left Swipe_new_Left Swipe_new;0\\n',\n",
              "       'WIN_20180907_16_08_56_Pro_Thumbs Up_new;Thumbs Up_new;4\\n',\n",
              "       'WIN_20180926_17_24_55_Pro_Stop_new;Stop_new;2\\n',\n",
              "       'WIN_20180907_15_49_58_Pro_Stop Gesture_new;Stop Gesture_new;2\\n',\n",
              "       'WIN_20180926_17_28_28_Pro_Stop_new;Stop_new;2\\n',\n",
              "       'WIN_20180925_17_46_48_Pro_Right_Swipe_new;Right_Swipe_new;1\\n',\n",
              "       'WIN_20180907_15_49_59_Pro_Thumbs Up_new;Thumbs Up_new;4\\n',\n",
              "       'WIN_20180907_15_52_03_Pro_Stop Gesture_new;Stop Gesture_new;2\\n',\n",
              "       'WIN_20180926_17_23_23_Pro_Right_Swipe_new;Right_Swipe_new;1\\n',\n",
              "       'WIN_20180926_16_51_21_Pro_Thumbs_Down_new;Thumbs_Down_new;3\\n',\n",
              "       'WIN_20180925_17_31_26_Pro_Thumbs_Up_new;Thumbs_Up_new;4\\n',\n",
              "       'WIN_20180926_17_10_00_Pro_Thumbs_Up_new;Thumbs_Up_new;4\\n',\n",
              "       'WIN_20180907_16_27_05_Pro_Right Swipe_new;Right Swipe_new;1\\n',\n",
              "       'WIN_20180926_16_40_38_Pro_Right_Swipe_new;Right_Swipe_new;1\\n',\n",
              "       'WIN_20180926_17_34_37_Pro_Stop_new;Stop_new;2\\n',\n",
              "       'WIN_20180907_15_56_12_Pro_Thumbs Down_new;Thumbs Down_new;3\\n',\n",
              "       'WIN_20180925_17_37_54_Pro_Thumbs_Down_new;Thumbs_Down_new;3\\n',\n",
              "       'WIN_20180925_17_50_07_Pro_Thumbs_Down_new;Thumbs_Down_new;3\\n',\n",
              "       'WIN_20180907_16_12_20_Pro_Right Swipe_new;Right Swipe_new;1\\n',\n",
              "       'WIN_20180907_16_35_51_Pro_Right Swipe_new;Right Swipe_new;1\\n',\n",
              "       'WIN_20180926_17_44_20_Pro_Right_Swipe_new;Right_Swipe_new;1\\n',\n",
              "       'WIN_20180926_17_11_17_Pro_Stop_new;Stop_new;2\\n',\n",
              "       'WIN_20180926_17_16_10_Pro_Left_Swipe_new;Left_Swipe_new;0\\n',\n",
              "       'WIN_20180907_16_02_21_Pro_Left Swipe_new_Left Swipe_new;Left Swipe_new_Left Swipe_new;0\\n',\n",
              "       'WIN_20180926_17_45_23_Pro_Thumbs_Down_new;Thumbs_Down_new;3\\n',\n",
              "       'WIN_20180926_17_51_06_Pro_Stop_new;Stop_new;2\\n',\n",
              "       'WIN_20180926_17_23_38_Pro_Thumbs_Down_new;Thumbs_Down_new;3\\n',\n",
              "       'WIN_20180925_17_52_20_Pro_Left_Swipe_new;Left_Swipe_new;0\\n',\n",
              "       'WIN_20180925_17_35_39_Pro_Left_Swipe_new;Left_Swipe_new;0\\n',\n",
              "       'WIN_20180925_18_11_52_Pro_Right_Swipe_new;Right_Swipe_new;1\\n',\n",
              "       'WIN_20180926_17_11_41_Pro_Left_Swipe_new;Left_Swipe_new;0\\n',\n",
              "       'WIN_20180907_16_33_59_Pro_Right Swipe_new;Right Swipe_new;1\\n',\n",
              "       'WIN_20180907_16_29_13_Pro_Stop Gesture_new;Stop Gesture_new;2\\n',\n",
              "       'WIN_20180926_16_57_51_Pro_Thumbs_Up_new;Thumbs_Up_new;4\\n',\n",
              "       'WIN_20180907_16_40_59_Pro_Left Swipe_new_Left Swipe_new;Left Swipe_new_Left Swipe_new;0\\n',\n",
              "       'WIN_20180926_17_10_30_Pro_Stop_new;Stop_new;2\\n',\n",
              "       'WIN_20180925_17_46_20_Pro_Left_Swipe_new;Left_Swipe_new;0\\n',\n",
              "       'WIN_20180926_17_28_21_Pro_Right_Swipe_new;Right_Swipe_new;1\\n',\n",
              "       'WIN_20180925_17_28_28_Pro_Thumbs_Up_new;Thumbs_Up_new;4\\n',\n",
              "       'WIN_20180925_18_02_58_Pro_Thumbs_Down_new;Thumbs_Down_new;3\\n',\n",
              "       'WIN_20180925_17_51_52_Pro_Right_Swipe_new;Right_Swipe_new;1\\n',\n",
              "       'WIN_20180926_16_45_10_Pro_Thumbs_Up_new;Thumbs_Up_new;4\\n',\n",
              "       'WIN_20180907_15_54_06_Pro_Stop Gesture_new;Stop Gesture_new;2\\n',\n",
              "       'WIN_20180925_18_07_19_Pro_Thumbs_Up_new;Thumbs_Up_new;4\\n'],\n",
              "      dtype='<U88')"
            ]
          },
          "metadata": {},
          "execution_count": 42
        }
      ]
    },
    {
      "cell_type": "code",
      "execution_count": 43,
      "metadata": {
        "id": "_QnUDgOMML9n"
      },
      "outputs": [],
      "source": [
        "def generator(source_path, folder_list, batch_size):\n",
        "    print( 'Source path = ', source_path, '; batch size =', batch_size)\n",
        "    img_idx = [0,3,7,8,10]#create a list of image numbers you want to use for a particular video\n",
        "    while True:\n",
        "        t = np.random.permutation(folder_list)\n",
        "        num_batches = len(folder_list)//batch_size # calculate the number of batches\n",
        "        for batch in range(num_batches): # we iterate over the number of batches\n",
        "            batch_data = np.zeros((batch_size,5,255,255,3)) # x is the number of images you use for each video, (y,z) is the final size of the input images and 3 is the number of channels RGB\n",
        "            batch_labels = np.zeros((batch_size,5)) # batch_labels is the one hot representation of the output\n",
        "            for folder in range(batch_size): # iterate over the batch_size\n",
        "                imgs = os.listdir(source_path+'/'+ t[folder + (batch*batch_size)].split(';')[0]) # read all the images in the folder\n",
        "                for idx,item in enumerate(img_idx): #  Iterate iver the frames/images of a folder to read them in\n",
        "                    image = imread(source_path+'/'+ t[folder + (batch*batch_size)].strip().split(';')[0]+'/'+imgs[item]).astype(np.float32)\n",
        "                    \n",
        "                    print(source_path+'/'+ t[folder + (batch*batch_size)].strip().split(';')[0]+'/'+imgs[item])\n",
        "                    #crop the images and resize them. Note that the images are of 2 different shape \n",
        "                    #and the conv3D will throw error if the inputs in a batch have different shapes\n",
        "                    batch_data[folder,idx,:,:,0] = tf.image.per_image_standardization(cv2.resize(image,(255,255)))[:,:,0] #normalise and feed in the image\n",
        "                    batch_data[folder,idx,:,:,1] = tf.image.per_image_standardization(cv2.resize(image,(255,255)))[:,:,1] #normalise and feed in the image\n",
        "                    batch_data[folder,idx,:,:,2] = tf.image.per_image_standardization(cv2.resize(image,(255,255)))[:,:,2] #normalise and feed in the image\n",
        "                    \n",
        "                batch_labels[folder, int(t[folder + (batch*batch_size)].strip().split(';')[2])] = 1\n",
        "            yield batch_data, batch_labels #you yield the batch_data and the batch_labels, remember what does yield do\n",
        "\n",
        "        \n",
        "        # write the code for the remaining data points which are left after full batches\n",
        "        num_batches = len(folder_list)%batch_size # calculate the number of batches\n",
        "        for batch in range(num_batches): # we iterate over the number of batches\n",
        "            batch_data = np.zeros((batch_size,5,100,100,3)) # x is the number of images you use for each video, (y,z) is the final size of the input images and 3 is the number of channels RGB\n",
        "            batch_labels = np.zeros((batch_size,5)) # batch_labels is the one hot representation of the output\n",
        "            for folder in range(batch_size): # iterate over the batch_size\n",
        "                imgs = os.listdir(source_path+'/'+ t[folder + (batch*batch_size)].split(';')[0]) # read all the images in the folder\n",
        "                for idx,item in enumerate(img_idx): #  Iterate iver the frames/images of a folder to read them in\n",
        "                    image = imread(source_path+'/'+ t[folder + (batch*batch_size)].strip().split(';')[0]+'/'+imgs[item]).astype(np.float32)\n",
        "                    \n",
        "                    print(source_path+'/'+ t[folder + (batch*batch_size)].strip().split(';')[0]+'/'+imgs[item])\n",
        "                    #crop the images and resize them. Note that the images are of 2 different shape \n",
        "                    #and the conv3D will throw error if the inputs in a batch have different shapes\n",
        "                    \n",
        "                    batch_data[folder,idx,:,:,0] = tf.image.per_image_standardization(cv2.resize(image,(255,255,0)))[:,:,0] #normalise and feed in the image\n",
        "                    batch_data[folder,idx,:,:,1] = tf.image.per_image_standardization(cv2.resize(image,(255,255,1)))[:,:,1] #normalise and feed in the image\n",
        "                    batch_data[folder,idx,:,:,2] = tf.image.per_image_standardization(cv2.resize(image,(255,255,2)))[:,:,2] #normalise and feed in the image\n",
        "                    \n",
        "                batch_labels[folder, int(t[folder + (batch*batch_size)].strip().split(';')[2])] = 1\n",
        "            yield batch_data, batch_labels #you yield the batch_data and the batch_labels, remember what does yield do\n"
      ]
    },
    {
      "cell_type": "markdown",
      "metadata": {
        "id": "LAGtENAHML9o"
      },
      "source": [
        "Note here that a video is represented above in the generator as (number of images, height, width, number of channels). Take this into consideration while creating the model architecture."
      ]
    },
    {
      "cell_type": "code",
      "execution_count": 44,
      "metadata": {
        "id": "vV20B0xRML9p",
        "colab": {
          "base_uri": "https://localhost:8080/"
        },
        "outputId": "705cc66f-849e-4940-ff83-ea1809958bce"
      },
      "outputs": [
        {
          "output_type": "stream",
          "name": "stdout",
          "text": [
            "# training sequences = 663\n",
            "# validation sequences = 100\n",
            "# epochs = 5\n"
          ]
        }
      ],
      "source": [
        "curr_dt_time = datetime.datetime.now()\n",
        "train_path = '/content/drive/MyDrive/Colab Notebooks/Gesture_Recognition/train'\n",
        "val_path = '/content/drive/MyDrive/Colab Notebooks/Gesture_Recognition/train'\n",
        "num_train_sequences = len(train_doc)\n",
        "print('# training sequences =', num_train_sequences)\n",
        "num_val_sequences = len(val_doc)\n",
        "print('# validation sequences =', num_val_sequences)\n",
        "num_epochs = 5 # choose the number of epochs\n",
        "print ('# epochs =', num_epochs)"
      ]
    },
    {
      "cell_type": "code",
      "source": [
        "def test_gen(source_path, folder_list, batch_size):\n",
        "    print( 'Source path = ', source_path, '; batch size =', batch_size)\n",
        "    img_idx = [0,3,7,8,10]#create a list of image numbers you want to use for a particular video\n",
        "    #while True:\n",
        "    t = np.random.permutation(folder_list)\n",
        "    num_batches = len(folder_list)//batch_size # calculate the number of batches\n",
        "    for batch in range(num_batches): # we iterate over the number of batches\n",
        "        batch_data = np.zeros((batch_size,5,100,100,3)) # x is the number of images you use for each video, (y,z) is the final size of the input images and 3 is the number of channels RGB\n",
        "        batch_labels = np.zeros((batch_size,5)) # batch_labels is the one hot representation of the output\n",
        "        for folder in range(batch_size): # iterate over the batch_size\n",
        "            imgs = os.listdir(source_path+'/'+ t[folder + (batch*batch_size)].split(';')[0]) # read all the images in the folder\n",
        "            for idx,item in enumerate(img_idx): #  Iterate iver the frames/images of a folder to read them in\n",
        "                image = imread(source_path+'/'+ t[folder + (batch*batch_size)].strip().split(';')[0]+'/'+imgs[item]).astype(np.float32)\n",
        "                \n",
        "                #crop the images and resize them. Note that the images are of 2 different shape \n",
        "                #and the conv3D will throw error if the inputs in a batch have different shapes\n",
        "                #img0 = image[:,:,0]\n",
        "                print(type(image[:,:,1]))\n",
        "                print(image[:,:,0].shape)\n",
        "                print(tf.image.per_image_standardization(cv2.resize(image,(255,255)))[:,:,0])\n",
        "                print(tf.image.per_image_standardization(cv2.resize(image,(255,255)))[:,:,0].shape)\n",
        "                return\n",
        "                #batch_data[folder,idx,:,:,0] = normalize(cv2.resize(image,(255,255)),0) #normalise and feed in the image\n",
        "                #batch_data[folder,idx,:,:,1] = normalize(cv2.resize(image,(255,255)),1) #normalise and feed in the image\n",
        "                #batch_data[folder,idx,:,:,2] = normalize(cv2.resize(image,(255,255)),2) #normalise and feed in the image\n",
        "                \n",
        "            batch_labels[folder, int(t[folder + (batch*batch_size)].strip().split(';')[2])] = 1\n",
        "            #yield batch_data, batch_labels #you yield the batch_data and the batch_labels, remember what does yield do\n",
        "    print(batch_labels)\n"
      ],
      "metadata": {
        "id": "MQCWxUJZ4ctO"
      },
      "execution_count": 45,
      "outputs": []
    },
    {
      "cell_type": "code",
      "source": [
        "test_gen(train_path, train_doc, batch_size)"
      ],
      "metadata": {
        "colab": {
          "base_uri": "https://localhost:8080/"
        },
        "id": "pxdLgCQ044cW",
        "outputId": "e1b2db5c-d64e-44ec-cd95-a8289f0143e2"
      },
      "execution_count": 46,
      "outputs": [
        {
          "output_type": "stream",
          "name": "stdout",
          "text": [
            "Source path =  /content/drive/MyDrive/Colab Notebooks/Gesture_Recognition/train ; batch size = 32\n",
            "<class 'imageio.core.util.Array'>\n",
            "(120, 160)\n",
            "tf.Tensor(\n",
            "[[ 2.2814941   2.3018813   2.3277047  ... -0.36896268 -0.35929766\n",
            "  -0.352502  ]\n",
            " [ 2.291008    2.3071976   2.3277047  ... -0.36896268 -0.36106983\n",
            "  -0.35567334]\n",
            " [ 2.3127542   2.31935     2.3277047  ... -0.36896268 -0.36512062\n",
            "  -0.36292195]\n",
            " ...\n",
            " [-0.7416668  -0.74846244 -0.76132977 ... -1.1674874  -1.1747097\n",
            "  -1.1793066 ]\n",
            " [-0.79240775 -0.7992034  -0.8105783  ... -1.1669899  -1.170659\n",
            "  -1.172058  ]\n",
            " [-0.81460655 -0.8214022  -0.8321242  ... -1.1667722  -1.1688867\n",
            "  -1.1688867 ]], shape=(255, 255), dtype=float32)\n",
            "(255, 255)\n"
          ]
        }
      ]
    },
    {
      "cell_type": "markdown",
      "metadata": {
        "id": "7BsbGiuoML9q"
      },
      "source": [
        "## Model\n",
        "Here you make the model using different functionalities that Keras provides. Remember to use `Conv3D` and `MaxPooling3D` and not `Conv2D` and `Maxpooling2D` for a 3D convolution model. You would want to use `TimeDistributed` while building a Conv2D + RNN model. Also remember that the last layer is the softmax. Design the network in such a way that the model is able to give good accuracy on the least number of parameters so that it can fit in the memory of the webcam."
      ]
    },
    {
      "cell_type": "code",
      "execution_count": 47,
      "metadata": {
        "id": "f0AFjXODML9r"
      },
      "outputs": [],
      "source": [
        "from keras.models import Sequential, Model\n",
        "from keras.layers import Dense, GRU, Flatten, TimeDistributed, Flatten, BatchNormalization, Activation\n",
        "from keras.layers.convolutional import Conv3D, MaxPooling3D\n",
        "from keras.callbacks import ModelCheckpoint, ReduceLROnPlateau\n",
        "from keras import optimizers\n",
        "import tensorflow.keras as keras\n",
        "\n",
        "from tensorflow.keras.applications.resnet50 import ResNet50\n",
        "from tensorflow.keras.layers import Flatten,Dense,TimeDistributed,GRU,Conv2D\n",
        "#write your model here"
      ]
    },
    {
      "cell_type": "code",
      "source": [
        "resnet = ResNet50(include_top=False,weights='imagenet',input_shape=(224,224,3))"
      ],
      "metadata": {
        "id": "7mQma7phe5By"
      },
      "execution_count": 48,
      "outputs": []
    },
    {
      "cell_type": "code",
      "source": [
        "for layer in resnet.layers[:-10]:\n",
        "    layer.trainable=False"
      ],
      "metadata": {
        "id": "SRd1W63Be5o_"
      },
      "execution_count": 49,
      "outputs": []
    },
    {
      "cell_type": "code",
      "source": [
        "model = Sequential([resnet,Flatten(),Dense(64,activation='relu'),Dense(5,activation='softmax')])"
      ],
      "metadata": {
        "id": "YXUqybEOe7pv"
      },
      "execution_count": 50,
      "outputs": []
    },
    {
      "cell_type": "code",
      "source": [
        "model.summary()"
      ],
      "metadata": {
        "colab": {
          "base_uri": "https://localhost:8080/"
        },
        "id": "kBi7XfHQe-qf",
        "outputId": "1e33991e-b87c-4485-abeb-7bbeeb94f9ff"
      },
      "execution_count": 51,
      "outputs": [
        {
          "output_type": "stream",
          "name": "stdout",
          "text": [
            "Model: \"sequential_5\"\n",
            "_________________________________________________________________\n",
            " Layer (type)                Output Shape              Param #   \n",
            "=================================================================\n",
            " resnet50 (Functional)       (None, 7, 7, 2048)        23587712  \n",
            "                                                                 \n",
            " flatten_3 (Flatten)         (None, 100352)            0         \n",
            "                                                                 \n",
            " dense_5 (Dense)             (None, 64)                6422592   \n",
            "                                                                 \n",
            " dense_6 (Dense)             (None, 5)                 325       \n",
            "                                                                 \n",
            "=================================================================\n",
            "Total params: 30,010,629\n",
            "Trainable params: 10,888,581\n",
            "Non-trainable params: 19,122,048\n",
            "_________________________________________________________________\n"
          ]
        }
      ]
    },
    {
      "cell_type": "code",
      "source": [
        "resnet = ResNet50(include_top=False,weights='imagenet',input_shape=(224,224,3))\n",
        "cnn =Sequential([resnet])\n",
        "cnn.add(Conv2D(64,(2,2),strides=(1,1)))\n",
        "cnn.add(Conv2D(16,(3,3),strides=(1,1)))\n",
        "cnn.add(Flatten())"
      ],
      "metadata": {
        "id": "F0wATcwRc2Rk"
      },
      "execution_count": 52,
      "outputs": []
    },
    {
      "cell_type": "code",
      "source": [
        "print(cnn.summary())"
      ],
      "metadata": {
        "colab": {
          "base_uri": "https://localhost:8080/"
        },
        "id": "rTZ3AB027cm5",
        "outputId": "f47382c3-774e-4f55-c64c-5f9af34939ac"
      },
      "execution_count": 53,
      "outputs": [
        {
          "output_type": "stream",
          "name": "stdout",
          "text": [
            "Model: \"sequential_6\"\n",
            "_________________________________________________________________\n",
            " Layer (type)                Output Shape              Param #   \n",
            "=================================================================\n",
            " resnet50 (Functional)       (None, 7, 7, 2048)        23587712  \n",
            "                                                                 \n",
            " conv2d_4 (Conv2D)           (None, 6, 6, 64)          524352    \n",
            "                                                                 \n",
            " conv2d_5 (Conv2D)           (None, 4, 4, 16)          9232      \n",
            "                                                                 \n",
            " flatten_4 (Flatten)         (None, 256)               0         \n",
            "                                                                 \n",
            "=================================================================\n",
            "Total params: 24,121,296\n",
            "Trainable params: 24,068,176\n",
            "Non-trainable params: 53,120\n",
            "_________________________________________________________________\n",
            "None\n"
          ]
        }
      ]
    },
    {
      "cell_type": "code",
      "source": [
        "model = Sequential()\n",
        "model.add(TimeDistributed(cnn,input_shape=(30,224,224,3)))\n",
        "model.add(GRU(16,input_shape=(None,30,256),return_sequences=True))\n",
        "model.add(GRU(8))\n",
        "model.add(Dense(5,activation='softmax'))"
      ],
      "metadata": {
        "id": "x5Fmrklcc6G8"
      },
      "execution_count": 54,
      "outputs": []
    },
    {
      "cell_type": "code",
      "source": [
        "model.summary()"
      ],
      "metadata": {
        "colab": {
          "base_uri": "https://localhost:8080/"
        },
        "id": "0SWuC4aJv02t",
        "outputId": "b76eb0a8-ccbb-46a5-c60b-ccb27e657d88"
      },
      "execution_count": 55,
      "outputs": [
        {
          "output_type": "stream",
          "name": "stdout",
          "text": [
            "Model: \"sequential_7\"\n",
            "_________________________________________________________________\n",
            " Layer (type)                Output Shape              Param #   \n",
            "=================================================================\n",
            " time_distributed_2 (TimeDis  (None, 30, 256)          24121296  \n",
            " tributed)                                                       \n",
            "                                                                 \n",
            " gru_4 (GRU)                 (None, 30, 16)            13152     \n",
            "                                                                 \n",
            " gru_5 (GRU)                 (None, 8)                 624       \n",
            "                                                                 \n",
            " dense_7 (Dense)             (None, 5)                 45        \n",
            "                                                                 \n",
            "=================================================================\n",
            "Total params: 24,135,117\n",
            "Trainable params: 24,081,997\n",
            "Non-trainable params: 53,120\n",
            "_________________________________________________________________\n"
          ]
        }
      ]
    },
    {
      "cell_type": "code",
      "source": [
        "resnet = tf.keras.applications.ResNet50(include_top=False,weights='imagenet',input_shape=(224,224,3))\n",
        "cnn = tf.keras.Sequential([resnet])\n",
        "cnn.add(tf.keras.layers.Conv2D(64,(2,2),strides=(1,1)))\n",
        "cnn.add(tf.keras.layers.Conv2D(16,(3,3),strides=(1,1)))\n",
        "cnn.add(tf.keras.layers.Flatten())\n",
        "cnn.add(tf.keras.layers.Dense(64))"
      ],
      "metadata": {
        "id": "BhnnfL6zrCJG"
      },
      "execution_count": 56,
      "outputs": []
    },
    {
      "cell_type": "code",
      "source": [
        "model = Sequential()\n",
        "model.add(TimeDistributed(cnn,input_shape=(30,224,224,3)))\n",
        "model.add(GRU(16,return_sequences=True))\n",
        "model.add(GRU(8))\n",
        "model.add(Dense(5,activation='softmax'))"
      ],
      "metadata": {
        "id": "UKRPkp-vnq-g"
      },
      "execution_count": 57,
      "outputs": []
    },
    {
      "cell_type": "code",
      "source": [
        "\"\"\"inputs = tf.keras.layers.Input(shape=(224,224,3))\n",
        "x = cnn(inputs)\n",
        "x = tf.keras.layers.RepeatVector(n=30)(x)\n",
        "x = tf.keras.layers.GRU(16,return_sequences=True)(x)\n",
        "x = tf.keras.layers.GRU(8)(x)\n",
        "outputs = tf.keras.layers.Dense(5,activation='softmax')(x)\n",
        "model = tf.keras.Model(inputs, outputs)\"\"\""
      ],
      "metadata": {
        "colab": {
          "base_uri": "https://localhost:8080/",
          "height": 53
        },
        "id": "LkDv54DxrDUq",
        "outputId": "e7065e2c-1cb0-4253-bf76-b662c71c4457"
      },
      "execution_count": 58,
      "outputs": [
        {
          "output_type": "execute_result",
          "data": {
            "application/vnd.google.colaboratory.intrinsic+json": {
              "type": "string"
            },
            "text/plain": [
              "\"inputs = tf.keras.layers.Input(shape=(224,224,3))\\nx = cnn(inputs)\\nx = tf.keras.layers.RepeatVector(n=30)(x)\\nx = tf.keras.layers.GRU(16,return_sequences=True)(x)\\nx = tf.keras.layers.GRU(8)(x)\\noutputs = tf.keras.layers.Dense(5,activation='softmax')(x)\\nmodel = tf.keras.Model(inputs, outputs)\""
            ]
          },
          "metadata": {},
          "execution_count": 58
        }
      ]
    },
    {
      "cell_type": "markdown",
      "metadata": {
        "id": "1ZvCE9G-ML9s"
      },
      "source": [
        "Now that you have written the model, the next step is to `compile` the model. When you print the `summary` of the model, you'll see the total number of parameters you have to train."
      ]
    },
    {
      "cell_type": "code",
      "execution_count": 59,
      "metadata": {
        "scrolled": true,
        "id": "uXLLQf6sML9s",
        "colab": {
          "base_uri": "https://localhost:8080/"
        },
        "outputId": "3783dbc4-dbe9-467b-8b00-5897aa5428dc"
      },
      "outputs": [
        {
          "output_type": "stream",
          "name": "stdout",
          "text": [
            "Model: \"sequential_9\"\n",
            "_________________________________________________________________\n",
            " Layer (type)                Output Shape              Param #   \n",
            "=================================================================\n",
            " time_distributed_3 (TimeDis  (None, 30, 64)           24137744  \n",
            " tributed)                                                       \n",
            "                                                                 \n",
            " gru_6 (GRU)                 (None, 30, 16)            3936      \n",
            "                                                                 \n",
            " gru_7 (GRU)                 (None, 8)                 624       \n",
            "                                                                 \n",
            " dense_9 (Dense)             (None, 5)                 45        \n",
            "                                                                 \n",
            "=================================================================\n",
            "Total params: 24,142,349\n",
            "Trainable params: 24,089,229\n",
            "Non-trainable params: 53,120\n",
            "_________________________________________________________________\n",
            "None\n"
          ]
        }
      ],
      "source": [
        "optimiser = tf.keras.optimizers.SGD(learning_rate=0.01, momentum=0.0, nesterov=False, name='SGD') #write your optimizer\n",
        "model.compile(optimizer=optimiser, loss=tf.keras.losses.SparseCategoricalCrossentropy(), metrics=['accuracy'])\n",
        "print (model.summary())"
      ]
    },
    {
      "cell_type": "markdown",
      "metadata": {
        "id": "niU4waGxML9t"
      },
      "source": [
        "Let us create the `train_generator` and the `val_generator` which will be used in `.fit_generator`."
      ]
    },
    {
      "cell_type": "code",
      "execution_count": 60,
      "metadata": {
        "id": "9tg38cVlML9t"
      },
      "outputs": [],
      "source": [
        "train_generator = generator(train_path, train_doc, batch_size)\n",
        "val_generator = generator(val_path, val_doc, batch_size)"
      ]
    },
    {
      "cell_type": "code",
      "execution_count": 61,
      "metadata": {
        "id": "rP4hPQXhML9t",
        "colab": {
          "base_uri": "https://localhost:8080/"
        },
        "outputId": "3fef56b5-4708-4ef6-aff1-29b102e0e3b0"
      },
      "outputs": [
        {
          "output_type": "stream",
          "name": "stdout",
          "text": [
            "WARNING:tensorflow:`period` argument is deprecated. Please use `save_freq` to specify the frequency in number of batches seen.\n"
          ]
        }
      ],
      "source": [
        "model_name = 'model_init' + '_' + str(curr_dt_time).replace(' ','').replace(':','_') + '/'\n",
        "    \n",
        "if not os.path.exists(model_name):\n",
        "    os.mkdir(model_name)\n",
        "        \n",
        "filepath = model_name + 'model-{epoch:05d}-{loss:.5f}-{categorical_accuracy:.5f}-{val_loss:.5f}-{val_categorical_accuracy:.5f}.h5'\n",
        "\n",
        "checkpoint = ModelCheckpoint(filepath, monitor='val_loss', verbose=1, save_best_only=False, save_weights_only=False, mode='auto', period=1)\n",
        "\n",
        "LR = [tf.keras.callbacks.EarlyStopping(patience=2),\n",
        "      tf.keras.callbacks.ModelCheckpoint(filepath=filepath),#'model.{epoch:02d}-{val_loss:.2f}.h5'),\n",
        "    tf.keras.callbacks.TensorBoard(log_dir='./logs')] # write the REducelronplateau code here\n",
        "callbacks_list = [checkpoint, LR]\n",
        "\n",
        "#model.fit_generator(train_generator, epochs=10, callbacks=LR)"
      ]
    },
    {
      "cell_type": "markdown",
      "metadata": {
        "id": "Sv1aPFd7ML9u"
      },
      "source": [
        "The `steps_per_epoch` and `validation_steps` are used by `fit_generator` to decide the number of next() calls it need to make."
      ]
    },
    {
      "cell_type": "code",
      "execution_count": 62,
      "metadata": {
        "id": "kAI3EnoyML9u"
      },
      "outputs": [],
      "source": [
        "if (num_train_sequences%batch_size) == 0:\n",
        "    steps_per_epoch = int(num_train_sequences/batch_size)\n",
        "else:\n",
        "    steps_per_epoch = (num_train_sequences//batch_size) + 1\n",
        "\n",
        "if (num_val_sequences%batch_size) == 0:\n",
        "    validation_steps = int(num_val_sequences/batch_size)\n",
        "else:\n",
        "    validation_steps = (num_val_sequences//batch_size) + 1"
      ]
    },
    {
      "cell_type": "markdown",
      "metadata": {
        "id": "BIW1UvmaML9u"
      },
      "source": [
        "Let us now fit the model. This will start training the model and with the help of the checkpoints, you'll be able to save the model at the end of each epoch."
      ]
    },
    {
      "cell_type": "code",
      "source": [
        "model.fit_generator(train_generator, steps_per_epoch=steps_per_epoch, epochs=num_epochs, verbose=1, \n",
        "                    callbacks=callbacks_list,validation_data=val_generator, \n",
        "                    validation_steps=validation_steps,\n",
        "                    class_weight=None,\n",
        "                    workers=1,\n",
        "                    initial_epoch=0)"
      ],
      "metadata": {
        "colab": {
          "base_uri": "https://localhost:8080/",
          "height": 1000
        },
        "id": "6mUlX-L1rUuO",
        "outputId": "504a63c2-52ed-48d6-d61b-ca62018881c2"
      },
      "execution_count": 63,
      "outputs": [
        {
          "output_type": "stream",
          "name": "stderr",
          "text": [
            "/usr/local/lib/python3.7/dist-packages/ipykernel_launcher.py:6: UserWarning: `Model.fit_generator` is deprecated and will be removed in a future version. Please use `Model.fit`, which supports generators.\n",
            "  \n"
          ]
        },
        {
          "output_type": "stream",
          "name": "stdout",
          "text": [
            "Source path =  /content/drive/MyDrive/Colab Notebooks/Gesture_Recognition/train ; batch size = 32\n",
            "/content/drive/MyDrive/Colab Notebooks/Gesture_Recognition/train/WIN_20180925_18_06_22_Pro_Left_Swipe_new/WIN_20180925_18_06_22_Pro_00019.png\n",
            "/content/drive/MyDrive/Colab Notebooks/Gesture_Recognition/train/WIN_20180925_18_06_22_Pro_Left_Swipe_new/WIN_20180925_18_06_22_Pro_00029.png\n",
            "/content/drive/MyDrive/Colab Notebooks/Gesture_Recognition/train/WIN_20180925_18_06_22_Pro_Left_Swipe_new/WIN_20180925_18_06_22_Pro_00041.png\n",
            "/content/drive/MyDrive/Colab Notebooks/Gesture_Recognition/train/WIN_20180925_18_06_22_Pro_Left_Swipe_new/WIN_20180925_18_06_22_Pro_00023.png\n",
            "/content/drive/MyDrive/Colab Notebooks/Gesture_Recognition/train/WIN_20180925_18_06_22_Pro_Left_Swipe_new/WIN_20180925_18_06_22_Pro_00043.png\n",
            "/content/drive/MyDrive/Colab Notebooks/Gesture_Recognition/train/WIN_20180926_16_41_01_Pro_Thumbs_Up_new/WIN_20180926_16_41_01_Pro_00014.png\n",
            "/content/drive/MyDrive/Colab Notebooks/Gesture_Recognition/train/WIN_20180926_16_41_01_Pro_Thumbs_Up_new/WIN_20180926_16_41_01_Pro_00018.png\n",
            "/content/drive/MyDrive/Colab Notebooks/Gesture_Recognition/train/WIN_20180926_16_41_01_Pro_Thumbs_Up_new/WIN_20180926_16_41_01_Pro_00026.png\n",
            "/content/drive/MyDrive/Colab Notebooks/Gesture_Recognition/train/WIN_20180926_16_41_01_Pro_Thumbs_Up_new/WIN_20180926_16_41_01_Pro_00024.png\n",
            "/content/drive/MyDrive/Colab Notebooks/Gesture_Recognition/train/WIN_20180926_16_41_01_Pro_Thumbs_Up_new/WIN_20180926_16_41_01_Pro_00022.png\n",
            "/content/drive/MyDrive/Colab Notebooks/Gesture_Recognition/train/WIN_20180926_17_28_09_Pro_Thumbs_Down_new/WIN_20180926_17_28_09_Pro_00007.png\n",
            "/content/drive/MyDrive/Colab Notebooks/Gesture_Recognition/train/WIN_20180926_17_28_09_Pro_Thumbs_Down_new/WIN_20180926_17_28_09_Pro_00015.png\n",
            "/content/drive/MyDrive/Colab Notebooks/Gesture_Recognition/train/WIN_20180926_17_28_09_Pro_Thumbs_Down_new/WIN_20180926_17_28_09_Pro_00011.png\n",
            "/content/drive/MyDrive/Colab Notebooks/Gesture_Recognition/train/WIN_20180926_17_28_09_Pro_Thumbs_Down_new/WIN_20180926_17_28_09_Pro_00009.png\n",
            "/content/drive/MyDrive/Colab Notebooks/Gesture_Recognition/train/WIN_20180926_17_28_09_Pro_Thumbs_Down_new/WIN_20180926_17_28_09_Pro_00023.png\n",
            "/content/drive/MyDrive/Colab Notebooks/Gesture_Recognition/train/WIN_20180925_17_28_48_Pro_Stop_new/WIN_20180925_17_28_48_Pro_00019.png\n",
            "/content/drive/MyDrive/Colab Notebooks/Gesture_Recognition/train/WIN_20180925_17_28_48_Pro_Stop_new/WIN_20180925_17_28_48_Pro_00020.png\n",
            "/content/drive/MyDrive/Colab Notebooks/Gesture_Recognition/train/WIN_20180925_17_28_48_Pro_Stop_new/WIN_20180925_17_28_48_Pro_00015.png\n",
            "/content/drive/MyDrive/Colab Notebooks/Gesture_Recognition/train/WIN_20180925_17_28_48_Pro_Stop_new/WIN_20180925_17_28_48_Pro_00027.png\n",
            "/content/drive/MyDrive/Colab Notebooks/Gesture_Recognition/train/WIN_20180925_17_28_48_Pro_Stop_new/WIN_20180925_17_28_48_Pro_00041.png\n",
            "/content/drive/MyDrive/Colab Notebooks/Gesture_Recognition/train/WIN_20180907_16_07_43_Pro_Right Swipe_new/WIN_20180907_16_07_43_Pro_00049.png\n",
            "/content/drive/MyDrive/Colab Notebooks/Gesture_Recognition/train/WIN_20180907_16_07_43_Pro_Right Swipe_new/WIN_20180907_16_07_43_Pro_00037.png\n",
            "/content/drive/MyDrive/Colab Notebooks/Gesture_Recognition/train/WIN_20180907_16_07_43_Pro_Right Swipe_new/WIN_20180907_16_07_43_Pro_00031.png\n",
            "/content/drive/MyDrive/Colab Notebooks/Gesture_Recognition/train/WIN_20180907_16_07_43_Pro_Right Swipe_new/WIN_20180907_16_07_43_Pro_00059.png\n",
            "/content/drive/MyDrive/Colab Notebooks/Gesture_Recognition/train/WIN_20180907_16_07_43_Pro_Right Swipe_new/WIN_20180907_16_07_43_Pro_00019.png\n",
            "/content/drive/MyDrive/Colab Notebooks/Gesture_Recognition/train/WIN_20180926_17_29_33_Pro_Left_Swipe_new/WIN_20180926_17_29_33_Pro_00013.png\n",
            "/content/drive/MyDrive/Colab Notebooks/Gesture_Recognition/train/WIN_20180926_17_29_33_Pro_Left_Swipe_new/WIN_20180926_17_29_33_Pro_00005.png\n",
            "/content/drive/MyDrive/Colab Notebooks/Gesture_Recognition/train/WIN_20180926_17_29_33_Pro_Left_Swipe_new/WIN_20180926_17_29_33_Pro_00015.png\n",
            "/content/drive/MyDrive/Colab Notebooks/Gesture_Recognition/train/WIN_20180926_17_29_33_Pro_Left_Swipe_new/WIN_20180926_17_29_33_Pro_00009.png\n",
            "/content/drive/MyDrive/Colab Notebooks/Gesture_Recognition/train/WIN_20180926_17_29_33_Pro_Left_Swipe_new/WIN_20180926_17_29_33_Pro_00025.png\n",
            "/content/drive/MyDrive/Colab Notebooks/Gesture_Recognition/train/WIN_20180926_17_27_34_Pro_Thumbs_Down_new/WIN_20180926_17_27_34_Pro_00006.png\n",
            "/content/drive/MyDrive/Colab Notebooks/Gesture_Recognition/train/WIN_20180926_17_27_34_Pro_Thumbs_Down_new/WIN_20180926_17_27_34_Pro_00058.png\n",
            "/content/drive/MyDrive/Colab Notebooks/Gesture_Recognition/train/WIN_20180926_17_27_34_Pro_Thumbs_Down_new/WIN_20180926_17_27_34_Pro_00054.png\n",
            "/content/drive/MyDrive/Colab Notebooks/Gesture_Recognition/train/WIN_20180926_17_27_34_Pro_Thumbs_Down_new/WIN_20180926_17_27_34_Pro_00048.png\n",
            "/content/drive/MyDrive/Colab Notebooks/Gesture_Recognition/train/WIN_20180926_17_27_34_Pro_Thumbs_Down_new/WIN_20180926_17_27_34_Pro_00050.png\n",
            "/content/drive/MyDrive/Colab Notebooks/Gesture_Recognition/train/WIN_20180907_16_27_09_Pro_Thumbs Up_new/WIN_20180907_16_27_09_Pro_00003.png\n",
            "/content/drive/MyDrive/Colab Notebooks/Gesture_Recognition/train/WIN_20180907_16_27_09_Pro_Thumbs Up_new/WIN_20180907_16_27_09_Pro_00001.png\n",
            "/content/drive/MyDrive/Colab Notebooks/Gesture_Recognition/train/WIN_20180907_16_27_09_Pro_Thumbs Up_new/WIN_20180907_16_27_09_Pro_00015.png\n",
            "/content/drive/MyDrive/Colab Notebooks/Gesture_Recognition/train/WIN_20180907_16_27_09_Pro_Thumbs Up_new/WIN_20180907_16_27_09_Pro_00059.png\n",
            "/content/drive/MyDrive/Colab Notebooks/Gesture_Recognition/train/WIN_20180907_16_27_09_Pro_Thumbs Up_new/WIN_20180907_16_27_09_Pro_00017.png\n",
            "/content/drive/MyDrive/Colab Notebooks/Gesture_Recognition/train/WIN_20180907_16_24_20_Pro_Thumbs Down_new/WIN_20180907_16_24_20_Pro_00005.png\n",
            "/content/drive/MyDrive/Colab Notebooks/Gesture_Recognition/train/WIN_20180907_16_24_20_Pro_Thumbs Down_new/WIN_20180907_16_24_20_Pro_00025.png\n",
            "/content/drive/MyDrive/Colab Notebooks/Gesture_Recognition/train/WIN_20180907_16_24_20_Pro_Thumbs Down_new/WIN_20180907_16_24_20_Pro_00009.png\n",
            "/content/drive/MyDrive/Colab Notebooks/Gesture_Recognition/train/WIN_20180907_16_24_20_Pro_Thumbs Down_new/WIN_20180907_16_24_20_Pro_00034.png\n",
            "/content/drive/MyDrive/Colab Notebooks/Gesture_Recognition/train/WIN_20180907_16_24_20_Pro_Thumbs Down_new/WIN_20180907_16_24_20_Pro_00012.png\n",
            "/content/drive/MyDrive/Colab Notebooks/Gesture_Recognition/train/WIN_20180926_17_25_18_Pro_Stop_new/WIN_20180926_17_25_18_Pro_00023.png\n",
            "/content/drive/MyDrive/Colab Notebooks/Gesture_Recognition/train/WIN_20180926_17_25_18_Pro_Stop_new/WIN_20180926_17_25_18_Pro_00019.png\n",
            "/content/drive/MyDrive/Colab Notebooks/Gesture_Recognition/train/WIN_20180926_17_25_18_Pro_Stop_new/WIN_20180926_17_25_18_Pro_00015.png\n",
            "/content/drive/MyDrive/Colab Notebooks/Gesture_Recognition/train/WIN_20180926_17_25_18_Pro_Stop_new/WIN_20180926_17_25_18_Pro_00021.png\n",
            "/content/drive/MyDrive/Colab Notebooks/Gesture_Recognition/train/WIN_20180926_17_25_18_Pro_Stop_new/WIN_20180926_17_25_18_Pro_00011.png\n",
            "/content/drive/MyDrive/Colab Notebooks/Gesture_Recognition/train/WIN_20180907_16_58_34_Pro_Right Swipe_new/WIN_20180907_16_58_34_Pro_00036.png\n",
            "/content/drive/MyDrive/Colab Notebooks/Gesture_Recognition/train/WIN_20180907_16_58_34_Pro_Right Swipe_new/WIN_20180907_16_58_34_Pro_00034.png\n",
            "/content/drive/MyDrive/Colab Notebooks/Gesture_Recognition/train/WIN_20180907_16_58_34_Pro_Right Swipe_new/WIN_20180907_16_58_34_Pro_00016.png\n",
            "/content/drive/MyDrive/Colab Notebooks/Gesture_Recognition/train/WIN_20180907_16_58_34_Pro_Right Swipe_new/WIN_20180907_16_58_34_Pro_00022.png\n",
            "/content/drive/MyDrive/Colab Notebooks/Gesture_Recognition/train/WIN_20180907_16_58_34_Pro_Right Swipe_new/WIN_20180907_16_58_34_Pro_00038.png\n",
            "/content/drive/MyDrive/Colab Notebooks/Gesture_Recognition/train/WIN_20180925_17_26_37_Pro_Thumbs_Up_new/WIN_20180925_17_26_37_Pro_00008.png\n",
            "/content/drive/MyDrive/Colab Notebooks/Gesture_Recognition/train/WIN_20180925_17_26_37_Pro_Thumbs_Up_new/WIN_20180925_17_26_37_Pro_00032.png\n",
            "/content/drive/MyDrive/Colab Notebooks/Gesture_Recognition/train/WIN_20180925_17_26_37_Pro_Thumbs_Up_new/WIN_20180925_17_26_37_Pro_00046.png\n",
            "/content/drive/MyDrive/Colab Notebooks/Gesture_Recognition/train/WIN_20180925_17_26_37_Pro_Thumbs_Up_new/WIN_20180925_17_26_37_Pro_00004.png\n",
            "/content/drive/MyDrive/Colab Notebooks/Gesture_Recognition/train/WIN_20180925_17_26_37_Pro_Thumbs_Up_new/WIN_20180925_17_26_37_Pro_00016.png\n",
            "/content/drive/MyDrive/Colab Notebooks/Gesture_Recognition/train/WIN_20180926_17_13_32_Pro_Left_Swipe_new/WIN_20180926_17_13_32_Pro_00015.png\n",
            "/content/drive/MyDrive/Colab Notebooks/Gesture_Recognition/train/WIN_20180926_17_13_32_Pro_Left_Swipe_new/WIN_20180926_17_13_32_Pro_00013.png\n",
            "/content/drive/MyDrive/Colab Notebooks/Gesture_Recognition/train/WIN_20180926_17_13_32_Pro_Left_Swipe_new/WIN_20180926_17_13_32_Pro_00021.png\n",
            "/content/drive/MyDrive/Colab Notebooks/Gesture_Recognition/train/WIN_20180926_17_13_32_Pro_Left_Swipe_new/WIN_20180926_17_13_32_Pro_00030.png\n",
            "/content/drive/MyDrive/Colab Notebooks/Gesture_Recognition/train/WIN_20180926_17_13_32_Pro_Left_Swipe_new/WIN_20180926_17_13_32_Pro_00034.png\n",
            "/content/drive/MyDrive/Colab Notebooks/Gesture_Recognition/train/WIN_20180926_16_48_32_Pro_Thumbs_Up_new/WIN_20180926_16_48_32_Pro_00013.png\n",
            "/content/drive/MyDrive/Colab Notebooks/Gesture_Recognition/train/WIN_20180926_16_48_32_Pro_Thumbs_Up_new/WIN_20180926_16_48_32_Pro_00015.png\n",
            "/content/drive/MyDrive/Colab Notebooks/Gesture_Recognition/train/WIN_20180926_16_48_32_Pro_Thumbs_Up_new/WIN_20180926_16_48_32_Pro_00028.png\n",
            "/content/drive/MyDrive/Colab Notebooks/Gesture_Recognition/train/WIN_20180926_16_48_32_Pro_Thumbs_Up_new/WIN_20180926_16_48_32_Pro_00036.png\n",
            "/content/drive/MyDrive/Colab Notebooks/Gesture_Recognition/train/WIN_20180926_16_48_32_Pro_Thumbs_Up_new/WIN_20180926_16_48_32_Pro_00025.png\n",
            "/content/drive/MyDrive/Colab Notebooks/Gesture_Recognition/train/WIN_20180926_17_18_43_Pro_Thumbs_Up_new/WIN_20180926_17_18_43_Pro_00042.png\n",
            "/content/drive/MyDrive/Colab Notebooks/Gesture_Recognition/train/WIN_20180926_17_18_43_Pro_Thumbs_Up_new/WIN_20180926_17_18_43_Pro_00029.png\n",
            "/content/drive/MyDrive/Colab Notebooks/Gesture_Recognition/train/WIN_20180926_17_18_43_Pro_Thumbs_Up_new/WIN_20180926_17_18_43_Pro_00027.png\n",
            "/content/drive/MyDrive/Colab Notebooks/Gesture_Recognition/train/WIN_20180926_17_18_43_Pro_Thumbs_Up_new/WIN_20180926_17_18_43_Pro_00040.png\n",
            "/content/drive/MyDrive/Colab Notebooks/Gesture_Recognition/train/WIN_20180926_17_18_43_Pro_Thumbs_Up_new/WIN_20180926_17_18_43_Pro_00036.png\n",
            "/content/drive/MyDrive/Colab Notebooks/Gesture_Recognition/train/WIN_20180926_17_28_21_Pro_Right_Swipe_new/WIN_20180926_17_28_21_Pro_00022.png\n",
            "/content/drive/MyDrive/Colab Notebooks/Gesture_Recognition/train/WIN_20180926_17_28_21_Pro_Right_Swipe_new/WIN_20180926_17_28_21_Pro_00020.png\n",
            "/content/drive/MyDrive/Colab Notebooks/Gesture_Recognition/train/WIN_20180926_17_28_21_Pro_Right_Swipe_new/WIN_20180926_17_28_21_Pro_00010.png\n",
            "/content/drive/MyDrive/Colab Notebooks/Gesture_Recognition/train/WIN_20180926_17_28_21_Pro_Right_Swipe_new/WIN_20180926_17_28_21_Pro_00018.png\n",
            "/content/drive/MyDrive/Colab Notebooks/Gesture_Recognition/train/WIN_20180926_17_28_21_Pro_Right_Swipe_new/WIN_20180926_17_28_21_Pro_00016.png\n",
            "/content/drive/MyDrive/Colab Notebooks/Gesture_Recognition/train/WIN_20180926_17_27_40_Pro_Left_Swipe_new/WIN_20180926_17_27_40_Pro_00026.png\n",
            "/content/drive/MyDrive/Colab Notebooks/Gesture_Recognition/train/WIN_20180926_17_27_40_Pro_Left_Swipe_new/WIN_20180926_17_27_40_Pro_00024.png\n",
            "/content/drive/MyDrive/Colab Notebooks/Gesture_Recognition/train/WIN_20180926_17_27_40_Pro_Left_Swipe_new/WIN_20180926_17_27_40_Pro_00016.png\n",
            "/content/drive/MyDrive/Colab Notebooks/Gesture_Recognition/train/WIN_20180926_17_27_40_Pro_Left_Swipe_new/WIN_20180926_17_27_40_Pro_00021.png\n",
            "/content/drive/MyDrive/Colab Notebooks/Gesture_Recognition/train/WIN_20180926_17_27_40_Pro_Left_Swipe_new/WIN_20180926_17_27_40_Pro_00019.png\n",
            "/content/drive/MyDrive/Colab Notebooks/Gesture_Recognition/train/WIN_20180925_17_26_34_Pro_Right_Swipe_new/WIN_20180925_17_26_34_Pro_00013.png\n",
            "/content/drive/MyDrive/Colab Notebooks/Gesture_Recognition/train/WIN_20180925_17_26_34_Pro_Right_Swipe_new/WIN_20180925_17_26_34_Pro_00015.png\n",
            "/content/drive/MyDrive/Colab Notebooks/Gesture_Recognition/train/WIN_20180925_17_26_34_Pro_Right_Swipe_new/WIN_20180925_17_26_34_Pro_00007.png\n",
            "/content/drive/MyDrive/Colab Notebooks/Gesture_Recognition/train/WIN_20180925_17_26_34_Pro_Right_Swipe_new/WIN_20180925_17_26_34_Pro_00011.png\n",
            "/content/drive/MyDrive/Colab Notebooks/Gesture_Recognition/train/WIN_20180925_17_26_34_Pro_Right_Swipe_new/WIN_20180925_17_26_34_Pro_00037.png\n",
            "/content/drive/MyDrive/Colab Notebooks/Gesture_Recognition/train/WIN_20180926_16_42_06_Pro_Right_Swipe_new/WIN_20180926_16_42_06_Pro_00017.png\n",
            "/content/drive/MyDrive/Colab Notebooks/Gesture_Recognition/train/WIN_20180926_16_42_06_Pro_Right_Swipe_new/WIN_20180926_16_42_06_Pro_00031.png\n",
            "/content/drive/MyDrive/Colab Notebooks/Gesture_Recognition/train/WIN_20180926_16_42_06_Pro_Right_Swipe_new/WIN_20180926_16_42_06_Pro_00023.png\n",
            "/content/drive/MyDrive/Colab Notebooks/Gesture_Recognition/train/WIN_20180926_16_42_06_Pro_Right_Swipe_new/WIN_20180926_16_42_06_Pro_00025.png\n",
            "/content/drive/MyDrive/Colab Notebooks/Gesture_Recognition/train/WIN_20180926_16_42_06_Pro_Right_Swipe_new/WIN_20180926_16_42_06_Pro_00021.png\n",
            "/content/drive/MyDrive/Colab Notebooks/Gesture_Recognition/train/WIN_20180925_17_37_17_Pro_Thumbs_Up_new/WIN_20180925_17_37_17_Pro_00022.png\n",
            "/content/drive/MyDrive/Colab Notebooks/Gesture_Recognition/train/WIN_20180925_17_37_17_Pro_Thumbs_Up_new/WIN_20180925_17_37_17_Pro_00013.png\n",
            "/content/drive/MyDrive/Colab Notebooks/Gesture_Recognition/train/WIN_20180925_17_37_17_Pro_Thumbs_Up_new/WIN_20180925_17_37_17_Pro_00012.png\n",
            "/content/drive/MyDrive/Colab Notebooks/Gesture_Recognition/train/WIN_20180925_17_37_17_Pro_Thumbs_Up_new/WIN_20180925_17_37_17_Pro_00023.png\n",
            "/content/drive/MyDrive/Colab Notebooks/Gesture_Recognition/train/WIN_20180925_17_37_17_Pro_Thumbs_Up_new/WIN_20180925_17_37_17_Pro_00017.png\n",
            "/content/drive/MyDrive/Colab Notebooks/Gesture_Recognition/train/WIN_20180925_17_49_11_Pro_Thumbs_Down_new/WIN_20180925_17_49_11_Pro_00018.png\n",
            "/content/drive/MyDrive/Colab Notebooks/Gesture_Recognition/train/WIN_20180925_17_49_11_Pro_Thumbs_Down_new/WIN_20180925_17_49_11_Pro_00015.png\n",
            "/content/drive/MyDrive/Colab Notebooks/Gesture_Recognition/train/WIN_20180925_17_49_11_Pro_Thumbs_Down_new/WIN_20180925_17_49_11_Pro_00017.png\n",
            "/content/drive/MyDrive/Colab Notebooks/Gesture_Recognition/train/WIN_20180925_17_49_11_Pro_Thumbs_Down_new/WIN_20180925_17_49_11_Pro_00020.png\n",
            "/content/drive/MyDrive/Colab Notebooks/Gesture_Recognition/train/WIN_20180925_17_49_11_Pro_Thumbs_Down_new/WIN_20180925_17_49_11_Pro_00043.png\n",
            "/content/drive/MyDrive/Colab Notebooks/Gesture_Recognition/train/WIN_20180926_18_05_07_Pro_Right_Swipe_new/WIN_20180926_18_05_07_Pro_00007.png\n",
            "/content/drive/MyDrive/Colab Notebooks/Gesture_Recognition/train/WIN_20180926_18_05_07_Pro_Right_Swipe_new/WIN_20180926_18_05_07_Pro_00022.png\n",
            "/content/drive/MyDrive/Colab Notebooks/Gesture_Recognition/train/WIN_20180926_18_05_07_Pro_Right_Swipe_new/WIN_20180926_18_05_07_Pro_00004.png\n",
            "/content/drive/MyDrive/Colab Notebooks/Gesture_Recognition/train/WIN_20180926_18_05_07_Pro_Right_Swipe_new/WIN_20180926_18_05_07_Pro_00010.png\n",
            "/content/drive/MyDrive/Colab Notebooks/Gesture_Recognition/train/WIN_20180926_18_05_07_Pro_Right_Swipe_new/WIN_20180926_18_05_07_Pro_00061.png\n",
            "/content/drive/MyDrive/Colab Notebooks/Gesture_Recognition/train/WIN_20180925_17_37_42_Pro_Stop_new/WIN_20180925_17_37_42_Pro_00042.png\n",
            "/content/drive/MyDrive/Colab Notebooks/Gesture_Recognition/train/WIN_20180925_17_37_42_Pro_Stop_new/WIN_20180925_17_37_42_Pro_00036.png\n",
            "/content/drive/MyDrive/Colab Notebooks/Gesture_Recognition/train/WIN_20180925_17_37_42_Pro_Stop_new/WIN_20180925_17_37_42_Pro_00012.png\n",
            "/content/drive/MyDrive/Colab Notebooks/Gesture_Recognition/train/WIN_20180925_17_37_42_Pro_Stop_new/WIN_20180925_17_37_42_Pro_00024.png\n",
            "/content/drive/MyDrive/Colab Notebooks/Gesture_Recognition/train/WIN_20180925_17_37_42_Pro_Stop_new/WIN_20180925_17_37_42_Pro_00050.png\n",
            "/content/drive/MyDrive/Colab Notebooks/Gesture_Recognition/train/WIN_20180926_16_46_07_Pro_Right_Swipe_new/WIN_20180926_16_46_07_Pro_00005.png\n",
            "/content/drive/MyDrive/Colab Notebooks/Gesture_Recognition/train/WIN_20180926_16_46_07_Pro_Right_Swipe_new/WIN_20180926_16_46_07_Pro_00025.png\n",
            "/content/drive/MyDrive/Colab Notebooks/Gesture_Recognition/train/WIN_20180926_16_46_07_Pro_Right_Swipe_new/WIN_20180926_16_46_07_Pro_00023.png\n",
            "/content/drive/MyDrive/Colab Notebooks/Gesture_Recognition/train/WIN_20180926_16_46_07_Pro_Right_Swipe_new/WIN_20180926_16_46_07_Pro_00021.png\n",
            "/content/drive/MyDrive/Colab Notebooks/Gesture_Recognition/train/WIN_20180926_16_46_07_Pro_Right_Swipe_new/WIN_20180926_16_46_07_Pro_00029.png\n",
            "/content/drive/MyDrive/Colab Notebooks/Gesture_Recognition/train/WIN_20180926_16_46_40_Pro_Left_Swipe_new/WIN_20180926_16_46_40_Pro_00038.png\n",
            "/content/drive/MyDrive/Colab Notebooks/Gesture_Recognition/train/WIN_20180926_16_46_40_Pro_Left_Swipe_new/WIN_20180926_16_46_40_Pro_00014.png\n",
            "/content/drive/MyDrive/Colab Notebooks/Gesture_Recognition/train/WIN_20180926_16_46_40_Pro_Left_Swipe_new/WIN_20180926_16_46_40_Pro_00058.png\n",
            "/content/drive/MyDrive/Colab Notebooks/Gesture_Recognition/train/WIN_20180926_16_46_40_Pro_Left_Swipe_new/WIN_20180926_16_46_40_Pro_00062.png\n",
            "/content/drive/MyDrive/Colab Notebooks/Gesture_Recognition/train/WIN_20180926_16_46_40_Pro_Left_Swipe_new/WIN_20180926_16_46_40_Pro_00022.png\n",
            "/content/drive/MyDrive/Colab Notebooks/Gesture_Recognition/train/WIN_20180907_16_15_44_Pro_Thumbs Down_new/WIN_20180907_16_15_44_Pro_00012.png\n",
            "/content/drive/MyDrive/Colab Notebooks/Gesture_Recognition/train/WIN_20180907_16_15_44_Pro_Thumbs Down_new/WIN_20180907_16_15_44_Pro_00003.png\n",
            "/content/drive/MyDrive/Colab Notebooks/Gesture_Recognition/train/WIN_20180907_16_15_44_Pro_Thumbs Down_new/WIN_20180907_16_15_44_Pro_00002.png\n",
            "/content/drive/MyDrive/Colab Notebooks/Gesture_Recognition/train/WIN_20180907_16_15_44_Pro_Thumbs Down_new/WIN_20180907_16_15_44_Pro_00013.png\n",
            "/content/drive/MyDrive/Colab Notebooks/Gesture_Recognition/train/WIN_20180907_16_15_44_Pro_Thumbs Down_new/WIN_20180907_16_15_44_Pro_00011.png\n",
            "/content/drive/MyDrive/Colab Notebooks/Gesture_Recognition/train/WIN_20180925_18_28_41_Pro_Thumbs_Down_new/WIN_20180925_18_28_41_Pro_00022.png\n",
            "/content/drive/MyDrive/Colab Notebooks/Gesture_Recognition/train/WIN_20180925_18_28_41_Pro_Thumbs_Down_new/WIN_20180925_18_28_41_Pro_00026.png\n",
            "/content/drive/MyDrive/Colab Notebooks/Gesture_Recognition/train/WIN_20180925_18_28_41_Pro_Thumbs_Down_new/WIN_20180925_18_28_41_Pro_00028.png\n",
            "/content/drive/MyDrive/Colab Notebooks/Gesture_Recognition/train/WIN_20180925_18_28_41_Pro_Thumbs_Down_new/WIN_20180925_18_28_41_Pro_00016.png\n",
            "/content/drive/MyDrive/Colab Notebooks/Gesture_Recognition/train/WIN_20180925_18_28_41_Pro_Thumbs_Down_new/WIN_20180925_18_28_41_Pro_00020.png\n",
            "/content/drive/MyDrive/Colab Notebooks/Gesture_Recognition/train/WIN_20180925_17_46_39_Pro_Left_Swipe_new/WIN_20180925_17_46_39_Pro_00013.png\n",
            "/content/drive/MyDrive/Colab Notebooks/Gesture_Recognition/train/WIN_20180925_17_46_39_Pro_Left_Swipe_new/WIN_20180925_17_46_39_Pro_00030.png\n",
            "/content/drive/MyDrive/Colab Notebooks/Gesture_Recognition/train/WIN_20180925_17_46_39_Pro_Left_Swipe_new/WIN_20180925_17_46_39_Pro_00021.png\n",
            "/content/drive/MyDrive/Colab Notebooks/Gesture_Recognition/train/WIN_20180925_17_46_39_Pro_Left_Swipe_new/WIN_20180925_17_46_39_Pro_00018.png\n",
            "/content/drive/MyDrive/Colab Notebooks/Gesture_Recognition/train/WIN_20180925_17_46_39_Pro_Left_Swipe_new/WIN_20180925_17_46_39_Pro_00016.png\n",
            "/content/drive/MyDrive/Colab Notebooks/Gesture_Recognition/train/WIN_20180926_17_00_44_Pro_Thumbs_Down_new/WIN_20180926_17_00_44_Pro_00013.png\n",
            "/content/drive/MyDrive/Colab Notebooks/Gesture_Recognition/train/WIN_20180926_17_00_44_Pro_Thumbs_Down_new/WIN_20180926_17_00_44_Pro_00016.png\n",
            "/content/drive/MyDrive/Colab Notebooks/Gesture_Recognition/train/WIN_20180926_17_00_44_Pro_Thumbs_Down_new/WIN_20180926_17_00_44_Pro_00020.png\n",
            "/content/drive/MyDrive/Colab Notebooks/Gesture_Recognition/train/WIN_20180926_17_00_44_Pro_Thumbs_Down_new/WIN_20180926_17_00_44_Pro_00019.png\n",
            "/content/drive/MyDrive/Colab Notebooks/Gesture_Recognition/train/WIN_20180926_17_00_44_Pro_Thumbs_Down_new/WIN_20180926_17_00_44_Pro_00022.png\n",
            "/content/drive/MyDrive/Colab Notebooks/Gesture_Recognition/train/WIN_20180926_17_40_55_Pro_Thumbs_Down_new/WIN_20180926_17_40_55_Pro_00020.png\n",
            "/content/drive/MyDrive/Colab Notebooks/Gesture_Recognition/train/WIN_20180926_17_40_55_Pro_Thumbs_Down_new/WIN_20180926_17_40_55_Pro_00022.png\n",
            "/content/drive/MyDrive/Colab Notebooks/Gesture_Recognition/train/WIN_20180926_17_40_55_Pro_Thumbs_Down_new/WIN_20180926_17_40_55_Pro_00018.png\n",
            "/content/drive/MyDrive/Colab Notebooks/Gesture_Recognition/train/WIN_20180926_17_40_55_Pro_Thumbs_Down_new/WIN_20180926_17_40_55_Pro_00008.png\n",
            "/content/drive/MyDrive/Colab Notebooks/Gesture_Recognition/train/WIN_20180926_17_40_55_Pro_Thumbs_Down_new/WIN_20180926_17_40_55_Pro_00002.png\n",
            "/content/drive/MyDrive/Colab Notebooks/Gesture_Recognition/train/WIN_20180907_16_18_18_Pro_Right Swipe_new/WIN_20180907_16_18_18_Pro_00020.png\n",
            "/content/drive/MyDrive/Colab Notebooks/Gesture_Recognition/train/WIN_20180907_16_18_18_Pro_Right Swipe_new/WIN_20180907_16_18_18_Pro_00012.png\n",
            "/content/drive/MyDrive/Colab Notebooks/Gesture_Recognition/train/WIN_20180907_16_18_18_Pro_Right Swipe_new/WIN_20180907_16_18_18_Pro_00016.png\n",
            "/content/drive/MyDrive/Colab Notebooks/Gesture_Recognition/train/WIN_20180907_16_18_18_Pro_Right Swipe_new/WIN_20180907_16_18_18_Pro_00048.png\n",
            "/content/drive/MyDrive/Colab Notebooks/Gesture_Recognition/train/WIN_20180907_16_18_18_Pro_Right Swipe_new/WIN_20180907_16_18_18_Pro_00042.png\n",
            "/content/drive/MyDrive/Colab Notebooks/Gesture_Recognition/train/WIN_20180925_17_20_22_Pro_Right_Swipe_new/WIN_20180925_17_20_22_Pro_00036.png\n",
            "/content/drive/MyDrive/Colab Notebooks/Gesture_Recognition/train/WIN_20180925_17_20_22_Pro_Right_Swipe_new/WIN_20180925_17_20_22_Pro_00064.png\n",
            "/content/drive/MyDrive/Colab Notebooks/Gesture_Recognition/train/WIN_20180925_17_20_22_Pro_Right_Swipe_new/WIN_20180925_17_20_22_Pro_00042.png\n",
            "/content/drive/MyDrive/Colab Notebooks/Gesture_Recognition/train/WIN_20180925_17_20_22_Pro_Right_Swipe_new/WIN_20180925_17_20_22_Pro_00012.png\n",
            "/content/drive/MyDrive/Colab Notebooks/Gesture_Recognition/train/WIN_20180925_17_20_22_Pro_Right_Swipe_new/WIN_20180925_17_20_22_Pro_00034.png\n"
          ]
        },
        {
          "output_type": "stream",
          "name": "stderr",
          "text": [
            "/usr/local/lib/python3.7/dist-packages/keras/engine/functional.py:1410: CustomMaskWarning: Custom mask layers require a config and must override get_config. When loading, the custom mask layer must be passed to the custom_objects argument.\n",
            "  layer_config = serialize_layer_fn(layer)\n"
          ]
        },
        {
          "output_type": "stream",
          "name": "stdout",
          "text": [
            "Epoch 1/5\n"
          ]
        },
        {
          "output_type": "error",
          "ename": "InvalidArgumentError",
          "evalue": "ignored",
          "traceback": [
            "\u001b[0;31m---------------------------------------------------------------------------\u001b[0m",
            "\u001b[0;31mInvalidArgumentError\u001b[0m                      Traceback (most recent call last)",
            "\u001b[0;32m<ipython-input-63-8161499df3f8>\u001b[0m in \u001b[0;36m<module>\u001b[0;34m()\u001b[0m\n\u001b[1;32m      4\u001b[0m                     \u001b[0mclass_weight\u001b[0m\u001b[0;34m=\u001b[0m\u001b[0;32mNone\u001b[0m\u001b[0;34m,\u001b[0m\u001b[0;34m\u001b[0m\u001b[0;34m\u001b[0m\u001b[0m\n\u001b[1;32m      5\u001b[0m                     \u001b[0mworkers\u001b[0m\u001b[0;34m=\u001b[0m\u001b[0;36m1\u001b[0m\u001b[0;34m,\u001b[0m\u001b[0;34m\u001b[0m\u001b[0;34m\u001b[0m\u001b[0m\n\u001b[0;32m----> 6\u001b[0;31m                     initial_epoch=0)\n\u001b[0m",
            "\u001b[0;32m/usr/local/lib/python3.7/dist-packages/keras/engine/training.py\u001b[0m in \u001b[0;36mfit_generator\u001b[0;34m(self, generator, steps_per_epoch, epochs, verbose, callbacks, validation_data, validation_steps, validation_freq, class_weight, max_queue_size, workers, use_multiprocessing, shuffle, initial_epoch)\u001b[0m\n\u001b[1;32m   2028\u001b[0m         \u001b[0muse_multiprocessing\u001b[0m\u001b[0;34m=\u001b[0m\u001b[0muse_multiprocessing\u001b[0m\u001b[0;34m,\u001b[0m\u001b[0;34m\u001b[0m\u001b[0;34m\u001b[0m\u001b[0m\n\u001b[1;32m   2029\u001b[0m         \u001b[0mshuffle\u001b[0m\u001b[0;34m=\u001b[0m\u001b[0mshuffle\u001b[0m\u001b[0;34m,\u001b[0m\u001b[0;34m\u001b[0m\u001b[0;34m\u001b[0m\u001b[0m\n\u001b[0;32m-> 2030\u001b[0;31m         initial_epoch=initial_epoch)\n\u001b[0m\u001b[1;32m   2031\u001b[0m \u001b[0;34m\u001b[0m\u001b[0m\n\u001b[1;32m   2032\u001b[0m   \u001b[0;34m@\u001b[0m\u001b[0mdoc_controls\u001b[0m\u001b[0;34m.\u001b[0m\u001b[0mdo_not_generate_docs\u001b[0m\u001b[0;34m\u001b[0m\u001b[0;34m\u001b[0m\u001b[0m\n",
            "\u001b[0;32m/usr/local/lib/python3.7/dist-packages/keras/utils/traceback_utils.py\u001b[0m in \u001b[0;36merror_handler\u001b[0;34m(*args, **kwargs)\u001b[0m\n\u001b[1;32m     65\u001b[0m     \u001b[0;32mexcept\u001b[0m \u001b[0mException\u001b[0m \u001b[0;32mas\u001b[0m \u001b[0me\u001b[0m\u001b[0;34m:\u001b[0m  \u001b[0;31m# pylint: disable=broad-except\u001b[0m\u001b[0;34m\u001b[0m\u001b[0;34m\u001b[0m\u001b[0m\n\u001b[1;32m     66\u001b[0m       \u001b[0mfiltered_tb\u001b[0m \u001b[0;34m=\u001b[0m \u001b[0m_process_traceback_frames\u001b[0m\u001b[0;34m(\u001b[0m\u001b[0me\u001b[0m\u001b[0;34m.\u001b[0m\u001b[0m__traceback__\u001b[0m\u001b[0;34m)\u001b[0m\u001b[0;34m\u001b[0m\u001b[0;34m\u001b[0m\u001b[0m\n\u001b[0;32m---> 67\u001b[0;31m       \u001b[0;32mraise\u001b[0m \u001b[0me\u001b[0m\u001b[0;34m.\u001b[0m\u001b[0mwith_traceback\u001b[0m\u001b[0;34m(\u001b[0m\u001b[0mfiltered_tb\u001b[0m\u001b[0;34m)\u001b[0m \u001b[0;32mfrom\u001b[0m \u001b[0;32mNone\u001b[0m\u001b[0;34m\u001b[0m\u001b[0;34m\u001b[0m\u001b[0m\n\u001b[0m\u001b[1;32m     68\u001b[0m     \u001b[0;32mfinally\u001b[0m\u001b[0;34m:\u001b[0m\u001b[0;34m\u001b[0m\u001b[0;34m\u001b[0m\u001b[0m\n\u001b[1;32m     69\u001b[0m       \u001b[0;32mdel\u001b[0m \u001b[0mfiltered_tb\u001b[0m\u001b[0;34m\u001b[0m\u001b[0;34m\u001b[0m\u001b[0m\n",
            "\u001b[0;32m/usr/local/lib/python3.7/dist-packages/tensorflow/python/eager/execute.py\u001b[0m in \u001b[0;36mquick_execute\u001b[0;34m(op_name, num_outputs, inputs, attrs, ctx, name)\u001b[0m\n\u001b[1;32m     57\u001b[0m     \u001b[0mctx\u001b[0m\u001b[0;34m.\u001b[0m\u001b[0mensure_initialized\u001b[0m\u001b[0;34m(\u001b[0m\u001b[0;34m)\u001b[0m\u001b[0;34m\u001b[0m\u001b[0;34m\u001b[0m\u001b[0m\n\u001b[1;32m     58\u001b[0m     tensors = pywrap_tfe.TFE_Py_Execute(ctx._handle, device_name, op_name,\n\u001b[0;32m---> 59\u001b[0;31m                                         inputs, attrs, num_outputs)\n\u001b[0m\u001b[1;32m     60\u001b[0m   \u001b[0;32mexcept\u001b[0m \u001b[0mcore\u001b[0m\u001b[0;34m.\u001b[0m\u001b[0m_NotOkStatusException\u001b[0m \u001b[0;32mas\u001b[0m \u001b[0me\u001b[0m\u001b[0;34m:\u001b[0m\u001b[0;34m\u001b[0m\u001b[0;34m\u001b[0m\u001b[0m\n\u001b[1;32m     61\u001b[0m     \u001b[0;32mif\u001b[0m \u001b[0mname\u001b[0m \u001b[0;32mis\u001b[0m \u001b[0;32mnot\u001b[0m \u001b[0;32mNone\u001b[0m\u001b[0;34m:\u001b[0m\u001b[0;34m\u001b[0m\u001b[0;34m\u001b[0m\u001b[0m\n",
            "\u001b[0;31mInvalidArgumentError\u001b[0m:  Input to reshape is a tensor with 31212000 values, but the requested shape requires a multiple of 150528\n\t [[node sequential_9/time_distributed_3/Reshape_2\n (defined at /usr/local/lib/python3.7/dist-packages/keras/layers/wrappers.py:342)\n]] [Op:__inference_train_function_73014]\n\nErrors may have originated from an input operation.\nInput Source operations connected to node sequential_9/time_distributed_3/Reshape_2:\nIn[0] IteratorGetNext (defined at /usr/local/lib/python3.7/dist-packages/keras/engine/training.py:866)\t\nIn[1] sequential_9/time_distributed_3/Reshape_2/shape:\n\nOperation defined at: (most recent call last)\n>>>   File \"/usr/lib/python3.7/runpy.py\", line 193, in _run_module_as_main\n>>>     \"__main__\", mod_spec)\n>>> \n>>>   File \"/usr/lib/python3.7/runpy.py\", line 85, in _run_code\n>>>     exec(code, run_globals)\n>>> \n>>>   File \"/usr/local/lib/python3.7/dist-packages/ipykernel_launcher.py\", line 16, in <module>\n>>>     app.launch_new_instance()\n>>> \n>>>   File \"/usr/local/lib/python3.7/dist-packages/traitlets/config/application.py\", line 846, in launch_instance\n>>>     app.start()\n>>> \n>>>   File \"/usr/local/lib/python3.7/dist-packages/ipykernel/kernelapp.py\", line 499, in start\n>>>     self.io_loop.start()\n>>> \n>>>   File \"/usr/local/lib/python3.7/dist-packages/tornado/platform/asyncio.py\", line 132, in start\n>>>     self.asyncio_loop.run_forever()\n>>> \n>>>   File \"/usr/lib/python3.7/asyncio/base_events.py\", line 541, in run_forever\n>>>     self._run_once()\n>>> \n>>>   File \"/usr/lib/python3.7/asyncio/base_events.py\", line 1786, in _run_once\n>>>     handle._run()\n>>> \n>>>   File \"/usr/lib/python3.7/asyncio/events.py\", line 88, in _run\n>>>     self._context.run(self._callback, *self._args)\n>>> \n>>>   File \"/usr/local/lib/python3.7/dist-packages/tornado/platform/asyncio.py\", line 122, in _handle_events\n>>>     handler_func(fileobj, events)\n>>> \n>>>   File \"/usr/local/lib/python3.7/dist-packages/tornado/stack_context.py\", line 300, in null_wrapper\n>>>     return fn(*args, **kwargs)\n>>> \n>>>   File \"/usr/local/lib/python3.7/dist-packages/zmq/eventloop/zmqstream.py\", line 452, in _handle_events\n>>>     self._handle_recv()\n>>> \n>>>   File \"/usr/local/lib/python3.7/dist-packages/zmq/eventloop/zmqstream.py\", line 481, in _handle_recv\n>>>     self._run_callback(callback, msg)\n>>> \n>>>   File \"/usr/local/lib/python3.7/dist-packages/zmq/eventloop/zmqstream.py\", line 431, in _run_callback\n>>>     callback(*args, **kwargs)\n>>> \n>>>   File \"/usr/local/lib/python3.7/dist-packages/tornado/stack_context.py\", line 300, in null_wrapper\n>>>     return fn(*args, **kwargs)\n>>> \n>>>   File \"/usr/local/lib/python3.7/dist-packages/ipykernel/kernelbase.py\", line 283, in dispatcher\n>>>     return self.dispatch_shell(stream, msg)\n>>> \n>>>   File \"/usr/local/lib/python3.7/dist-packages/ipykernel/kernelbase.py\", line 233, in dispatch_shell\n>>>     handler(stream, idents, msg)\n>>> \n>>>   File \"/usr/local/lib/python3.7/dist-packages/ipykernel/kernelbase.py\", line 399, in execute_request\n>>>     user_expressions, allow_stdin)\n>>> \n>>>   File \"/usr/local/lib/python3.7/dist-packages/ipykernel/ipkernel.py\", line 208, in do_execute\n>>>     res = shell.run_cell(code, store_history=store_history, silent=silent)\n>>> \n>>>   File \"/usr/local/lib/python3.7/dist-packages/ipykernel/zmqshell.py\", line 537, in run_cell\n>>>     return super(ZMQInteractiveShell, self).run_cell(*args, **kwargs)\n>>> \n>>>   File \"/usr/local/lib/python3.7/dist-packages/IPython/core/interactiveshell.py\", line 2718, in run_cell\n>>>     interactivity=interactivity, compiler=compiler, result=result)\n>>> \n>>>   File \"/usr/local/lib/python3.7/dist-packages/IPython/core/interactiveshell.py\", line 2828, in run_ast_nodes\n>>>     if self.run_code(code, result):\n>>> \n>>>   File \"/usr/local/lib/python3.7/dist-packages/IPython/core/interactiveshell.py\", line 2882, in run_code\n>>>     exec(code_obj, self.user_global_ns, self.user_ns)\n>>> \n>>>   File \"<ipython-input-63-8161499df3f8>\", line 6, in <module>\n>>>     initial_epoch=0)\n>>> \n>>>   File \"/usr/local/lib/python3.7/dist-packages/keras/engine/training.py\", line 2030, in fit_generator\n>>>     initial_epoch=initial_epoch)\n>>> \n>>>   File \"/usr/local/lib/python3.7/dist-packages/keras/utils/traceback_utils.py\", line 64, in error_handler\n>>>     return fn(*args, **kwargs)\n>>> \n>>>   File \"/usr/local/lib/python3.7/dist-packages/keras/engine/training.py\", line 1216, in fit\n>>>     tmp_logs = self.train_function(iterator)\n>>> \n>>>   File \"/usr/local/lib/python3.7/dist-packages/keras/engine/training.py\", line 878, in train_function\n>>>     return step_function(self, iterator)\n>>> \n>>>   File \"/usr/local/lib/python3.7/dist-packages/keras/engine/training.py\", line 867, in step_function\n>>>     outputs = model.distribute_strategy.run(run_step, args=(data,))\n>>> \n>>>   File \"/usr/local/lib/python3.7/dist-packages/keras/engine/training.py\", line 860, in run_step\n>>>     outputs = model.train_step(data)\n>>> \n>>>   File \"/usr/local/lib/python3.7/dist-packages/keras/engine/training.py\", line 808, in train_step\n>>>     y_pred = self(x, training=True)\n>>> \n>>>   File \"/usr/local/lib/python3.7/dist-packages/keras/utils/traceback_utils.py\", line 64, in error_handler\n>>>     return fn(*args, **kwargs)\n>>> \n>>>   File \"/usr/local/lib/python3.7/dist-packages/keras/engine/base_layer.py\", line 1083, in __call__\n>>>     outputs = call_fn(inputs, *args, **kwargs)\n>>> \n>>>   File \"/usr/local/lib/python3.7/dist-packages/keras/utils/traceback_utils.py\", line 92, in error_handler\n>>>     return fn(*args, **kwargs)\n>>> \n>>>   File \"/usr/local/lib/python3.7/dist-packages/keras/engine/sequential.py\", line 373, in call\n>>>     return super(Sequential, self).call(inputs, training=training, mask=mask)\n>>> \n>>>   File \"/usr/local/lib/python3.7/dist-packages/keras/engine/functional.py\", line 452, in call\n>>>     inputs, training=training, mask=mask)\n>>> \n>>>   File \"/usr/local/lib/python3.7/dist-packages/keras/engine/functional.py\", line 589, in _run_internal_graph\n>>>     outputs = node.layer(*args, **kwargs)\n>>> \n>>>   File \"/usr/local/lib/python3.7/dist-packages/keras/utils/traceback_utils.py\", line 64, in error_handler\n>>>     return fn(*args, **kwargs)\n>>> \n>>>   File \"/usr/local/lib/python3.7/dist-packages/keras/engine/base_layer.py\", line 1088, in __call__\n>>>     self._set_mask_metadata(inputs, outputs, input_masks, not eager)\n>>> \n>>>   File \"/usr/local/lib/python3.7/dist-packages/keras/engine/base_layer.py\", line 2555, in _set_mask_metadata\n>>>     output_masks = self.compute_mask(inputs, previous_mask)\n>>> \n>>>   File \"/usr/local/lib/python3.7/dist-packages/keras/layers/wrappers.py\", line 342, in compute_mask\n>>>     inner_input_shape)\n>>> "
          ]
        }
      ]
    },
    {
      "cell_type": "code",
      "execution_count": null,
      "metadata": {
        "id": "Piv0DlasML9v"
      },
      "outputs": [],
      "source": [
        ""
      ]
    }
  ],
  "metadata": {
    "kernelspec": {
      "display_name": "Python 3",
      "language": "python",
      "name": "python3"
    },
    "language_info": {
      "codemirror_mode": {
        "name": "ipython",
        "version": 3
      },
      "file_extension": ".py",
      "mimetype": "text/x-python",
      "name": "python",
      "nbconvert_exporter": "python",
      "pygments_lexer": "ipython3",
      "version": "3.6.5"
    },
    "colab": {
      "name": "Gesture_Recognition.ipynb",
      "provenance": [],
      "collapsed_sections": [],
      "include_colab_link": true
    },
    "accelerator": "GPU"
  },
  "nbformat": 4,
  "nbformat_minor": 0
}